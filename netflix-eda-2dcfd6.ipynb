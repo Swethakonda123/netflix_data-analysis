{
 "cells": [
  {
   "cell_type": "markdown",
   "metadata": {
    "id": "SAHA55gg8acx"
   },
   "source": [
    "# Defining Problem Statement and Analysing basic metrics"
   ]
  },
  {
   "cell_type": "markdown",
   "metadata": {
    "id": "pGCEK5Z5Qqxw"
   },
   "source": [
    "**About NETFLIX**\n",
    "\n",
    "Netflix is one of the most popular media and video streaming platforms. They have over 10000 movies or tv shows available on their platform, as of mid-2021, they have over 222M Subscribers globally. This tabular dataset consists of listings of all the movies and tv shows available on Netflix, along with details such as - cast, directors, ratings, release year, duration, etc."
   ]
  },
  {
   "cell_type": "markdown",
   "metadata": {
    "id": "LbL92sR3QzQr"
   },
   "source": [
    "**Business Problem**\n",
    "\n",
    "Analyze the data and generate insights that could help Netflix in deciding which type of shows/movies to produce and how they can grow the business in different countries"
   ]
  },
  {
   "cell_type": "markdown",
   "metadata": {
    "id": "J4CrWsrTRHgJ"
   },
   "source": [
    "## Importing the Libraries"
   ]
  },
  {
   "cell_type": "markdown",
   "metadata": {
    "id": "nUW7ig-XRV_b"
   },
   "source": [
    "To analyze this business case we need 4 important libraries of python\n",
    "\n",
    "1. **numpy :** Used to analyze multidimensional arrays and provide mathematical functions that operate on these arrays efficently.\n",
    "\n",
    "2. **pandas:** Powerful data analysis and manipulation library for Python.\n",
    "\n",
    "3. **matplotlib.pyplot**: Python Data Visualisation Library.\n",
    "\n",
    "4. **seaborn**: Data visualisation library based on matplotlib used to create attractive and informative visualisation\n",
    "\n",
    "\n"
   ]
  },
  {
   "cell_type": "code",
   "execution_count": 111,
   "metadata": {
    "executionInfo": {
     "elapsed": 1085,
     "status": "ok",
     "timestamp": 1688446300550,
     "user": {
      "displayName": "Rahul Hipparkar",
      "userId": "05812361921738235335"
     },
     "user_tz": -330
    },
    "id": "YEY7IZEPORAO"
   },
   "outputs": [],
   "source": [
    "import numpy as np\n",
    "import pandas as pd\n",
    "import matplotlib.pyplot as plt\n",
    "import seaborn as sns\n",
    "from scipy import stats"
   ]
  },
  {
   "cell_type": "markdown",
   "metadata": {
    "id": "ywlRVtZKTEBe"
   },
   "source": [
    "## Importing the Dataset"
   ]
  },
  {
   "cell_type": "markdown",
   "metadata": {
    "id": "ikJLnQ3jTP7y"
   },
   "source": [
    "Using read_csv() we can import dataset in Google Colab or Jupyter notebook"
   ]
  },
  {
   "cell_type": "code",
   "execution_count": 112,
   "metadata": {
    "executionInfo": {
     "elapsed": 12,
     "status": "ok",
     "timestamp": 1688446300551,
     "user": {
      "displayName": "Rahul Hipparkar",
      "userId": "05812361921738235335"
     },
     "user_tz": -330
    },
    "id": "GMMi7qYXTHqt"
   },
   "outputs": [],
   "source": [
    "data=pd.read_csv('netflix.csv')"
   ]
  },
  {
   "cell_type": "code",
   "execution_count": 113,
   "metadata": {
    "executionInfo": {
     "elapsed": 12,
     "status": "ok",
     "timestamp": 1688446300552,
     "user": {
      "displayName": "Rahul Hipparkar",
      "userId": "05812361921738235335"
     },
     "user_tz": -330
    },
    "id": "Eay05MmaThks",
    "outputId": "bcd175c5-c997-4302-b446-09f98568c242"
   },
   "outputs": [
    {
     "data": {
      "text/html": [
       "<div>\n",
       "<style scoped>\n",
       "    .dataframe tbody tr th:only-of-type {\n",
       "        vertical-align: middle;\n",
       "    }\n",
       "\n",
       "    .dataframe tbody tr th {\n",
       "        vertical-align: top;\n",
       "    }\n",
       "\n",
       "    .dataframe thead th {\n",
       "        text-align: right;\n",
       "    }\n",
       "</style>\n",
       "<table border=\"1\" class=\"dataframe\">\n",
       "  <thead>\n",
       "    <tr style=\"text-align: right;\">\n",
       "      <th></th>\n",
       "      <th>show_id</th>\n",
       "      <th>type</th>\n",
       "      <th>title</th>\n",
       "      <th>director</th>\n",
       "      <th>cast</th>\n",
       "      <th>country</th>\n",
       "      <th>date_added</th>\n",
       "      <th>release_year</th>\n",
       "      <th>rating</th>\n",
       "      <th>duration</th>\n",
       "      <th>listed_in</th>\n",
       "      <th>description</th>\n",
       "    </tr>\n",
       "  </thead>\n",
       "  <tbody>\n",
       "    <tr>\n",
       "      <th>0</th>\n",
       "      <td>s1</td>\n",
       "      <td>Movie</td>\n",
       "      <td>Dick Johnson Is Dead</td>\n",
       "      <td>Kirsten Johnson</td>\n",
       "      <td>NaN</td>\n",
       "      <td>United States</td>\n",
       "      <td>September 25, 2021</td>\n",
       "      <td>2020</td>\n",
       "      <td>PG-13</td>\n",
       "      <td>90 min</td>\n",
       "      <td>Documentaries</td>\n",
       "      <td>As her father nears the end of his life, filmm...</td>\n",
       "    </tr>\n",
       "    <tr>\n",
       "      <th>1</th>\n",
       "      <td>s2</td>\n",
       "      <td>TV Show</td>\n",
       "      <td>Blood &amp; Water</td>\n",
       "      <td>NaN</td>\n",
       "      <td>Ama Qamata, Khosi Ngema, Gail Mabalane, Thaban...</td>\n",
       "      <td>South Africa</td>\n",
       "      <td>September 24, 2021</td>\n",
       "      <td>2021</td>\n",
       "      <td>TV-MA</td>\n",
       "      <td>2 Seasons</td>\n",
       "      <td>International TV Shows, TV Dramas, TV Mysteries</td>\n",
       "      <td>After crossing paths at a party, a Cape Town t...</td>\n",
       "    </tr>\n",
       "    <tr>\n",
       "      <th>2</th>\n",
       "      <td>s3</td>\n",
       "      <td>TV Show</td>\n",
       "      <td>Ganglands</td>\n",
       "      <td>Julien Leclercq</td>\n",
       "      <td>Sami Bouajila, Tracy Gotoas, Samuel Jouy, Nabi...</td>\n",
       "      <td>NaN</td>\n",
       "      <td>September 24, 2021</td>\n",
       "      <td>2021</td>\n",
       "      <td>TV-MA</td>\n",
       "      <td>1 Season</td>\n",
       "      <td>Crime TV Shows, International TV Shows, TV Act...</td>\n",
       "      <td>To protect his family from a powerful drug lor...</td>\n",
       "    </tr>\n",
       "    <tr>\n",
       "      <th>3</th>\n",
       "      <td>s4</td>\n",
       "      <td>TV Show</td>\n",
       "      <td>Jailbirds New Orleans</td>\n",
       "      <td>NaN</td>\n",
       "      <td>NaN</td>\n",
       "      <td>NaN</td>\n",
       "      <td>September 24, 2021</td>\n",
       "      <td>2021</td>\n",
       "      <td>TV-MA</td>\n",
       "      <td>1 Season</td>\n",
       "      <td>Docuseries, Reality TV</td>\n",
       "      <td>Feuds, flirtations and toilet talk go down amo...</td>\n",
       "    </tr>\n",
       "    <tr>\n",
       "      <th>4</th>\n",
       "      <td>s5</td>\n",
       "      <td>TV Show</td>\n",
       "      <td>Kota Factory</td>\n",
       "      <td>NaN</td>\n",
       "      <td>Mayur More, Jitendra Kumar, Ranjan Raj, Alam K...</td>\n",
       "      <td>India</td>\n",
       "      <td>September 24, 2021</td>\n",
       "      <td>2021</td>\n",
       "      <td>TV-MA</td>\n",
       "      <td>2 Seasons</td>\n",
       "      <td>International TV Shows, Romantic TV Shows, TV ...</td>\n",
       "      <td>In a city of coaching centers known to train I...</td>\n",
       "    </tr>\n",
       "    <tr>\n",
       "      <th>...</th>\n",
       "      <td>...</td>\n",
       "      <td>...</td>\n",
       "      <td>...</td>\n",
       "      <td>...</td>\n",
       "      <td>...</td>\n",
       "      <td>...</td>\n",
       "      <td>...</td>\n",
       "      <td>...</td>\n",
       "      <td>...</td>\n",
       "      <td>...</td>\n",
       "      <td>...</td>\n",
       "      <td>...</td>\n",
       "    </tr>\n",
       "    <tr>\n",
       "      <th>8802</th>\n",
       "      <td>s8803</td>\n",
       "      <td>Movie</td>\n",
       "      <td>Zodiac</td>\n",
       "      <td>David Fincher</td>\n",
       "      <td>Mark Ruffalo, Jake Gyllenhaal, Robert Downey J...</td>\n",
       "      <td>United States</td>\n",
       "      <td>November 20, 2019</td>\n",
       "      <td>2007</td>\n",
       "      <td>R</td>\n",
       "      <td>158 min</td>\n",
       "      <td>Cult Movies, Dramas, Thrillers</td>\n",
       "      <td>A political cartoonist, a crime reporter and a...</td>\n",
       "    </tr>\n",
       "    <tr>\n",
       "      <th>8803</th>\n",
       "      <td>s8804</td>\n",
       "      <td>TV Show</td>\n",
       "      <td>Zombie Dumb</td>\n",
       "      <td>NaN</td>\n",
       "      <td>NaN</td>\n",
       "      <td>NaN</td>\n",
       "      <td>July 1, 2019</td>\n",
       "      <td>2018</td>\n",
       "      <td>TV-Y7</td>\n",
       "      <td>2 Seasons</td>\n",
       "      <td>Kids' TV, Korean TV Shows, TV Comedies</td>\n",
       "      <td>While living alone in a spooky town, a young g...</td>\n",
       "    </tr>\n",
       "    <tr>\n",
       "      <th>8804</th>\n",
       "      <td>s8805</td>\n",
       "      <td>Movie</td>\n",
       "      <td>Zombieland</td>\n",
       "      <td>Ruben Fleischer</td>\n",
       "      <td>Jesse Eisenberg, Woody Harrelson, Emma Stone, ...</td>\n",
       "      <td>United States</td>\n",
       "      <td>November 1, 2019</td>\n",
       "      <td>2009</td>\n",
       "      <td>R</td>\n",
       "      <td>88 min</td>\n",
       "      <td>Comedies, Horror Movies</td>\n",
       "      <td>Looking to survive in a world taken over by zo...</td>\n",
       "    </tr>\n",
       "    <tr>\n",
       "      <th>8805</th>\n",
       "      <td>s8806</td>\n",
       "      <td>Movie</td>\n",
       "      <td>Zoom</td>\n",
       "      <td>Peter Hewitt</td>\n",
       "      <td>Tim Allen, Courteney Cox, Chevy Chase, Kate Ma...</td>\n",
       "      <td>United States</td>\n",
       "      <td>January 11, 2020</td>\n",
       "      <td>2006</td>\n",
       "      <td>PG</td>\n",
       "      <td>88 min</td>\n",
       "      <td>Children &amp; Family Movies, Comedies</td>\n",
       "      <td>Dragged from civilian life, a former superhero...</td>\n",
       "    </tr>\n",
       "    <tr>\n",
       "      <th>8806</th>\n",
       "      <td>s8807</td>\n",
       "      <td>Movie</td>\n",
       "      <td>Zubaan</td>\n",
       "      <td>Mozez Singh</td>\n",
       "      <td>Vicky Kaushal, Sarah-Jane Dias, Raaghav Chanan...</td>\n",
       "      <td>India</td>\n",
       "      <td>March 2, 2019</td>\n",
       "      <td>2015</td>\n",
       "      <td>TV-14</td>\n",
       "      <td>111 min</td>\n",
       "      <td>Dramas, International Movies, Music &amp; Musicals</td>\n",
       "      <td>A scrappy but poor boy worms his way into a ty...</td>\n",
       "    </tr>\n",
       "  </tbody>\n",
       "</table>\n",
       "<p>8807 rows × 12 columns</p>\n",
       "</div>"
      ],
      "text/plain": [
       "     show_id     type                  title         director  \\\n",
       "0         s1    Movie   Dick Johnson Is Dead  Kirsten Johnson   \n",
       "1         s2  TV Show          Blood & Water              NaN   \n",
       "2         s3  TV Show              Ganglands  Julien Leclercq   \n",
       "3         s4  TV Show  Jailbirds New Orleans              NaN   \n",
       "4         s5  TV Show           Kota Factory              NaN   \n",
       "...      ...      ...                    ...              ...   \n",
       "8802   s8803    Movie                 Zodiac    David Fincher   \n",
       "8803   s8804  TV Show            Zombie Dumb              NaN   \n",
       "8804   s8805    Movie             Zombieland  Ruben Fleischer   \n",
       "8805   s8806    Movie                   Zoom     Peter Hewitt   \n",
       "8806   s8807    Movie                 Zubaan      Mozez Singh   \n",
       "\n",
       "                                                   cast        country  \\\n",
       "0                                                   NaN  United States   \n",
       "1     Ama Qamata, Khosi Ngema, Gail Mabalane, Thaban...   South Africa   \n",
       "2     Sami Bouajila, Tracy Gotoas, Samuel Jouy, Nabi...            NaN   \n",
       "3                                                   NaN            NaN   \n",
       "4     Mayur More, Jitendra Kumar, Ranjan Raj, Alam K...          India   \n",
       "...                                                 ...            ...   \n",
       "8802  Mark Ruffalo, Jake Gyllenhaal, Robert Downey J...  United States   \n",
       "8803                                                NaN            NaN   \n",
       "8804  Jesse Eisenberg, Woody Harrelson, Emma Stone, ...  United States   \n",
       "8805  Tim Allen, Courteney Cox, Chevy Chase, Kate Ma...  United States   \n",
       "8806  Vicky Kaushal, Sarah-Jane Dias, Raaghav Chanan...          India   \n",
       "\n",
       "              date_added  release_year rating   duration  \\\n",
       "0     September 25, 2021          2020  PG-13     90 min   \n",
       "1     September 24, 2021          2021  TV-MA  2 Seasons   \n",
       "2     September 24, 2021          2021  TV-MA   1 Season   \n",
       "3     September 24, 2021          2021  TV-MA   1 Season   \n",
       "4     September 24, 2021          2021  TV-MA  2 Seasons   \n",
       "...                  ...           ...    ...        ...   \n",
       "8802   November 20, 2019          2007      R    158 min   \n",
       "8803        July 1, 2019          2018  TV-Y7  2 Seasons   \n",
       "8804    November 1, 2019          2009      R     88 min   \n",
       "8805    January 11, 2020          2006     PG     88 min   \n",
       "8806       March 2, 2019          2015  TV-14    111 min   \n",
       "\n",
       "                                              listed_in  \\\n",
       "0                                         Documentaries   \n",
       "1       International TV Shows, TV Dramas, TV Mysteries   \n",
       "2     Crime TV Shows, International TV Shows, TV Act...   \n",
       "3                                Docuseries, Reality TV   \n",
       "4     International TV Shows, Romantic TV Shows, TV ...   \n",
       "...                                                 ...   \n",
       "8802                     Cult Movies, Dramas, Thrillers   \n",
       "8803             Kids' TV, Korean TV Shows, TV Comedies   \n",
       "8804                            Comedies, Horror Movies   \n",
       "8805                 Children & Family Movies, Comedies   \n",
       "8806     Dramas, International Movies, Music & Musicals   \n",
       "\n",
       "                                            description  \n",
       "0     As her father nears the end of his life, filmm...  \n",
       "1     After crossing paths at a party, a Cape Town t...  \n",
       "2     To protect his family from a powerful drug lor...  \n",
       "3     Feuds, flirtations and toilet talk go down amo...  \n",
       "4     In a city of coaching centers known to train I...  \n",
       "...                                                 ...  \n",
       "8802  A political cartoonist, a crime reporter and a...  \n",
       "8803  While living alone in a spooky town, a young g...  \n",
       "8804  Looking to survive in a world taken over by zo...  \n",
       "8805  Dragged from civilian life, a former superhero...  \n",
       "8806  A scrappy but poor boy worms his way into a ty...  \n",
       "\n",
       "[8807 rows x 12 columns]"
      ]
     },
     "execution_count": 113,
     "metadata": {},
     "output_type": "execute_result"
    }
   ],
   "source": [
    "data"
   ]
  },
  {
   "cell_type": "markdown",
   "metadata": {
    "id": "r9elpKtjEcQk"
   },
   "source": [
    "## Basic Analysis:\n",
    "Observations on the shape of data, data types of all the attributes, conversion of categorical attributes to 'category' (If required), missing value detection, statistical summary"
   ]
  },
  {
   "cell_type": "code",
   "execution_count": null,
   "metadata": {},
   "outputs": [],
   "source": []
  },
  {
   "cell_type": "markdown",
   "metadata": {
    "id": "Gmr_mjnIBsUx"
   },
   "source": [
    "### Shape of Data"
   ]
  },
  {
   "cell_type": "code",
   "execution_count": 114,
   "metadata": {
    "executionInfo": {
     "elapsed": 1065,
     "status": "ok",
     "timestamp": 1688446301607,
     "user": {
      "displayName": "Rahul Hipparkar",
      "userId": "05812361921738235335"
     },
     "user_tz": -330
    },
    "id": "1HKLt2oKBwZY",
    "outputId": "ca799b6e-483d-41db-e7b4-8a3e343396f1"
   },
   "outputs": [
    {
     "data": {
      "text/plain": [
       "(8807, 12)"
      ]
     },
     "execution_count": 114,
     "metadata": {},
     "output_type": "execute_result"
    }
   ],
   "source": [
    "data.shape"
   ]
  },
  {
   "cell_type": "markdown",
   "metadata": {
    "id": "7yHppuUmB0f_"
   },
   "source": [
    "Analysis:\n",
    "Shape of the Dataframe is 8807*12 which means it contains 8807 rows and 12 columns"
   ]
  },
  {
   "cell_type": "markdown",
   "metadata": {
    "id": "MbGrgPGdbJLR"
   },
   "source": [
    "### Columns in a DataFrame"
   ]
  },
  {
   "cell_type": "code",
   "execution_count": 115,
   "metadata": {
    "executionInfo": {
     "elapsed": 57,
     "status": "ok",
     "timestamp": 1688446301608,
     "user": {
      "displayName": "Rahul Hipparkar",
      "userId": "05812361921738235335"
     },
     "user_tz": -330
    },
    "id": "ZTbfD1SS-BIC",
    "outputId": "a0617f21-46b8-47bf-824f-7831f50d50e2"
   },
   "outputs": [
    {
     "data": {
      "text/plain": [
       "Index(['show_id', 'type', 'title', 'director', 'cast', 'country', 'date_added',\n",
       "       'release_year', 'rating', 'duration', 'listed_in', 'description'],\n",
       "      dtype='object')"
      ]
     },
     "execution_count": 115,
     "metadata": {},
     "output_type": "execute_result"
    }
   ],
   "source": [
    "data.columns"
   ]
  },
  {
   "cell_type": "markdown",
   "metadata": {
    "id": "mx_sMJim9pPk"
   },
   "source": [
    "### First 5 rows"
   ]
  },
  {
   "cell_type": "code",
   "execution_count": 116,
   "metadata": {
    "executionInfo": {
     "elapsed": 55,
     "status": "ok",
     "timestamp": 1688446301608,
     "user": {
      "displayName": "Rahul Hipparkar",
      "userId": "05812361921738235335"
     },
     "user_tz": -330
    },
    "id": "oRVogzLq9Suw",
    "outputId": "f79f5882-13d7-47f1-bb6c-d88af87cecd2"
   },
   "outputs": [
    {
     "data": {
      "text/html": [
       "<div>\n",
       "<style scoped>\n",
       "    .dataframe tbody tr th:only-of-type {\n",
       "        vertical-align: middle;\n",
       "    }\n",
       "\n",
       "    .dataframe tbody tr th {\n",
       "        vertical-align: top;\n",
       "    }\n",
       "\n",
       "    .dataframe thead th {\n",
       "        text-align: right;\n",
       "    }\n",
       "</style>\n",
       "<table border=\"1\" class=\"dataframe\">\n",
       "  <thead>\n",
       "    <tr style=\"text-align: right;\">\n",
       "      <th></th>\n",
       "      <th>show_id</th>\n",
       "      <th>type</th>\n",
       "      <th>title</th>\n",
       "      <th>director</th>\n",
       "      <th>cast</th>\n",
       "      <th>country</th>\n",
       "      <th>date_added</th>\n",
       "      <th>release_year</th>\n",
       "      <th>rating</th>\n",
       "      <th>duration</th>\n",
       "      <th>listed_in</th>\n",
       "      <th>description</th>\n",
       "    </tr>\n",
       "  </thead>\n",
       "  <tbody>\n",
       "    <tr>\n",
       "      <th>0</th>\n",
       "      <td>s1</td>\n",
       "      <td>Movie</td>\n",
       "      <td>Dick Johnson Is Dead</td>\n",
       "      <td>Kirsten Johnson</td>\n",
       "      <td>NaN</td>\n",
       "      <td>United States</td>\n",
       "      <td>September 25, 2021</td>\n",
       "      <td>2020</td>\n",
       "      <td>PG-13</td>\n",
       "      <td>90 min</td>\n",
       "      <td>Documentaries</td>\n",
       "      <td>As her father nears the end of his life, filmm...</td>\n",
       "    </tr>\n",
       "    <tr>\n",
       "      <th>1</th>\n",
       "      <td>s2</td>\n",
       "      <td>TV Show</td>\n",
       "      <td>Blood &amp; Water</td>\n",
       "      <td>NaN</td>\n",
       "      <td>Ama Qamata, Khosi Ngema, Gail Mabalane, Thaban...</td>\n",
       "      <td>South Africa</td>\n",
       "      <td>September 24, 2021</td>\n",
       "      <td>2021</td>\n",
       "      <td>TV-MA</td>\n",
       "      <td>2 Seasons</td>\n",
       "      <td>International TV Shows, TV Dramas, TV Mysteries</td>\n",
       "      <td>After crossing paths at a party, a Cape Town t...</td>\n",
       "    </tr>\n",
       "    <tr>\n",
       "      <th>2</th>\n",
       "      <td>s3</td>\n",
       "      <td>TV Show</td>\n",
       "      <td>Ganglands</td>\n",
       "      <td>Julien Leclercq</td>\n",
       "      <td>Sami Bouajila, Tracy Gotoas, Samuel Jouy, Nabi...</td>\n",
       "      <td>NaN</td>\n",
       "      <td>September 24, 2021</td>\n",
       "      <td>2021</td>\n",
       "      <td>TV-MA</td>\n",
       "      <td>1 Season</td>\n",
       "      <td>Crime TV Shows, International TV Shows, TV Act...</td>\n",
       "      <td>To protect his family from a powerful drug lor...</td>\n",
       "    </tr>\n",
       "    <tr>\n",
       "      <th>3</th>\n",
       "      <td>s4</td>\n",
       "      <td>TV Show</td>\n",
       "      <td>Jailbirds New Orleans</td>\n",
       "      <td>NaN</td>\n",
       "      <td>NaN</td>\n",
       "      <td>NaN</td>\n",
       "      <td>September 24, 2021</td>\n",
       "      <td>2021</td>\n",
       "      <td>TV-MA</td>\n",
       "      <td>1 Season</td>\n",
       "      <td>Docuseries, Reality TV</td>\n",
       "      <td>Feuds, flirtations and toilet talk go down amo...</td>\n",
       "    </tr>\n",
       "    <tr>\n",
       "      <th>4</th>\n",
       "      <td>s5</td>\n",
       "      <td>TV Show</td>\n",
       "      <td>Kota Factory</td>\n",
       "      <td>NaN</td>\n",
       "      <td>Mayur More, Jitendra Kumar, Ranjan Raj, Alam K...</td>\n",
       "      <td>India</td>\n",
       "      <td>September 24, 2021</td>\n",
       "      <td>2021</td>\n",
       "      <td>TV-MA</td>\n",
       "      <td>2 Seasons</td>\n",
       "      <td>International TV Shows, Romantic TV Shows, TV ...</td>\n",
       "      <td>In a city of coaching centers known to train I...</td>\n",
       "    </tr>\n",
       "  </tbody>\n",
       "</table>\n",
       "</div>"
      ],
      "text/plain": [
       "  show_id     type                  title         director  \\\n",
       "0      s1    Movie   Dick Johnson Is Dead  Kirsten Johnson   \n",
       "1      s2  TV Show          Blood & Water              NaN   \n",
       "2      s3  TV Show              Ganglands  Julien Leclercq   \n",
       "3      s4  TV Show  Jailbirds New Orleans              NaN   \n",
       "4      s5  TV Show           Kota Factory              NaN   \n",
       "\n",
       "                                                cast        country  \\\n",
       "0                                                NaN  United States   \n",
       "1  Ama Qamata, Khosi Ngema, Gail Mabalane, Thaban...   South Africa   \n",
       "2  Sami Bouajila, Tracy Gotoas, Samuel Jouy, Nabi...            NaN   \n",
       "3                                                NaN            NaN   \n",
       "4  Mayur More, Jitendra Kumar, Ranjan Raj, Alam K...          India   \n",
       "\n",
       "           date_added  release_year rating   duration  \\\n",
       "0  September 25, 2021          2020  PG-13     90 min   \n",
       "1  September 24, 2021          2021  TV-MA  2 Seasons   \n",
       "2  September 24, 2021          2021  TV-MA   1 Season   \n",
       "3  September 24, 2021          2021  TV-MA   1 Season   \n",
       "4  September 24, 2021          2021  TV-MA  2 Seasons   \n",
       "\n",
       "                                           listed_in  \\\n",
       "0                                      Documentaries   \n",
       "1    International TV Shows, TV Dramas, TV Mysteries   \n",
       "2  Crime TV Shows, International TV Shows, TV Act...   \n",
       "3                             Docuseries, Reality TV   \n",
       "4  International TV Shows, Romantic TV Shows, TV ...   \n",
       "\n",
       "                                         description  \n",
       "0  As her father nears the end of his life, filmm...  \n",
       "1  After crossing paths at a party, a Cape Town t...  \n",
       "2  To protect his family from a powerful drug lor...  \n",
       "3  Feuds, flirtations and toilet talk go down amo...  \n",
       "4  In a city of coaching centers known to train I...  "
      ]
     },
     "execution_count": 116,
     "metadata": {},
     "output_type": "execute_result"
    }
   ],
   "source": [
    "data.head(5)"
   ]
  },
  {
   "cell_type": "markdown",
   "metadata": {
    "id": "jaP2JCbkFj3I"
   },
   "source": [
    "**Analysis**:\n",
    "\n",
    "1.  'cast','country'and'listed_in'  are nested columns.\n",
    "2. There are missing values in columns like 'country','cast','director'.\n",
    "3.'date_added' is a object (string) type column.\n"
   ]
  },
  {
   "cell_type": "markdown",
   "metadata": {
    "id": "Vg0ngb92Ic9a"
   },
   "source": [
    "### Data-type of all attributes(columns)"
   ]
  },
  {
   "cell_type": "markdown",
   "metadata": {
    "id": "OTSAWwjdMI30"
   },
   "source": [
    "**info()** method returns a concise summary of a DataFrame, including information about the data types, memory usage, and the number of non-null values in each column."
   ]
  },
  {
   "cell_type": "code",
   "execution_count": 117,
   "metadata": {
    "executionInfo": {
     "elapsed": 55,
     "status": "ok",
     "timestamp": 1688446301609,
     "user": {
      "displayName": "Rahul Hipparkar",
      "userId": "05812361921738235335"
     },
     "user_tz": -330
    },
    "id": "7_1AxM86IjRl",
    "outputId": "207e91cb-14c4-4efe-b657-786feb38f96b"
   },
   "outputs": [
    {
     "name": "stdout",
     "output_type": "stream",
     "text": [
      "<class 'pandas.core.frame.DataFrame'>\n",
      "RangeIndex: 8807 entries, 0 to 8806\n",
      "Data columns (total 12 columns):\n",
      " #   Column        Non-Null Count  Dtype \n",
      "---  ------        --------------  ----- \n",
      " 0   show_id       8807 non-null   object\n",
      " 1   type          8807 non-null   object\n",
      " 2   title         8807 non-null   object\n",
      " 3   director      6173 non-null   object\n",
      " 4   cast          7982 non-null   object\n",
      " 5   country       7976 non-null   object\n",
      " 6   date_added    8797 non-null   object\n",
      " 7   release_year  8807 non-null   int64 \n",
      " 8   rating        8803 non-null   object\n",
      " 9   duration      8804 non-null   object\n",
      " 10  listed_in     8807 non-null   object\n",
      " 11  description   8807 non-null   object\n",
      "dtypes: int64(1), object(11)\n",
      "memory usage: 825.8+ KB\n"
     ]
    }
   ],
   "source": [
    "data.info()"
   ]
  },
  {
   "cell_type": "markdown",
   "metadata": {
    "id": "G6UxzFjPMXki"
   },
   "source": [
    "**Analysis:**\n",
    "\n",
    "1. All columns in a dataframe are of object-type except 'release_year'.\n",
    "2. No. of int64 columns=1, No. of object-type columns=11\n",
    "3. List of columns that contains missing values:\n",
    "       a.cast\n",
    "       b.director\n",
    "       c.country\n",
    "       d.date_added\n",
    "4. Memory usage by datframe is 825.8 KB approx"
   ]
  },
  {
   "cell_type": "markdown",
   "metadata": {
    "id": "i7uwo3IDPVcd"
   },
   "source": [
    "### Statistical summary"
   ]
  },
  {
   "cell_type": "markdown",
   "metadata": {
    "id": "_P5JeD4nWXdM"
   },
   "source": [
    " **Statistical summary of Numeric-column**"
   ]
  },
  {
   "cell_type": "code",
   "execution_count": 118,
   "metadata": {
    "executionInfo": {
     "elapsed": 51,
     "status": "ok",
     "timestamp": 1688446301609,
     "user": {
      "displayName": "Rahul Hipparkar",
      "userId": "05812361921738235335"
     },
     "user_tz": -330
    },
    "id": "70NiH1aWPTK1",
    "outputId": "e0acfa57-bbbc-4b1c-f04b-3509276a9c1f"
   },
   "outputs": [
    {
     "data": {
      "text/html": [
       "<div>\n",
       "<style scoped>\n",
       "    .dataframe tbody tr th:only-of-type {\n",
       "        vertical-align: middle;\n",
       "    }\n",
       "\n",
       "    .dataframe tbody tr th {\n",
       "        vertical-align: top;\n",
       "    }\n",
       "\n",
       "    .dataframe thead th {\n",
       "        text-align: right;\n",
       "    }\n",
       "</style>\n",
       "<table border=\"1\" class=\"dataframe\">\n",
       "  <thead>\n",
       "    <tr style=\"text-align: right;\">\n",
       "      <th></th>\n",
       "      <th>count</th>\n",
       "      <th>mean</th>\n",
       "      <th>std</th>\n",
       "      <th>min</th>\n",
       "      <th>25%</th>\n",
       "      <th>50%</th>\n",
       "      <th>75%</th>\n",
       "      <th>max</th>\n",
       "    </tr>\n",
       "  </thead>\n",
       "  <tbody>\n",
       "    <tr>\n",
       "      <th>release_year</th>\n",
       "      <td>8807.0</td>\n",
       "      <td>2014.180198</td>\n",
       "      <td>8.819312</td>\n",
       "      <td>1925.0</td>\n",
       "      <td>2013.0</td>\n",
       "      <td>2017.0</td>\n",
       "      <td>2019.0</td>\n",
       "      <td>2021.0</td>\n",
       "    </tr>\n",
       "  </tbody>\n",
       "</table>\n",
       "</div>"
      ],
      "text/plain": [
       "               count         mean       std     min     25%     50%     75%  \\\n",
       "release_year  8807.0  2014.180198  8.819312  1925.0  2013.0  2017.0  2019.0   \n",
       "\n",
       "                 max  \n",
       "release_year  2021.0  "
      ]
     },
     "execution_count": 118,
     "metadata": {},
     "output_type": "execute_result"
    }
   ],
   "source": [
    "data.describe().T"
   ]
  },
  {
   "cell_type": "markdown",
   "metadata": {
    "id": "uYHvvblqW6MH"
   },
   "source": [
    "**Statistical summary of object columns**"
   ]
  },
  {
   "cell_type": "code",
   "execution_count": 119,
   "metadata": {
    "executionInfo": {
     "elapsed": 51,
     "status": "ok",
     "timestamp": 1688446301610,
     "user": {
      "displayName": "Rahul Hipparkar",
      "userId": "05812361921738235335"
     },
     "user_tz": -330
    },
    "id": "hGrxuF-lOp_J",
    "outputId": "bdb5fb5d-b664-4ef4-8e7b-95e6c5a83de8"
   },
   "outputs": [
    {
     "data": {
      "text/html": [
       "<div>\n",
       "<style scoped>\n",
       "    .dataframe tbody tr th:only-of-type {\n",
       "        vertical-align: middle;\n",
       "    }\n",
       "\n",
       "    .dataframe tbody tr th {\n",
       "        vertical-align: top;\n",
       "    }\n",
       "\n",
       "    .dataframe thead th {\n",
       "        text-align: right;\n",
       "    }\n",
       "</style>\n",
       "<table border=\"1\" class=\"dataframe\">\n",
       "  <thead>\n",
       "    <tr style=\"text-align: right;\">\n",
       "      <th></th>\n",
       "      <th>count</th>\n",
       "      <th>unique</th>\n",
       "      <th>top</th>\n",
       "      <th>freq</th>\n",
       "    </tr>\n",
       "  </thead>\n",
       "  <tbody>\n",
       "    <tr>\n",
       "      <th>show_id</th>\n",
       "      <td>8807</td>\n",
       "      <td>8807</td>\n",
       "      <td>s1</td>\n",
       "      <td>1</td>\n",
       "    </tr>\n",
       "    <tr>\n",
       "      <th>type</th>\n",
       "      <td>8807</td>\n",
       "      <td>2</td>\n",
       "      <td>Movie</td>\n",
       "      <td>6131</td>\n",
       "    </tr>\n",
       "    <tr>\n",
       "      <th>title</th>\n",
       "      <td>8807</td>\n",
       "      <td>8807</td>\n",
       "      <td>Dick Johnson Is Dead</td>\n",
       "      <td>1</td>\n",
       "    </tr>\n",
       "    <tr>\n",
       "      <th>director</th>\n",
       "      <td>6173</td>\n",
       "      <td>4528</td>\n",
       "      <td>Rajiv Chilaka</td>\n",
       "      <td>19</td>\n",
       "    </tr>\n",
       "    <tr>\n",
       "      <th>cast</th>\n",
       "      <td>7982</td>\n",
       "      <td>7692</td>\n",
       "      <td>David Attenborough</td>\n",
       "      <td>19</td>\n",
       "    </tr>\n",
       "    <tr>\n",
       "      <th>country</th>\n",
       "      <td>7976</td>\n",
       "      <td>748</td>\n",
       "      <td>United States</td>\n",
       "      <td>2818</td>\n",
       "    </tr>\n",
       "    <tr>\n",
       "      <th>date_added</th>\n",
       "      <td>8797</td>\n",
       "      <td>1767</td>\n",
       "      <td>January 1, 2020</td>\n",
       "      <td>109</td>\n",
       "    </tr>\n",
       "    <tr>\n",
       "      <th>rating</th>\n",
       "      <td>8803</td>\n",
       "      <td>17</td>\n",
       "      <td>TV-MA</td>\n",
       "      <td>3207</td>\n",
       "    </tr>\n",
       "    <tr>\n",
       "      <th>duration</th>\n",
       "      <td>8804</td>\n",
       "      <td>220</td>\n",
       "      <td>1 Season</td>\n",
       "      <td>1793</td>\n",
       "    </tr>\n",
       "    <tr>\n",
       "      <th>listed_in</th>\n",
       "      <td>8807</td>\n",
       "      <td>514</td>\n",
       "      <td>Dramas, International Movies</td>\n",
       "      <td>362</td>\n",
       "    </tr>\n",
       "    <tr>\n",
       "      <th>description</th>\n",
       "      <td>8807</td>\n",
       "      <td>8775</td>\n",
       "      <td>Paranormal activity at a lush, abandoned prope...</td>\n",
       "      <td>4</td>\n",
       "    </tr>\n",
       "  </tbody>\n",
       "</table>\n",
       "</div>"
      ],
      "text/plain": [
       "            count unique                                                top  \\\n",
       "show_id      8807   8807                                                 s1   \n",
       "type         8807      2                                              Movie   \n",
       "title        8807   8807                               Dick Johnson Is Dead   \n",
       "director     6173   4528                                      Rajiv Chilaka   \n",
       "cast         7982   7692                                 David Attenborough   \n",
       "country      7976    748                                      United States   \n",
       "date_added   8797   1767                                    January 1, 2020   \n",
       "rating       8803     17                                              TV-MA   \n",
       "duration     8804    220                                           1 Season   \n",
       "listed_in    8807    514                       Dramas, International Movies   \n",
       "description  8807   8775  Paranormal activity at a lush, abandoned prope...   \n",
       "\n",
       "             freq  \n",
       "show_id         1  \n",
       "type         6131  \n",
       "title           1  \n",
       "director       19  \n",
       "cast           19  \n",
       "country      2818  \n",
       "date_added    109  \n",
       "rating       3207  \n",
       "duration     1793  \n",
       "listed_in     362  \n",
       "description     4  "
      ]
     },
     "execution_count": 119,
     "metadata": {},
     "output_type": "execute_result"
    }
   ],
   "source": [
    "#Transpose the data frame to get the total entries,unique type for each col such as type has two categories movie and season\n",
    "data.describe(include=object).T"
   ]
  },
  {
   "cell_type": "markdown",
   "metadata": {
    "id": "1mZlNdOY92me"
   },
   "source": []
  },
  {
   "cell_type": "markdown",
   "metadata": {
    "id": "X4DHVE4lFXB_"
   },
   "source": [
    "# Non-Visual Analysis:Value counts and Unique attributes"
   ]
  },
  {
   "cell_type": "markdown",
   "metadata": {
    "id": "jz_NPTteFhxB"
   },
   "source": [
    "## Type column"
   ]
  },
  {
   "cell_type": "markdown",
   "metadata": {
    "id": "uPW5tt4aL5uk"
   },
   "source": [
    "**Unique**"
   ]
  },
  {
   "cell_type": "code",
   "execution_count": 120,
   "metadata": {
    "executionInfo": {
     "elapsed": 50,
     "status": "ok",
     "timestamp": 1688446301610,
     "user": {
      "displayName": "Rahul Hipparkar",
      "userId": "05812361921738235335"
     },
     "user_tz": -330
    },
    "id": "K9oU2WMWF4Fp",
    "outputId": "fc39a21a-30a6-4d22-e7ec-07465251042c"
   },
   "outputs": [
    {
     "data": {
      "text/plain": [
       "array(['Movie', 'TV Show'], dtype=object)"
      ]
     },
     "execution_count": 120,
     "metadata": {},
     "output_type": "execute_result"
    }
   ],
   "source": [
    "data['type'].unique()"
   ]
  },
  {
   "cell_type": "markdown",
   "metadata": {
    "id": "KS-UGN0lL-Xt"
   },
   "source": [
    "**Analysis**: Netflix has two main types of content: movies and TV shows."
   ]
  },
  {
   "cell_type": "markdown",
   "metadata": {
    "id": "fURA0HEHSKwm"
   },
   "source": [
    "**Value counts**"
   ]
  },
  {
   "cell_type": "code",
   "execution_count": 121,
   "metadata": {
    "executionInfo": {
     "elapsed": 48,
     "status": "ok",
     "timestamp": 1688446301611,
     "user": {
      "displayName": "Rahul Hipparkar",
      "userId": "05812361921738235335"
     },
     "user_tz": -330
    },
    "id": "ftU930CVL9HI",
    "outputId": "e2d48cde-46a4-42ce-ef1e-b0695c5a425f"
   },
   "outputs": [
    {
     "data": {
      "text/plain": [
       "type\n",
       "Movie      6131\n",
       "TV Show    2676\n",
       "Name: count, dtype: int64"
      ]
     },
     "execution_count": 121,
     "metadata": {},
     "output_type": "execute_result"
    }
   ],
   "source": [
    "data['type'].value_counts()"
   ]
  },
  {
   "cell_type": "code",
   "execution_count": 122,
   "metadata": {
    "executionInfo": {
     "elapsed": 46,
     "status": "ok",
     "timestamp": 1688446301611,
     "user": {
      "displayName": "Rahul Hipparkar",
      "userId": "05812361921738235335"
     },
     "user_tz": -330
    },
    "id": "Mt6XPKUCMWzL",
    "outputId": "1df3a151-40b7-4dc5-e5a3-2df7cbaf0293"
   },
   "outputs": [
    {
     "data": {
      "image/png": "[encoded data removed]",
      "text/plain": [
       "<Figure size 640x480 with 1 Axes>"
      ]
     },
     "metadata": {},
     "output_type": "display_data"
    }
   ],
   "source": [
    "plt.pie(data['type'].value_counts(),labels=data['type'].unique(),autopct='%.2f')\n",
    "plt.show()"
   ]
  },
  {
   "cell_type": "markdown",
   "metadata": {
    "id": "UTBZNG3FOI7R"
   },
   "source": [
    "**Insight**: Approximately 70% of Netflix's content consists of movies, with the remaining 30% dedicated to TV shows."
   ]
  },
  {
   "cell_type": "markdown",
   "metadata": {
    "id": "RzhzGaVBSDo8"
   },
   "source": [
    "## Title column"
   ]
  },
  {
   "cell_type": "markdown",
   "metadata": {
    "id": "1FyUHlZASSgs"
   },
   "source": [
    "**Unique**"
   ]
  },
  {
   "cell_type": "code",
   "execution_count": 123,
   "metadata": {
    "executionInfo": {
     "elapsed": 46,
     "status": "ok",
     "timestamp": 1688446301612,
     "user": {
      "displayName": "Rahul Hipparkar",
      "userId": "05812361921738235335"
     },
     "user_tz": -330
    },
    "id": "bFxMWjeaSRW5",
    "outputId": "9c5f8261-959b-47db-8a7e-6a1f09bbeac6"
   },
   "outputs": [
    {
     "data": {
      "text/plain": [
       "array(['Dick Johnson Is Dead', 'Blood & Water', 'Ganglands', ...,\n",
       "       'Zombieland', 'Zoom', 'Zubaan'], dtype=object)"
      ]
     },
     "execution_count": 123,
     "metadata": {},
     "output_type": "execute_result"
    }
   ],
   "source": [
    "data['title'].unique()"
   ]
  },
  {
   "cell_type": "markdown",
   "metadata": {
    "id": "6y7h4RdQScc1"
   },
   "source": [
    "List of unique values in a title column"
   ]
  },
  {
   "cell_type": "code",
   "execution_count": 124,
   "metadata": {
    "executionInfo": {
     "elapsed": 44,
     "status": "ok",
     "timestamp": 1688446301613,
     "user": {
      "displayName": "Rahul Hipparkar",
      "userId": "05812361921738235335"
     },
     "user_tz": -330
    },
    "id": "oyBbFs66THvN",
    "outputId": "1f668681-726e-4b60-9de2-b38e804b39dd"
   },
   "outputs": [
    {
     "data": {
      "text/plain": [
       "8807"
      ]
     },
     "execution_count": 124,
     "metadata": {},
     "output_type": "execute_result"
    }
   ],
   "source": [
    "data['title'].nunique()"
   ]
  },
  {
   "cell_type": "markdown",
   "metadata": {
    "id": "enf09qecSaY3"
   },
   "source": [
    "**Value counts**"
   ]
  },
  {
   "cell_type": "code",
   "execution_count": 125,
   "metadata": {
    "executionInfo": {
     "elapsed": 42,
     "status": "ok",
     "timestamp": 1688446301613,
     "user": {
      "displayName": "Rahul Hipparkar",
      "userId": "05812361921738235335"
     },
     "user_tz": -330
    },
    "id": "0CL7DZm4SaB-",
    "outputId": "5e2fd750-605e-4ec4-9b52-9d0ba1da542e"
   },
   "outputs": [
    {
     "data": {
      "text/plain": [
       "title\n",
       "Dick Johnson Is Dead                     1\n",
       "Ip Man 2                                 1\n",
       "Hannibal Buress: Comedy Camisado         1\n",
       "Turbo FAST                               1\n",
       "Masha's Tales                            1\n",
       "                                        ..\n",
       "Love for Sale 2                          1\n",
       "ROAD TO ROMA                             1\n",
       "Good Time                                1\n",
       "Captain Underpants Epic Choice-o-Rama    1\n",
       "Zubaan                                   1\n",
       "Name: count, Length: 8807, dtype: int64"
      ]
     },
     "execution_count": 125,
     "metadata": {},
     "output_type": "execute_result"
    }
   ],
   "source": [
    "data['title'].value_counts()"
   ]
  },
  {
   "cell_type": "markdown",
   "metadata": {
    "id": "JKLhqBSiSrRg"
   },
   "source": []
  },
  {
   "cell_type": "markdown",
   "metadata": {
    "id": "UHP6JLMLTTmI"
   },
   "source": [
    "## Cast column"
   ]
  },
  {
   "cell_type": "markdown",
   "metadata": {
    "id": "Ogb0amISUNOw"
   },
   "source": [
    "**Unique**"
   ]
  },
  {
   "cell_type": "code",
   "execution_count": 126,
   "metadata": {
    "executionInfo": {
     "elapsed": 40,
     "status": "ok",
     "timestamp": 1688446301613,
     "user": {
      "displayName": "Rahul Hipparkar",
      "userId": "05812361921738235335"
     },
     "user_tz": -330
    },
    "id": "U5LcxxDXTXj5",
    "outputId": "a573c47b-4633-4151-a78a-0959990c80a8"
   },
   "outputs": [
    {
     "data": {
      "text/plain": [
       "array([nan,\n",
       "       'Ama Qamata, Khosi Ngema, Gail Mabalane, Thabang Molaba, Dillon Windvogel, Natasha Thahane, Arno Greeff, Xolile Tshabalala, Getmore Sithole, Cindy Mahlangu, Ryle De Morny, Greteli Fincham, Sello Maake Ka-Ncube, Odwa Gwanya, Mekaila Mathys, Sandi Schultz, Duane Williams, Shamilla Miller, Patrick Mofokeng',\n",
       "       'Sami Bouajila, Tracy Gotoas, Samuel Jouy, Nabiha Akkari, Sofia Lesaffre, Salim Kechiouche, Noureddine Farihi, Geert Van Rampelberg, Bakary Diombera',\n",
       "       ...,\n",
       "       'Jesse Eisenberg, Woody Harrelson, Emma Stone, Abigail Breslin, Amber Heard, Bill Murray, Derek Graf',\n",
       "       'Tim Allen, Courteney Cox, Chevy Chase, Kate Mara, Ryan Newman, Michael Cassidy, Spencer Breslin, Rip Torn, Kevin Zegers',\n",
       "       'Vicky Kaushal, Sarah-Jane Dias, Raaghav Chanana, Manish Chaudhary, Meghna Malik, Malkeet Rauni, Anita Shabdish, Chittaranjan Tripathy'],\n",
       "      dtype=object)"
      ]
     },
     "execution_count": 126,
     "metadata": {},
     "output_type": "execute_result"
    }
   ],
   "source": [
    "data['cast'].unique()"
   ]
  },
  {
   "cell_type": "code",
   "execution_count": 127,
   "metadata": {
    "executionInfo": {
     "elapsed": 39,
     "status": "ok",
     "timestamp": 1688446301614,
     "user": {
      "displayName": "Rahul Hipparkar",
      "userId": "05812361921738235335"
     },
     "user_tz": -330
    },
    "id": "dDiIQ1TAUZSc",
    "outputId": "05d83d43-6058-4946-e73d-fe1a86960f07"
   },
   "outputs": [
    {
     "data": {
      "text/plain": [
       "7692"
      ]
     },
     "execution_count": 127,
     "metadata": {},
     "output_type": "execute_result"
    }
   ],
   "source": [
    "data['cast'].nunique()"
   ]
  },
  {
   "cell_type": "markdown",
   "metadata": {
    "id": "O_FWXog9UTEP"
   },
   "source": [
    "**Value count**"
   ]
  },
  {
   "cell_type": "code",
   "execution_count": 128,
   "metadata": {
    "executionInfo": {
     "elapsed": 37,
     "status": "ok",
     "timestamp": 1688446301614,
     "user": {
      "displayName": "Rahul Hipparkar",
      "userId": "05812361921738235335"
     },
     "user_tz": -330
    },
    "id": "Jk2pR_VmUSjH",
    "outputId": "a06a534e-09ab-4c8e-b76a-ff2ca97dbc11"
   },
   "outputs": [
    {
     "data": {
      "text/plain": [
       "cast\n",
       "David Attenborough                                                                                                                                                                            19\n",
       "Vatsal Dubey, Julie Tejwani, Rupa Bhimani, Jigna Bhardwaj, Rajesh Kava, Mousam, Swapnil                                                                                                       14\n",
       "Samuel West                                                                                                                                                                                   10\n",
       "Jeff Dunham                                                                                                                                                                                    7\n",
       "David Spade, London Hughes, Fortune Feimster                                                                                                                                                   6\n",
       "                                                                                                                                                                                              ..\n",
       "Michael Peña, Diego Luna, Tenoch Huerta, Joaquin Cosio, José María Yazpik, Matt Letscher, Alyssa Diaz                                                                                          1\n",
       "Nick Lachey, Vanessa Lachey                                                                                                                                                                    1\n",
       "Takeru Sato, Kasumi Arimura, Haru, Kentaro Sakaguchi, Takayuki Yamada, Kendo Kobayashi, Ken Yasuda, Arata Furuta, Suzuki Matsuo, Koichi Yamadera, Arata Iura, Chikako Kaku, Kotaro Yoshida     1\n",
       "Toyin Abraham, Sambasa Nzeribe, Chioma Chukwuka Akpotha, Chioma Omeruah, Chiwetalu Agu, Dele Odule, Femi Adebayo, Bayray McNwizu, Biodun Stephen                                               1\n",
       "Vicky Kaushal, Sarah-Jane Dias, Raaghav Chanana, Manish Chaudhary, Meghna Malik, Malkeet Rauni, Anita Shabdish, Chittaranjan Tripathy                                                          1\n",
       "Name: count, Length: 7692, dtype: int64"
      ]
     },
     "execution_count": 128,
     "metadata": {},
     "output_type": "execute_result"
    }
   ],
   "source": [
    "data['cast'].value_counts()"
   ]
  },
  {
   "cell_type": "markdown",
   "metadata": {
    "id": "9QT2KdCEUwaN"
   },
   "source": [
    "**Analysis**: Cast column is a nested column"
   ]
  },
  {
   "cell_type": "markdown",
   "metadata": {
    "id": "R7yJbr3dVvWT"
   },
   "source": [
    "## Duration column"
   ]
  },
  {
   "cell_type": "markdown",
   "metadata": {
    "id": "X4lnChWOVzcS"
   },
   "source": [
    "**Unique**"
   ]
  },
  {
   "cell_type": "code",
   "execution_count": 129,
   "metadata": {
    "executionInfo": {
     "elapsed": 34,
     "status": "ok",
     "timestamp": 1688446301614,
     "user": {
      "displayName": "Rahul Hipparkar",
      "userId": "05812361921738235335"
     },
     "user_tz": -330
    },
    "id": "UEfz25XYVu5D",
    "outputId": "1e5de10b-c9c1-497e-cebf-ad2ee9f00d4f"
   },
   "outputs": [
    {
     "data": {
      "text/plain": [
       "array(['90 min', '2 Seasons', '1 Season', '91 min', '125 min',\n",
       "       '9 Seasons', '104 min', '127 min', '4 Seasons', '67 min', '94 min',\n",
       "       '5 Seasons', '161 min', '61 min', '166 min', '147 min', '103 min',\n",
       "       '97 min', '106 min', '111 min', '3 Seasons', '110 min', '105 min',\n",
       "       '96 min', '124 min', '116 min', '98 min', '23 min', '115 min',\n",
       "       '122 min', '99 min', '88 min', '100 min', '6 Seasons', '102 min',\n",
       "       '93 min', '95 min', '85 min', '83 min', '113 min', '13 min',\n",
       "       '182 min', '48 min', '145 min', '87 min', '92 min', '80 min',\n",
       "       '117 min', '128 min', '119 min', '143 min', '114 min', '118 min',\n",
       "       '108 min', '63 min', '121 min', '142 min', '154 min', '120 min',\n",
       "       '82 min', '109 min', '101 min', '86 min', '229 min', '76 min',\n",
       "       '89 min', '156 min', '112 min', '107 min', '129 min', '135 min',\n",
       "       '136 min', '165 min', '150 min', '133 min', '70 min', '84 min',\n",
       "       '140 min', '78 min', '7 Seasons', '64 min', '59 min', '139 min',\n",
       "       '69 min', '148 min', '189 min', '141 min', '130 min', '138 min',\n",
       "       '81 min', '132 min', '10 Seasons', '123 min', '65 min', '68 min',\n",
       "       '66 min', '62 min', '74 min', '131 min', '39 min', '46 min',\n",
       "       '38 min', '8 Seasons', '17 Seasons', '126 min', '155 min',\n",
       "       '159 min', '137 min', '12 min', '273 min', '36 min', '34 min',\n",
       "       '77 min', '60 min', '49 min', '58 min', '72 min', '204 min',\n",
       "       '212 min', '25 min', '73 min', '29 min', '47 min', '32 min',\n",
       "       '35 min', '71 min', '149 min', '33 min', '15 min', '54 min',\n",
       "       '224 min', '162 min', '37 min', '75 min', '79 min', '55 min',\n",
       "       '158 min', '164 min', '173 min', '181 min', '185 min', '21 min',\n",
       "       '24 min', '51 min', '151 min', '42 min', '22 min', '134 min',\n",
       "       '177 min', '13 Seasons', '52 min', '14 min', '53 min', '8 min',\n",
       "       '57 min', '28 min', '50 min', '9 min', '26 min', '45 min',\n",
       "       '171 min', '27 min', '44 min', '146 min', '20 min', '157 min',\n",
       "       '17 min', '203 min', '41 min', '30 min', '194 min', '15 Seasons',\n",
       "       '233 min', '237 min', '230 min', '195 min', '253 min', '152 min',\n",
       "       '190 min', '160 min', '208 min', '180 min', '144 min', '5 min',\n",
       "       '174 min', '170 min', '192 min', '209 min', '187 min', '172 min',\n",
       "       '16 min', '186 min', '11 min', '193 min', '176 min', '56 min',\n",
       "       '169 min', '40 min', '10 min', '3 min', '168 min', '312 min',\n",
       "       '153 min', '214 min', '31 min', '163 min', '19 min', '12 Seasons',\n",
       "       nan, '179 min', '11 Seasons', '43 min', '200 min', '196 min',\n",
       "       '167 min', '178 min', '228 min', '18 min', '205 min', '201 min',\n",
       "       '191 min'], dtype=object)"
      ]
     },
     "execution_count": 129,
     "metadata": {},
     "output_type": "execute_result"
    }
   ],
   "source": [
    "data['duration'].unique()"
   ]
  },
  {
   "cell_type": "markdown",
   "metadata": {
    "id": "_vXJo60vWGpP"
   },
   "source": [
    "**Analysis**:Duration column is of object type. Going forward I need to convert this column into numeric column to draw some important insights."
   ]
  },
  {
   "cell_type": "code",
   "execution_count": 130,
   "metadata": {
    "executionInfo": {
     "elapsed": 33,
     "status": "ok",
     "timestamp": 1688446301615,
     "user": {
      "displayName": "Rahul Hipparkar",
      "userId": "05812361921738235335"
     },
     "user_tz": -330
    },
    "id": "8jBbbct5V6g8",
    "outputId": "6a5bd3d3-fbb2-4bfb-ee85-0735db346059"
   },
   "outputs": [
    {
     "data": {
      "text/plain": [
       "220"
      ]
     },
     "execution_count": 130,
     "metadata": {},
     "output_type": "execute_result"
    }
   ],
   "source": [
    "data['duration'].nunique()"
   ]
  },
  {
   "cell_type": "markdown",
   "metadata": {
    "id": "5Je-JlojYNtr"
   },
   "source": []
  },
  {
   "cell_type": "markdown",
   "metadata": {
    "id": "yhW5blIeYZWp"
   },
   "source": [
    "**Value counts**"
   ]
  },
  {
   "cell_type": "code",
   "execution_count": 131,
   "metadata": {
    "executionInfo": {
     "elapsed": 31,
     "status": "ok",
     "timestamp": 1688446301615,
     "user": {
      "displayName": "Rahul Hipparkar",
      "userId": "05812361921738235335"
     },
     "user_tz": -330
    },
    "id": "RCTA3VtZYeH4",
    "outputId": "9b3fc24e-f08b-4432-f9ea-a266b49270fc"
   },
   "outputs": [
    {
     "data": {
      "text/plain": [
       "duration\n",
       "1 Season     1793\n",
       "2 Seasons     425\n",
       "3 Seasons     199\n",
       "90 min        152\n",
       "94 min        146\n",
       "             ... \n",
       "16 min          1\n",
       "186 min         1\n",
       "193 min         1\n",
       "189 min         1\n",
       "191 min         1\n",
       "Name: count, Length: 220, dtype: int64"
      ]
     },
     "execution_count": 131,
     "metadata": {},
     "output_type": "execute_result"
    }
   ],
   "source": [
    "data['duration'].value_counts()"
   ]
  },
  {
   "cell_type": "markdown",
   "metadata": {
    "id": "mnCEqmIdYtt-"
   },
   "source": [
    "## Date Added column"
   ]
  },
  {
   "cell_type": "markdown",
   "metadata": {
    "id": "MesgeicPY1UJ"
   },
   "source": [
    "**Unique**"
   ]
  },
  {
   "cell_type": "code",
   "execution_count": 132,
   "metadata": {
    "executionInfo": {
     "elapsed": 30,
     "status": "ok",
     "timestamp": 1688446301616,
     "user": {
      "displayName": "Rahul Hipparkar",
      "userId": "05812361921738235335"
     },
     "user_tz": -330
    },
    "id": "A_OPnZQrY0fD",
    "outputId": "7a12a0cc-1eaf-49a2-da7c-abce6785fa53"
   },
   "outputs": [
    {
     "data": {
      "text/plain": [
       "array(['September 25, 2021', 'September 24, 2021', 'September 23, 2021',\n",
       "       ..., 'December 6, 2018', 'March 9, 2016', 'January 11, 2020'],\n",
       "      dtype=object)"
      ]
     },
     "execution_count": 132,
     "metadata": {},
     "output_type": "execute_result"
    }
   ],
   "source": [
    "data['date_added'].unique()"
   ]
  },
  {
   "cell_type": "code",
   "execution_count": 133,
   "metadata": {
    "executionInfo": {
     "elapsed": 28,
     "status": "ok",
     "timestamp": 1688446301616,
     "user": {
      "displayName": "Rahul Hipparkar",
      "userId": "05812361921738235335"
     },
     "user_tz": -330
    },
    "id": "LMh8tSRqY-nz",
    "outputId": "a8ad45a6-59f3-4107-e7f6-5926338fb974"
   },
   "outputs": [
    {
     "data": {
      "text/plain": [
       "1767"
      ]
     },
     "execution_count": 133,
     "metadata": {},
     "output_type": "execute_result"
    }
   ],
   "source": [
    "data['date_added'].nunique()"
   ]
  },
  {
   "cell_type": "markdown",
   "metadata": {
    "id": "00rA78_nZEnU"
   },
   "source": [
    "**Value counts**"
   ]
  },
  {
   "cell_type": "code",
   "execution_count": 134,
   "metadata": {
    "executionInfo": {
     "elapsed": 26,
     "status": "ok",
     "timestamp": 1688446301616,
     "user": {
      "displayName": "Rahul Hipparkar",
      "userId": "05812361921738235335"
     },
     "user_tz": -330
    },
    "id": "8KcMnpkTZL2f",
    "outputId": "4a4eade9-b73b-4cc0-af5d-5eb20937357a"
   },
   "outputs": [
    {
     "data": {
      "text/plain": [
       "date_added\n",
       "January 1, 2020      109\n",
       "November 1, 2019      89\n",
       "March 1, 2018         75\n",
       "December 31, 2019     74\n",
       "October 1, 2018       71\n",
       "                    ... \n",
       "December 4, 2016       1\n",
       "November 21, 2016      1\n",
       "November 19, 2016      1\n",
       "November 17, 2016      1\n",
       "January 11, 2020       1\n",
       "Name: count, Length: 1767, dtype: int64"
      ]
     },
     "execution_count": 134,
     "metadata": {},
     "output_type": "execute_result"
    }
   ],
   "source": [
    "data['date_added'].value_counts()"
   ]
  },
  {
   "cell_type": "markdown",
   "metadata": {
    "id": "KQ1CC0kEZSbi"
   },
   "source": [
    "**Insight**: On January 1, 2020, Netflix added the most TV shows and movies to its platform."
   ]
  },
  {
   "cell_type": "markdown",
   "metadata": {
    "id": "ZJ3NWw6YZ2ML"
   },
   "source": []
  },
  {
   "cell_type": "markdown",
   "metadata": {
    "id": "Ahd5tmxgaIEY"
   },
   "source": [
    "## Rating Column"
   ]
  },
  {
   "cell_type": "markdown",
   "metadata": {
    "id": "t42aWBiocRXD"
   },
   "source": [
    " **Unique**"
   ]
  },
  {
   "cell_type": "code",
   "execution_count": 135,
   "metadata": {
    "executionInfo": {
     "elapsed": 36,
     "status": "ok",
     "timestamp": 1688446302387,
     "user": {
      "displayName": "Rahul Hipparkar",
      "userId": "05812361921738235335"
     },
     "user_tz": -330
    },
    "id": "_bCd4IT2cL23",
    "outputId": "c86a5c75-9da6-4700-a95e-ab03d6b9d1a7"
   },
   "outputs": [
    {
     "data": {
      "text/plain": [
       "array(['PG-13', 'TV-MA', 'PG', 'TV-14', 'TV-PG', 'TV-Y', 'TV-Y7', 'R',\n",
       "       'TV-G', 'G', 'NC-17', '74 min', '84 min', '66 min', 'NR', nan,\n",
       "       'TV-Y7-FV', 'UR'], dtype=object)"
      ]
     },
     "execution_count": 135,
     "metadata": {},
     "output_type": "execute_result"
    }
   ],
   "source": [
    "data['rating'].unique()"
   ]
  },
  {
   "cell_type": "markdown",
   "metadata": {
    "id": "z8cx41nZcbDU"
   },
   "source": [
    "**Analysis**: There are some incorrect values in the rating column"
   ]
  },
  {
   "cell_type": "code",
   "execution_count": 136,
   "metadata": {
    "executionInfo": {
     "elapsed": 36,
     "status": "ok",
     "timestamp": 1688446302388,
     "user": {
      "displayName": "Rahul Hipparkar",
      "userId": "05812361921738235335"
     },
     "user_tz": -330
    },
    "id": "23_fHzF5ctYU",
    "outputId": "bafa05e5-989e-4ed0-f229-6849e8cc187e"
   },
   "outputs": [
    {
     "data": {
      "text/plain": [
       "17"
      ]
     },
     "execution_count": 136,
     "metadata": {},
     "output_type": "execute_result"
    }
   ],
   "source": [
    "data['rating'].nunique()"
   ]
  },
  {
   "cell_type": "markdown",
   "metadata": {
    "id": "C2g_EL_qdXm_"
   },
   "source": [
    "**Value counts**"
   ]
  },
  {
   "cell_type": "code",
   "execution_count": 137,
   "metadata": {
    "executionInfo": {
     "elapsed": 33,
     "status": "ok",
     "timestamp": 1688446302388,
     "user": {
      "displayName": "Rahul Hipparkar",
      "userId": "05812361921738235335"
     },
     "user_tz": -330
    },
    "id": "KySjDh5AdhNe",
    "outputId": "b084fb4a-8d4b-4a5d-f3f4-0399a1702d05"
   },
   "outputs": [
    {
     "data": {
      "text/plain": [
       "rating\n",
       "TV-MA       3207\n",
       "TV-14       2160\n",
       "TV-PG        863\n",
       "R            799\n",
       "PG-13        490\n",
       "TV-Y7        334\n",
       "TV-Y         307\n",
       "PG           287\n",
       "TV-G         220\n",
       "NR            80\n",
       "G             41\n",
       "TV-Y7-FV       6\n",
       "NC-17          3\n",
       "UR             3\n",
       "74 min         1\n",
       "84 min         1\n",
       "66 min         1\n",
       "Name: count, dtype: int64"
      ]
     },
     "execution_count": 137,
     "metadata": {},
     "output_type": "execute_result"
    }
   ],
   "source": [
    "data['rating'].value_counts()"
   ]
  },
  {
   "cell_type": "markdown",
   "metadata": {
    "id": "VGkZenkyjTy_"
   },
   "source": [
    "**Insight**: Most of the content on netflix is 'TV-MA' (Mature Audience)  rated."
   ]
  },
  {
   "cell_type": "markdown",
   "metadata": {
    "id": "RGCGKqOgn-e2"
   },
   "source": [
    "# Data Preprocessing"
   ]
  },
  {
   "cell_type": "markdown",
   "metadata": {
    "id": "DPpxK2gBvXYG"
   },
   "source": [
    "## Handling Missing Values"
   ]
  },
  {
   "cell_type": "code",
   "execution_count": null,
   "metadata": {
    "executionInfo": {
     "elapsed": 31,
     "status": "ok",
     "timestamp": 1688446302389,
     "user": {
      "displayName": "Rahul Hipparkar",
      "userId": "05812361921738235335"
     },
     "user_tz": -330
    },
    "id": "_Bybam3owBT8"
   },
   "outputs": [],
   "source": []
  },
  {
   "cell_type": "code",
   "execution_count": 138,
   "metadata": {
    "executionInfo": {
     "elapsed": 31,
     "status": "ok",
     "timestamp": 1688446302389,
     "user": {
      "displayName": "Rahul Hipparkar",
      "userId": "05812361921738235335"
     },
     "user_tz": -330
    },
    "id": "6Kzy_ULBoBes",
    "outputId": "2c138a0a-c8bb-49ff-971a-fa48fe1bea42"
   },
   "outputs": [
    {
     "data": {
      "text/plain": [
       "show_id          0.000000\n",
       "type             0.000000\n",
       "title            0.000000\n",
       "director        29.908028\n",
       "cast             9.367549\n",
       "country          9.435676\n",
       "date_added       0.113546\n",
       "release_year     0.000000\n",
       "rating           0.045418\n",
       "duration         0.034064\n",
       "listed_in        0.000000\n",
       "description      0.000000\n",
       "dtype: float64"
      ]
     },
     "execution_count": 138,
     "metadata": {},
     "output_type": "execute_result"
    }
   ],
   "source": [
    "# Percentage of missing values in each column\n",
    "(data.isnull().sum()/len(data))*100"
   ]
  },
  {
   "cell_type": "markdown",
   "metadata": {
    "id": "pIfMGo9WwQIb"
   },
   "source": [
    "**Analysis**:\n",
    "\n",
    "1. Approx 30 % data is missing in director column.\n",
    "2. Approx 9 % data is missing in cast and country column.\n",
    "3. Less than 1 % data is missing in  date_added,rating and duration column."
   ]
  },
  {
   "cell_type": "markdown",
   "metadata": {
    "id": "6oikXS6VxxSm"
   },
   "source": [
    "### Date added,Duration and Rating Column"
   ]
  },
  {
   "cell_type": "markdown",
   "metadata": {
    "id": "g7xW4FaZx8Ff"
   },
   "source": [
    " Drop rows containing missing values from Date added , Duration and Rating columns as these columns contain less than 1 % missing data."
   ]
  },
  {
   "cell_type": "code",
   "execution_count": 139,
   "metadata": {
    "executionInfo": {
     "elapsed": 28,
     "status": "ok",
     "timestamp": 1688446302389,
     "user": {
      "displayName": "Rahul Hipparkar",
      "userId": "05812361921738235335"
     },
     "user_tz": -330
    },
    "id": "BAENYckQx7r3"
   },
   "outputs": [],
   "source": [
    "data.dropna(subset=['date_added','rating','duration'],inplace=True)"
   ]
  },
  {
   "cell_type": "code",
   "execution_count": 140,
   "metadata": {
    "executionInfo": {
     "elapsed": 29,
     "status": "ok",
     "timestamp": 1688446302390,
     "user": {
      "displayName": "Rahul Hipparkar",
      "userId": "05812361921738235335"
     },
     "user_tz": -330
    },
    "id": "-xJPI1-uxt6T",
    "outputId": "63811994-f75d-4dcb-da1a-b4158aac9bac"
   },
   "outputs": [
    {
     "data": {
      "text/plain": [
       "show_id            0\n",
       "type               0\n",
       "title              0\n",
       "director        2621\n",
       "cast             825\n",
       "country          829\n",
       "date_added         0\n",
       "release_year       0\n",
       "rating             0\n",
       "duration           0\n",
       "listed_in          0\n",
       "description        0\n",
       "dtype: int64"
      ]
     },
     "execution_count": 140,
     "metadata": {},
     "output_type": "execute_result"
    }
   ],
   "source": [
    "data.isnull().sum()"
   ]
  },
  {
   "cell_type": "markdown",
   "metadata": {
    "id": "wUXqUu2668mM"
   },
   "source": [
    "0 missing values in column date_added , duration and rating"
   ]
  },
  {
   "cell_type": "code",
   "execution_count": null,
   "metadata": {
    "executionInfo": {
     "elapsed": 27,
     "status": "ok",
     "timestamp": 1688446302390,
     "user": {
      "displayName": "Rahul Hipparkar",
      "userId": "05812361921738235335"
     },
     "user_tz": -330
    },
    "id": "7GPTCcV-wPnR"
   },
   "outputs": [],
   "source": []
  },
  {
   "cell_type": "markdown",
   "metadata": {
    "id": "htS44l3w8S10"
   },
   "source": [
    "### director, cast and country columns"
   ]
  },
  {
   "cell_type": "markdown",
   "metadata": {
    "id": "R5bzWfvU8lWg"
   },
   "source": [
    "To fill the missing values in the \"director,\" \"cast,\" and \"rating\" columns, we can use the mode (most frequently occurring value) of each respective column."
   ]
  },
  {
   "cell_type": "code",
   "execution_count": 141,
   "metadata": {
    "executionInfo": {
     "elapsed": 27,
     "status": "ok",
     "timestamp": 1688446302391,
     "user": {
      "displayName": "Rahul Hipparkar",
      "userId": "05812361921738235335"
     },
     "user_tz": -330
    },
    "id": "AexhWike8gZi"
   },
   "outputs": [
    {
     "name": "stderr",
     "output_type": "stream",
     "text": [
      "C:\\Users\\supri\\AppData\\Local\\Temp\\ipykernel_33796\\3038440677.py:1: FutureWarning: A value is trying to be set on a copy of a DataFrame or Series through chained assignment using an inplace method.\n",
      "The behavior will change in pandas 3.0. This inplace method will never work because the intermediate object on which we are setting values always behaves as a copy.\n",
      "\n",
      "For example, when doing 'df[col].method(value, inplace=True)', try using 'df.method({col: value}, inplace=True)' or df[col] = df[col].method(value) instead, to perform the operation inplace on the original object.\n",
      "\n",
      "\n",
      "  data['director'].fillna(data['director'].mode()[0],inplace=True)\n"
     ]
    }
   ],
   "source": [
    "data['director'].fillna(data['director'].mode()[0],inplace=True)"
   ]
  },
  {
   "cell_type": "code",
   "execution_count": 142,
   "metadata": {
    "executionInfo": {
     "elapsed": 27,
     "status": "ok",
     "timestamp": 1688446302391,
     "user": {
      "displayName": "Rahul Hipparkar",
      "userId": "05812361921738235335"
     },
     "user_tz": -330
    },
    "id": "QjIfRYoDCWdS"
   },
   "outputs": [
    {
     "name": "stderr",
     "output_type": "stream",
     "text": [
      "C:\\Users\\supri\\AppData\\Local\\Temp\\ipykernel_33796\\2331639849.py:1: FutureWarning: A value is trying to be set on a copy of a DataFrame or Series through chained assignment using an inplace method.\n",
      "The behavior will change in pandas 3.0. This inplace method will never work because the intermediate object on which we are setting values always behaves as a copy.\n",
      "\n",
      "For example, when doing 'df[col].method(value, inplace=True)', try using 'df.method({col: value}, inplace=True)' or df[col] = df[col].method(value) instead, to perform the operation inplace on the original object.\n",
      "\n",
      "\n",
      "  data['cast'].fillna(data['cast'].mode()[0],inplace=True)\n"
     ]
    }
   ],
   "source": [
    "data['cast'].fillna(data['cast'].mode()[0],inplace=True)"
   ]
  },
  {
   "cell_type": "code",
   "execution_count": 143,
   "metadata": {
    "executionInfo": {
     "elapsed": 28,
     "status": "ok",
     "timestamp": 1688446302392,
     "user": {
      "displayName": "Rahul Hipparkar",
      "userId": "05812361921738235335"
     },
     "user_tz": -330
    },
    "id": "BaQbqMf3CaMm"
   },
   "outputs": [
    {
     "name": "stderr",
     "output_type": "stream",
     "text": [
      "C:\\Users\\supri\\AppData\\Local\\Temp\\ipykernel_33796\\2665234473.py:1: FutureWarning: A value is trying to be set on a copy of a DataFrame or Series through chained assignment using an inplace method.\n",
      "The behavior will change in pandas 3.0. This inplace method will never work because the intermediate object on which we are setting values always behaves as a copy.\n",
      "\n",
      "For example, when doing 'df[col].method(value, inplace=True)', try using 'df.method({col: value}, inplace=True)' or df[col] = df[col].method(value) instead, to perform the operation inplace on the original object.\n",
      "\n",
      "\n",
      "  data['country'].fillna(data['country'].mode()[0],inplace=True)\n"
     ]
    }
   ],
   "source": [
    "data['country'].fillna(data['country'].mode()[0],inplace=True)"
   ]
  },
  {
   "cell_type": "code",
   "execution_count": 144,
   "metadata": {
    "executionInfo": {
     "elapsed": 27,
     "status": "ok",
     "timestamp": 1688446302392,
     "user": {
      "displayName": "Rahul Hipparkar",
      "userId": "05812361921738235335"
     },
     "user_tz": -330
    },
    "id": "4z0UJHe88ciD",
    "outputId": "deb140a0-35c9-4334-984c-f4c84b86a3fb"
   },
   "outputs": [
    {
     "data": {
      "text/plain": [
       "show_id         0\n",
       "type            0\n",
       "title           0\n",
       "director        0\n",
       "cast            0\n",
       "country         0\n",
       "date_added      0\n",
       "release_year    0\n",
       "rating          0\n",
       "duration        0\n",
       "listed_in       0\n",
       "description     0\n",
       "dtype: int64"
      ]
     },
     "execution_count": 144,
     "metadata": {},
     "output_type": "execute_result"
    }
   ],
   "source": [
    "data.isnull().sum()"
   ]
  },
  {
   "cell_type": "markdown",
   "metadata": {
    "id": "drlDhW8zCiJx"
   },
   "source": [
    "0 missing values in 'director','cast' and 'country' columns"
   ]
  },
  {
   "cell_type": "markdown",
   "metadata": {
    "id": "Z56FQtQsSk5r"
   },
   "source": [
    "## Handling Outliers"
   ]
  },
  {
   "cell_type": "markdown",
   "metadata": {
    "id": "XikPI39lTq-0"
   },
   "source": [
    "### Outlier Detection"
   ]
  },
  {
   "cell_type": "markdown",
   "metadata": {
    "id": "jaxJI73QT9ZJ"
   },
   "source": [
    "1. Using Boxplot we can detect outliers in given data.\n",
    "2. As there is only 1 numeric column('released_year') in data we can use that to find outliers in the data."
   ]
  },
  {
   "cell_type": "code",
   "execution_count": 145,
   "metadata": {
    "executionInfo": {
     "elapsed": 26,
     "status": "ok",
     "timestamp": 1688446302393,
     "user": {
      "displayName": "Rahul Hipparkar",
      "userId": "05812361921738235335"
     },
     "user_tz": -330
    },
    "id": "ALanOXLNTpro",
    "outputId": "b568d625-4a8c-493e-865d-70c60ec6d964"
   },
   "outputs": [
    {
     "data": {
      "image/png": "[encoded data removed]",
      "text/plain": [
       "<Figure size 640x480 with 1 Axes>"
      ]
     },
     "metadata": {},
     "output_type": "display_data"
    }
   ],
   "source": [
    "sns.boxplot(data['release_year'])\n",
    "plt.show()"
   ]
  },
  {
   "cell_type": "markdown",
   "metadata": {
    "id": "xf7RwE06V9_T"
   },
   "source": [
    "We have outliers in 'release_year' column => data less than approx 2000 is outlier"
   ]
  },
  {
   "cell_type": "markdown",
   "metadata": {
    "id": "b45ip18hWSC0"
   },
   "source": [
    "***Outlier Detection Formula***"
   ]
  },
  {
   "cell_type": "markdown",
   "metadata": {
    "id": "HoEXNGidX-aD"
   },
   "source": [
    "outlier = data < (Q1 - 1.5 * IQR)\n",
    "\n",
    "outlier = data > (Q3 + 1.5 * IQR)"
   ]
  },
  {
   "cell_type": "markdown",
   "metadata": {
    "id": "N0a9jqaMYlEV"
   },
   "source": [
    "Where,\n",
    "\n",
    "Q1-1.5*IQR = Lower Bound\n",
    "\n",
    "Q3 + 1.5*IQR= Upper Bound\n",
    "\n",
    "Q1 = Lower quartile\n",
    "\n",
    "Q3 = Upper quartile\n",
    "\n",
    "IQR = Q3 - Q1"
   ]
  },
  {
   "cell_type": "code",
   "execution_count": 146,
   "metadata": {
    "executionInfo": {
     "elapsed": 25,
     "status": "ok",
     "timestamp": 1688446302393,
     "user": {
      "displayName": "Rahul Hipparkar",
      "userId": "05812361921738235335"
     },
     "user_tz": -330
    },
    "id": "FyCw3eY-Y3sX",
    "outputId": "eab47658-1725-4518-f898-d2a8715043ba"
   },
   "outputs": [
    {
     "name": "stdout",
     "output_type": "stream",
     "text": [
      "Upper Bound: 2028.0\n",
      "Lower Bound: 2004.0\n"
     ]
    }
   ],
   "source": [
    "IQR=stats.iqr(data['release_year'])\n",
    "upper_bound=stats.scoreatpercentile(data['release_year'],75)+(1.5*IQR)\n",
    "print('Upper Bound:',upper_bound)\n",
    "lower_bound=stats.scoreatpercentile(data['release_year'],25)-(1.5*IQR)\n",
    "print('Lower Bound:',lower_bound)"
   ]
  },
  {
   "cell_type": "markdown",
   "metadata": {
    "id": "Xtm641godUwK"
   },
   "source": [
    "We have outliers in only lower boundry ( data < 2004)"
   ]
  },
  {
   "cell_type": "markdown",
   "metadata": {
    "id": "hYwCq9jtdv3C"
   },
   "source": [
    "### Outlier Treatment"
   ]
  },
  {
   "cell_type": "code",
   "execution_count": 147,
   "metadata": {
    "executionInfo": {
     "elapsed": 23,
     "status": "ok",
     "timestamp": 1688446302394,
     "user": {
      "displayName": "Rahul Hipparkar",
      "userId": "05812361921738235335"
     },
     "user_tz": -330
    },
    "id": "t_vPlb5wdvlG",
    "outputId": "c473f979-5da6-4dfe-91d4-07b5ceca37a4"
   },
   "outputs": [
    {
     "data": {
      "text/plain": [
       "8.156996587030717"
      ]
     },
     "execution_count": 147,
     "metadata": {},
     "output_type": "execute_result"
    }
   ],
   "source": [
    "Outliers_count=len(data.loc[data['release_year'] < lower_bound])\n",
    "(Outliers_count/len(data))*100"
   ]
  },
  {
   "cell_type": "markdown",
   "metadata": {
    "id": "rBLsUnh4hGeL"
   },
   "source": [
    "Even though approximately 8% of the values are outliers, we choose not to drop them as we want to analyze data related to old movies."
   ]
  },
  {
   "cell_type": "code",
   "execution_count": null,
   "metadata": {
    "executionInfo": {
     "elapsed": 22,
     "status": "ok",
     "timestamp": 1688446302394,
     "user": {
      "displayName": "Rahul Hipparkar",
      "userId": "05812361921738235335"
     },
     "user_tz": -330
    },
    "id": "KPxgqUzghF_I"
   },
   "outputs": [],
   "source": []
  },
  {
   "cell_type": "markdown",
   "metadata": {
    "id": "vLGgfsRWqkPz"
   },
   "source": [
    "According to boxplot we have 2 % outliers below 1980. Hence , we can drop these outliers"
   ]
  },
  {
   "cell_type": "code",
   "execution_count": 148,
   "metadata": {
    "executionInfo": {
     "elapsed": 22,
     "status": "ok",
     "timestamp": 1688446302394,
     "user": {
      "displayName": "Rahul Hipparkar",
      "userId": "05812361921738235335"
     },
     "user_tz": -330
    },
    "id": "9TNS2suaVmo4",
    "outputId": "87c6854c-f859-4122-f7a6-c96de992c383"
   },
   "outputs": [
    {
     "data": {
      "text/plain": [
       "array([  41,   42,  177,  529,  542,  716,  819, 1126, 1331, 1699, 1719,\n",
       "       1817, 2365, 2368, 2369, 2373, 2375, 2376, 2487, 2491, 2492, 4217,\n",
       "       4250, 4550, 4551, 4552, 4861, 5186, 5220, 5295, 5300, 5303, 5391,\n",
       "       5396, 5400, 5461, 5544, 5548, 5611, 5703, 6026, 6027, 6106, 6125,\n",
       "       6248, 6278, 6344, 6352, 6389, 6417, 6425, 6442, 6467, 6479, 6490,\n",
       "       6527, 6543, 6613, 6668, 6695, 6740, 6765, 6775, 6778, 6844, 6855,\n",
       "       6884, 6950, 6997, 7048, 7112, 7120, 7123, 7208, 7213, 7282, 7317,\n",
       "       7319, 7354, 7417, 7516, 7560, 7622, 7644, 7728, 7775, 7810, 7824,\n",
       "       7863, 7864, 7878, 7914, 7916, 7938, 8047, 8111, 8120, 8172, 8188,\n",
       "       8220, 8232, 8243, 8286, 8289, 8315, 8384, 8402, 8419, 8489, 8497,\n",
       "       8510, 8524, 8570, 8618, 8623, 8643, 8700, 8718, 8722, 8728, 8746,\n",
       "       8775], dtype=int64)"
      ]
     },
     "execution_count": 148,
     "metadata": {},
     "output_type": "execute_result"
    }
   ],
   "source": [
    "i=np.where(data['release_year']<1980)[0]\n",
    "i"
   ]
  },
  {
   "cell_type": "code",
   "execution_count": 149,
   "metadata": {
    "executionInfo": {
     "elapsed": 21,
     "status": "ok",
     "timestamp": 1688446302395,
     "user": {
      "displayName": "Rahul Hipparkar",
      "userId": "05812361921738235335"
     },
     "user_tz": -330
    },
    "id": "9MuGiVOHrhsZ"
   },
   "outputs": [],
   "source": [
    "data.drop(index=i,inplace=True)"
   ]
  },
  {
   "cell_type": "code",
   "execution_count": 150,
   "metadata": {
    "executionInfo": {
     "elapsed": 20,
     "status": "ok",
     "timestamp": 1688446302395,
     "user": {
      "displayName": "Rahul Hipparkar",
      "userId": "05812361921738235335"
     },
     "user_tz": -330
    },
    "id": "-G72GUTbr_it",
    "outputId": "a6871c3e-b0f5-453c-f4f3-be59a2fa3731"
   },
   "outputs": [
    {
     "data": {
      "text/plain": [
       "(8668, 12)"
      ]
     },
     "execution_count": 150,
     "metadata": {},
     "output_type": "execute_result"
    }
   ],
   "source": [
    "data.shape"
   ]
  },
  {
   "cell_type": "markdown",
   "metadata": {
    "id": "O6TiEbH7vOkB"
   },
   "source": [
    "## Unnesting nested columns"
   ]
  },
  {
   "cell_type": "markdown",
   "metadata": {
    "id": "1D1jjrcdZnnN"
   },
   "source": [
    "We have nested data in 4 columns(cast,director,country,listed_in). Therefore we will  have to unnest or split values into 1 or more rows in order to perform analysis and gain some Valuable insights from these columns."
   ]
  },
  {
   "cell_type": "markdown",
   "metadata": {
    "id": "MVbL7rKYPVrc"
   },
   "source": [
    "**Unnesting cast column**"
   ]
  },
  {
   "cell_type": "code",
   "execution_count": 151,
   "metadata": {
    "executionInfo": {
     "elapsed": 486,
     "status": "ok",
     "timestamp": 1688446302863,
     "user": {
      "displayName": "Rahul Hipparkar",
      "userId": "05812361921738235335"
     },
     "user_tz": -330
    },
    "id": "ZCXbnlcFRoNP",
    "outputId": "001ee7c7-2ed8-48bc-d03d-f75eaeb0315a"
   },
   "outputs": [
    {
     "data": {
      "text/plain": [
       "title                  \n",
       "Dick Johnson Is Dead  0    David Attenborough\n",
       "Blood & Water         0            Ama Qamata\n",
       "                      1           Khosi Ngema\n",
       "                      2         Gail Mabalane\n",
       "                      3        Thabang Molaba\n",
       "dtype: object"
      ]
     },
     "execution_count": 151,
     "metadata": {},
     "output_type": "execute_result"
    }
   ],
   "source": [
    "constraint= data['cast'].apply(lambda x:str(x).split(',')).tolist()\n",
    "df_cast=pd.DataFrame(constraint,index=data['title'])\n",
    "df_cast=df_cast.stack()\n",
    "df_cast.head()"
   ]
  },
  {
   "cell_type": "code",
   "execution_count": 152,
   "metadata": {
    "executionInfo": {
     "elapsed": 29,
     "status": "ok",
     "timestamp": 1688446302864,
     "user": {
      "displayName": "Rahul Hipparkar",
      "userId": "05812361921738235335"
     },
     "user_tz": -330
    },
    "id": "Po6QnbtYRrmr",
    "outputId": "901a6a68-9858-4338-a7fd-51bbfaad73a1"
   },
   "outputs": [
    {
     "data": {
      "text/html": [
       "<div>\n",
       "<style scoped>\n",
       "    .dataframe tbody tr th:only-of-type {\n",
       "        vertical-align: middle;\n",
       "    }\n",
       "\n",
       "    .dataframe tbody tr th {\n",
       "        vertical-align: top;\n",
       "    }\n",
       "\n",
       "    .dataframe thead th {\n",
       "        text-align: right;\n",
       "    }\n",
       "</style>\n",
       "<table border=\"1\" class=\"dataframe\">\n",
       "  <thead>\n",
       "    <tr style=\"text-align: right;\">\n",
       "      <th></th>\n",
       "      <th>title</th>\n",
       "      <th>cast</th>\n",
       "    </tr>\n",
       "  </thead>\n",
       "  <tbody>\n",
       "    <tr>\n",
       "      <th>0</th>\n",
       "      <td>Dick Johnson Is Dead</td>\n",
       "      <td>David Attenborough</td>\n",
       "    </tr>\n",
       "    <tr>\n",
       "      <th>1</th>\n",
       "      <td>Blood &amp; Water</td>\n",
       "      <td>Ama Qamata</td>\n",
       "    </tr>\n",
       "    <tr>\n",
       "      <th>2</th>\n",
       "      <td>Blood &amp; Water</td>\n",
       "      <td>Khosi Ngema</td>\n",
       "    </tr>\n",
       "    <tr>\n",
       "      <th>3</th>\n",
       "      <td>Blood &amp; Water</td>\n",
       "      <td>Gail Mabalane</td>\n",
       "    </tr>\n",
       "    <tr>\n",
       "      <th>4</th>\n",
       "      <td>Blood &amp; Water</td>\n",
       "      <td>Thabang Molaba</td>\n",
       "    </tr>\n",
       "    <tr>\n",
       "      <th>...</th>\n",
       "      <td>...</td>\n",
       "      <td>...</td>\n",
       "    </tr>\n",
       "    <tr>\n",
       "      <th>63998</th>\n",
       "      <td>Zubaan</td>\n",
       "      <td>Manish Chaudhary</td>\n",
       "    </tr>\n",
       "    <tr>\n",
       "      <th>63999</th>\n",
       "      <td>Zubaan</td>\n",
       "      <td>Meghna Malik</td>\n",
       "    </tr>\n",
       "    <tr>\n",
       "      <th>64000</th>\n",
       "      <td>Zubaan</td>\n",
       "      <td>Malkeet Rauni</td>\n",
       "    </tr>\n",
       "    <tr>\n",
       "      <th>64001</th>\n",
       "      <td>Zubaan</td>\n",
       "      <td>Anita Shabdish</td>\n",
       "    </tr>\n",
       "    <tr>\n",
       "      <th>64002</th>\n",
       "      <td>Zubaan</td>\n",
       "      <td>Chittaranjan Tripathy</td>\n",
       "    </tr>\n",
       "  </tbody>\n",
       "</table>\n",
       "<p>64003 rows × 2 columns</p>\n",
       "</div>"
      ],
      "text/plain": [
       "                      title                    cast\n",
       "0      Dick Johnson Is Dead      David Attenborough\n",
       "1             Blood & Water              Ama Qamata\n",
       "2             Blood & Water             Khosi Ngema\n",
       "3             Blood & Water           Gail Mabalane\n",
       "4             Blood & Water          Thabang Molaba\n",
       "...                     ...                     ...\n",
       "63998                Zubaan        Manish Chaudhary\n",
       "63999                Zubaan            Meghna Malik\n",
       "64000                Zubaan           Malkeet Rauni\n",
       "64001                Zubaan          Anita Shabdish\n",
       "64002                Zubaan   Chittaranjan Tripathy\n",
       "\n",
       "[64003 rows x 2 columns]"
      ]
     },
     "execution_count": 152,
     "metadata": {},
     "output_type": "execute_result"
    }
   ],
   "source": [
    "df_cast=pd.DataFrame(df_cast)\n",
    "df_cast.reset_index(inplace=True)\n",
    "df_cast=df_cast[['title',0]]\n",
    "df_cast.columns=['title','cast']\n",
    "df_cast"
   ]
  },
  {
   "cell_type": "markdown",
   "metadata": {
    "id": "mpd0duobWHS8"
   },
   "source": [
    "**Unnesting director column**"
   ]
  },
  {
   "cell_type": "code",
   "execution_count": 153,
   "metadata": {
    "executionInfo": {
     "elapsed": 27,
     "status": "ok",
     "timestamp": 1688446302864,
     "user": {
      "displayName": "Rahul Hipparkar",
      "userId": "05812361921738235335"
     },
     "user_tz": -330
    },
    "id": "UTKRPL_8WaC0",
    "outputId": "147035cf-67cb-44ea-ffec-cc2beef57535"
   },
   "outputs": [
    {
     "data": {
      "text/plain": [
       "title                   \n",
       "Dick Johnson Is Dead   0    Kirsten Johnson\n",
       "Blood & Water          0      Rajiv Chilaka\n",
       "Ganglands              0    Julien Leclercq\n",
       "Jailbirds New Orleans  0      Rajiv Chilaka\n",
       "Kota Factory           0      Rajiv Chilaka\n",
       "dtype: object"
      ]
     },
     "execution_count": 153,
     "metadata": {},
     "output_type": "execute_result"
    }
   ],
   "source": [
    "constraint=data['director'].apply(lambda x:str(x).split(',')).tolist()\n",
    "df_director=pd.DataFrame(constraint,index=data['title'])\n",
    "df_director=df_director.stack()\n",
    "df_director.head()"
   ]
  },
  {
   "cell_type": "code",
   "execution_count": 154,
   "metadata": {
    "executionInfo": {
     "elapsed": 26,
     "status": "ok",
     "timestamp": 1688446302865,
     "user": {
      "displayName": "Rahul Hipparkar",
      "userId": "05812361921738235335"
     },
     "user_tz": -330
    },
    "id": "lk9-loE1X8uf",
    "outputId": "c76b49e1-84c2-4f83-f7e3-9981b3133d63"
   },
   "outputs": [
    {
     "data": {
      "text/html": [
       "<div>\n",
       "<style scoped>\n",
       "    .dataframe tbody tr th:only-of-type {\n",
       "        vertical-align: middle;\n",
       "    }\n",
       "\n",
       "    .dataframe tbody tr th {\n",
       "        vertical-align: top;\n",
       "    }\n",
       "\n",
       "    .dataframe thead th {\n",
       "        text-align: right;\n",
       "    }\n",
       "</style>\n",
       "<table border=\"1\" class=\"dataframe\">\n",
       "  <thead>\n",
       "    <tr style=\"text-align: right;\">\n",
       "      <th></th>\n",
       "      <th>title</th>\n",
       "      <th>director</th>\n",
       "    </tr>\n",
       "  </thead>\n",
       "  <tbody>\n",
       "    <tr>\n",
       "      <th>0</th>\n",
       "      <td>Dick Johnson Is Dead</td>\n",
       "      <td>Kirsten Johnson</td>\n",
       "    </tr>\n",
       "    <tr>\n",
       "      <th>1</th>\n",
       "      <td>Blood &amp; Water</td>\n",
       "      <td>Rajiv Chilaka</td>\n",
       "    </tr>\n",
       "    <tr>\n",
       "      <th>2</th>\n",
       "      <td>Ganglands</td>\n",
       "      <td>Julien Leclercq</td>\n",
       "    </tr>\n",
       "    <tr>\n",
       "      <th>3</th>\n",
       "      <td>Jailbirds New Orleans</td>\n",
       "      <td>Rajiv Chilaka</td>\n",
       "    </tr>\n",
       "    <tr>\n",
       "      <th>4</th>\n",
       "      <td>Kota Factory</td>\n",
       "      <td>Rajiv Chilaka</td>\n",
       "    </tr>\n",
       "    <tr>\n",
       "      <th>...</th>\n",
       "      <td>...</td>\n",
       "      <td>...</td>\n",
       "    </tr>\n",
       "    <tr>\n",
       "      <th>9459</th>\n",
       "      <td>Zodiac</td>\n",
       "      <td>David Fincher</td>\n",
       "    </tr>\n",
       "    <tr>\n",
       "      <th>9460</th>\n",
       "      <td>Zombie Dumb</td>\n",
       "      <td>Rajiv Chilaka</td>\n",
       "    </tr>\n",
       "    <tr>\n",
       "      <th>9461</th>\n",
       "      <td>Zombieland</td>\n",
       "      <td>Ruben Fleischer</td>\n",
       "    </tr>\n",
       "    <tr>\n",
       "      <th>9462</th>\n",
       "      <td>Zoom</td>\n",
       "      <td>Peter Hewitt</td>\n",
       "    </tr>\n",
       "    <tr>\n",
       "      <th>9463</th>\n",
       "      <td>Zubaan</td>\n",
       "      <td>Mozez Singh</td>\n",
       "    </tr>\n",
       "  </tbody>\n",
       "</table>\n",
       "<p>9464 rows × 2 columns</p>\n",
       "</div>"
      ],
      "text/plain": [
       "                      title         director\n",
       "0      Dick Johnson Is Dead  Kirsten Johnson\n",
       "1             Blood & Water    Rajiv Chilaka\n",
       "2                 Ganglands  Julien Leclercq\n",
       "3     Jailbirds New Orleans    Rajiv Chilaka\n",
       "4              Kota Factory    Rajiv Chilaka\n",
       "...                     ...              ...\n",
       "9459                 Zodiac    David Fincher\n",
       "9460            Zombie Dumb    Rajiv Chilaka\n",
       "9461             Zombieland  Ruben Fleischer\n",
       "9462                   Zoom     Peter Hewitt\n",
       "9463                 Zubaan      Mozez Singh\n",
       "\n",
       "[9464 rows x 2 columns]"
      ]
     },
     "execution_count": 154,
     "metadata": {},
     "output_type": "execute_result"
    }
   ],
   "source": [
    "df_director=pd.DataFrame(df_director)\n",
    "df_director.reset_index(inplace=True)\n",
    "df_director=df_director[['title',0]]\n",
    "df_director.columns=['title','director']\n",
    "df_director"
   ]
  },
  {
   "cell_type": "markdown",
   "metadata": {
    "id": "QQFmX8cuemTT"
   },
   "source": [
    "**Unnesting country column**"
   ]
  },
  {
   "cell_type": "code",
   "execution_count": 155,
   "metadata": {
    "executionInfo": {
     "elapsed": 25,
     "status": "ok",
     "timestamp": 1688446302865,
     "user": {
      "displayName": "Rahul Hipparkar",
      "userId": "05812361921738235335"
     },
     "user_tz": -330
    },
    "id": "N8BtnbwXebuI",
    "outputId": "bac54717-2f5f-4122-b326-db196b76b9e0"
   },
   "outputs": [
    {
     "data": {
      "text/plain": [
       "title                   \n",
       "Dick Johnson Is Dead   0    United States\n",
       "Blood & Water          0     South Africa\n",
       "Ganglands              0    United States\n",
       "Jailbirds New Orleans  0    United States\n",
       "Kota Factory           0            India\n",
       "dtype: object"
      ]
     },
     "execution_count": 155,
     "metadata": {},
     "output_type": "execute_result"
    }
   ],
   "source": [
    "constraint=data['country'].str.split(',',expand=True)\n",
    "constraint.set_index(keys=data['title'],inplace=True)\n",
    "constraint=constraint.stack()\n",
    "constraint.head()\n"
   ]
  },
  {
   "cell_type": "code",
   "execution_count": 156,
   "metadata": {
    "executionInfo": {
     "elapsed": 22,
     "status": "ok",
     "timestamp": 1688446302865,
     "user": {
      "displayName": "Rahul Hipparkar",
      "userId": "05812361921738235335"
     },
     "user_tz": -330
    },
    "id": "Qv-y5orng467",
    "outputId": "08573239-d891-4c2c-db77-9635293fc46e"
   },
   "outputs": [
    {
     "data": {
      "text/html": [
       "<div>\n",
       "<style scoped>\n",
       "    .dataframe tbody tr th:only-of-type {\n",
       "        vertical-align: middle;\n",
       "    }\n",
       "\n",
       "    .dataframe tbody tr th {\n",
       "        vertical-align: top;\n",
       "    }\n",
       "\n",
       "    .dataframe thead th {\n",
       "        text-align: right;\n",
       "    }\n",
       "</style>\n",
       "<table border=\"1\" class=\"dataframe\">\n",
       "  <thead>\n",
       "    <tr style=\"text-align: right;\">\n",
       "      <th></th>\n",
       "      <th>title</th>\n",
       "      <th>country</th>\n",
       "    </tr>\n",
       "  </thead>\n",
       "  <tbody>\n",
       "    <tr>\n",
       "      <th>0</th>\n",
       "      <td>Dick Johnson Is Dead</td>\n",
       "      <td>United States</td>\n",
       "    </tr>\n",
       "    <tr>\n",
       "      <th>1</th>\n",
       "      <td>Blood &amp; Water</td>\n",
       "      <td>South Africa</td>\n",
       "    </tr>\n",
       "    <tr>\n",
       "      <th>2</th>\n",
       "      <td>Ganglands</td>\n",
       "      <td>United States</td>\n",
       "    </tr>\n",
       "    <tr>\n",
       "      <th>3</th>\n",
       "      <td>Jailbirds New Orleans</td>\n",
       "      <td>United States</td>\n",
       "    </tr>\n",
       "    <tr>\n",
       "      <th>4</th>\n",
       "      <td>Kota Factory</td>\n",
       "      <td>India</td>\n",
       "    </tr>\n",
       "    <tr>\n",
       "      <th>...</th>\n",
       "      <td>...</td>\n",
       "      <td>...</td>\n",
       "    </tr>\n",
       "    <tr>\n",
       "      <th>10667</th>\n",
       "      <td>Zodiac</td>\n",
       "      <td>United States</td>\n",
       "    </tr>\n",
       "    <tr>\n",
       "      <th>10668</th>\n",
       "      <td>Zombie Dumb</td>\n",
       "      <td>United States</td>\n",
       "    </tr>\n",
       "    <tr>\n",
       "      <th>10669</th>\n",
       "      <td>Zombieland</td>\n",
       "      <td>United States</td>\n",
       "    </tr>\n",
       "    <tr>\n",
       "      <th>10670</th>\n",
       "      <td>Zoom</td>\n",
       "      <td>United States</td>\n",
       "    </tr>\n",
       "    <tr>\n",
       "      <th>10671</th>\n",
       "      <td>Zubaan</td>\n",
       "      <td>India</td>\n",
       "    </tr>\n",
       "  </tbody>\n",
       "</table>\n",
       "<p>10672 rows × 2 columns</p>\n",
       "</div>"
      ],
      "text/plain": [
       "                       title        country\n",
       "0       Dick Johnson Is Dead  United States\n",
       "1              Blood & Water   South Africa\n",
       "2                  Ganglands  United States\n",
       "3      Jailbirds New Orleans  United States\n",
       "4               Kota Factory          India\n",
       "...                      ...            ...\n",
       "10667                 Zodiac  United States\n",
       "10668            Zombie Dumb  United States\n",
       "10669             Zombieland  United States\n",
       "10670                   Zoom  United States\n",
       "10671                 Zubaan          India\n",
       "\n",
       "[10672 rows x 2 columns]"
      ]
     },
     "execution_count": 156,
     "metadata": {},
     "output_type": "execute_result"
    }
   ],
   "source": [
    "df_country=pd.DataFrame(constraint)\n",
    "df_country.reset_index(inplace=True)\n",
    "df_country=df_country[['title',0]]\n",
    "df_country.columns=['title','country']\n",
    "df_country"
   ]
  },
  {
   "cell_type": "markdown",
   "metadata": {
    "id": "Q1xY7kqdhw2C"
   },
   "source": [
    "**Unnesting listed_in columns**"
   ]
  },
  {
   "cell_type": "code",
   "execution_count": 157,
   "metadata": {
    "executionInfo": {
     "elapsed": 22,
     "status": "ok",
     "timestamp": 1688446302866,
     "user": {
      "displayName": "Rahul Hipparkar",
      "userId": "05812361921738235335"
     },
     "user_tz": -330
    },
    "id": "eYEhT7i2h565",
    "outputId": "2358d6eb-6671-4da5-b315-8741f741a77e"
   },
   "outputs": [
    {
     "data": {
      "text/plain": [
       "title                  \n",
       "Dick Johnson Is Dead  0             Documentaries\n",
       "Blood & Water         0    International TV Shows\n",
       "                      1                 TV Dramas\n",
       "                      2              TV Mysteries\n",
       "Ganglands             0            Crime TV Shows\n",
       "dtype: object"
      ]
     },
     "execution_count": 157,
     "metadata": {},
     "output_type": "execute_result"
    }
   ],
   "source": [
    "constraint=data['listed_in'].str.split(',',expand=True)\n",
    "constraint.set_index(keys=data['title'],inplace=True)\n",
    "constraint=constraint.stack()\n",
    "constraint.head()"
   ]
  },
  {
   "cell_type": "code",
   "execution_count": 158,
   "metadata": {
    "executionInfo": {
     "elapsed": 19,
     "status": "ok",
     "timestamp": 1688446302866,
     "user": {
      "displayName": "Rahul Hipparkar",
      "userId": "05812361921738235335"
     },
     "user_tz": -330
    },
    "id": "zmUvQAWbh-I2",
    "outputId": "17a50f13-9f72-4581-ebad-42575333d493"
   },
   "outputs": [
    {
     "data": {
      "text/html": [
       "<div>\n",
       "<style scoped>\n",
       "    .dataframe tbody tr th:only-of-type {\n",
       "        vertical-align: middle;\n",
       "    }\n",
       "\n",
       "    .dataframe tbody tr th {\n",
       "        vertical-align: top;\n",
       "    }\n",
       "\n",
       "    .dataframe thead th {\n",
       "        text-align: right;\n",
       "    }\n",
       "</style>\n",
       "<table border=\"1\" class=\"dataframe\">\n",
       "  <thead>\n",
       "    <tr style=\"text-align: right;\">\n",
       "      <th></th>\n",
       "      <th>title</th>\n",
       "      <th>genre</th>\n",
       "    </tr>\n",
       "  </thead>\n",
       "  <tbody>\n",
       "    <tr>\n",
       "      <th>0</th>\n",
       "      <td>Dick Johnson Is Dead</td>\n",
       "      <td>Documentaries</td>\n",
       "    </tr>\n",
       "    <tr>\n",
       "      <th>1</th>\n",
       "      <td>Blood &amp; Water</td>\n",
       "      <td>International TV Shows</td>\n",
       "    </tr>\n",
       "    <tr>\n",
       "      <th>2</th>\n",
       "      <td>Blood &amp; Water</td>\n",
       "      <td>TV Dramas</td>\n",
       "    </tr>\n",
       "    <tr>\n",
       "      <th>3</th>\n",
       "      <td>Blood &amp; Water</td>\n",
       "      <td>TV Mysteries</td>\n",
       "    </tr>\n",
       "    <tr>\n",
       "      <th>4</th>\n",
       "      <td>Ganglands</td>\n",
       "      <td>Crime TV Shows</td>\n",
       "    </tr>\n",
       "    <tr>\n",
       "      <th>...</th>\n",
       "      <td>...</td>\n",
       "      <td>...</td>\n",
       "    </tr>\n",
       "    <tr>\n",
       "      <th>19016</th>\n",
       "      <td>Zoom</td>\n",
       "      <td>Children &amp; Family Movies</td>\n",
       "    </tr>\n",
       "    <tr>\n",
       "      <th>19017</th>\n",
       "      <td>Zoom</td>\n",
       "      <td>Comedies</td>\n",
       "    </tr>\n",
       "    <tr>\n",
       "      <th>19018</th>\n",
       "      <td>Zubaan</td>\n",
       "      <td>Dramas</td>\n",
       "    </tr>\n",
       "    <tr>\n",
       "      <th>19019</th>\n",
       "      <td>Zubaan</td>\n",
       "      <td>International Movies</td>\n",
       "    </tr>\n",
       "    <tr>\n",
       "      <th>19020</th>\n",
       "      <td>Zubaan</td>\n",
       "      <td>Music &amp; Musicals</td>\n",
       "    </tr>\n",
       "  </tbody>\n",
       "</table>\n",
       "<p>19021 rows × 2 columns</p>\n",
       "</div>"
      ],
      "text/plain": [
       "                      title                     genre\n",
       "0      Dick Johnson Is Dead             Documentaries\n",
       "1             Blood & Water    International TV Shows\n",
       "2             Blood & Water                 TV Dramas\n",
       "3             Blood & Water              TV Mysteries\n",
       "4                 Ganglands            Crime TV Shows\n",
       "...                     ...                       ...\n",
       "19016                  Zoom  Children & Family Movies\n",
       "19017                  Zoom                  Comedies\n",
       "19018                Zubaan                    Dramas\n",
       "19019                Zubaan      International Movies\n",
       "19020                Zubaan          Music & Musicals\n",
       "\n",
       "[19021 rows x 2 columns]"
      ]
     },
     "execution_count": 158,
     "metadata": {},
     "output_type": "execute_result"
    }
   ],
   "source": [
    "df_genre=pd.DataFrame(constraint)\n",
    "df_genre.reset_index(inplace=True)\n",
    "df_genre=df_genre[['title',0]]\n",
    "df_genre.columns=['title','genre']\n",
    "df_genre"
   ]
  },
  {
   "cell_type": "markdown",
   "metadata": {
    "id": "X5Ag7pTuiyx6"
   },
   "source": [
    "**Merging cast and director dataframes**"
   ]
  },
  {
   "cell_type": "code",
   "execution_count": 159,
   "metadata": {
    "executionInfo": {
     "elapsed": 19,
     "status": "ok",
     "timestamp": 1688446302867,
     "user": {
      "displayName": "Rahul Hipparkar",
      "userId": "05812361921738235335"
     },
     "user_tz": -330
    },
    "id": "K5kl3-tjjBEf",
    "outputId": "ba78855b-b2da-4ac1-a6f4-d163195ff685"
   },
   "outputs": [
    {
     "data": {
      "text/html": [
       "<div>\n",
       "<style scoped>\n",
       "    .dataframe tbody tr th:only-of-type {\n",
       "        vertical-align: middle;\n",
       "    }\n",
       "\n",
       "    .dataframe tbody tr th {\n",
       "        vertical-align: top;\n",
       "    }\n",
       "\n",
       "    .dataframe thead th {\n",
       "        text-align: right;\n",
       "    }\n",
       "</style>\n",
       "<table border=\"1\" class=\"dataframe\">\n",
       "  <thead>\n",
       "    <tr style=\"text-align: right;\">\n",
       "      <th></th>\n",
       "      <th>title</th>\n",
       "      <th>cast</th>\n",
       "      <th>director</th>\n",
       "    </tr>\n",
       "  </thead>\n",
       "  <tbody>\n",
       "    <tr>\n",
       "      <th>0</th>\n",
       "      <td>Dick Johnson Is Dead</td>\n",
       "      <td>David Attenborough</td>\n",
       "      <td>Kirsten Johnson</td>\n",
       "    </tr>\n",
       "    <tr>\n",
       "      <th>1</th>\n",
       "      <td>Blood &amp; Water</td>\n",
       "      <td>Ama Qamata</td>\n",
       "      <td>Rajiv Chilaka</td>\n",
       "    </tr>\n",
       "    <tr>\n",
       "      <th>2</th>\n",
       "      <td>Blood &amp; Water</td>\n",
       "      <td>Khosi Ngema</td>\n",
       "      <td>Rajiv Chilaka</td>\n",
       "    </tr>\n",
       "    <tr>\n",
       "      <th>3</th>\n",
       "      <td>Blood &amp; Water</td>\n",
       "      <td>Gail Mabalane</td>\n",
       "      <td>Rajiv Chilaka</td>\n",
       "    </tr>\n",
       "    <tr>\n",
       "      <th>4</th>\n",
       "      <td>Blood &amp; Water</td>\n",
       "      <td>Thabang Molaba</td>\n",
       "      <td>Rajiv Chilaka</td>\n",
       "    </tr>\n",
       "    <tr>\n",
       "      <th>...</th>\n",
       "      <td>...</td>\n",
       "      <td>...</td>\n",
       "      <td>...</td>\n",
       "    </tr>\n",
       "    <tr>\n",
       "      <th>69796</th>\n",
       "      <td>Zubaan</td>\n",
       "      <td>Manish Chaudhary</td>\n",
       "      <td>Mozez Singh</td>\n",
       "    </tr>\n",
       "    <tr>\n",
       "      <th>69797</th>\n",
       "      <td>Zubaan</td>\n",
       "      <td>Meghna Malik</td>\n",
       "      <td>Mozez Singh</td>\n",
       "    </tr>\n",
       "    <tr>\n",
       "      <th>69798</th>\n",
       "      <td>Zubaan</td>\n",
       "      <td>Malkeet Rauni</td>\n",
       "      <td>Mozez Singh</td>\n",
       "    </tr>\n",
       "    <tr>\n",
       "      <th>69799</th>\n",
       "      <td>Zubaan</td>\n",
       "      <td>Anita Shabdish</td>\n",
       "      <td>Mozez Singh</td>\n",
       "    </tr>\n",
       "    <tr>\n",
       "      <th>69800</th>\n",
       "      <td>Zubaan</td>\n",
       "      <td>Chittaranjan Tripathy</td>\n",
       "      <td>Mozez Singh</td>\n",
       "    </tr>\n",
       "  </tbody>\n",
       "</table>\n",
       "<p>69801 rows × 3 columns</p>\n",
       "</div>"
      ],
      "text/plain": [
       "                      title                    cast         director\n",
       "0      Dick Johnson Is Dead      David Attenborough  Kirsten Johnson\n",
       "1             Blood & Water              Ama Qamata    Rajiv Chilaka\n",
       "2             Blood & Water             Khosi Ngema    Rajiv Chilaka\n",
       "3             Blood & Water           Gail Mabalane    Rajiv Chilaka\n",
       "4             Blood & Water          Thabang Molaba    Rajiv Chilaka\n",
       "...                     ...                     ...              ...\n",
       "69796                Zubaan        Manish Chaudhary      Mozez Singh\n",
       "69797                Zubaan            Meghna Malik      Mozez Singh\n",
       "69798                Zubaan           Malkeet Rauni      Mozez Singh\n",
       "69799                Zubaan          Anita Shabdish      Mozez Singh\n",
       "69800                Zubaan   Chittaranjan Tripathy      Mozez Singh\n",
       "\n",
       "[69801 rows x 3 columns]"
      ]
     },
     "execution_count": 159,
     "metadata": {},
     "output_type": "execute_result"
    }
   ],
   "source": [
    "df1=pd.merge(df_cast,df_director,how='inner',on='title')\n",
    "df1"
   ]
  },
  {
   "cell_type": "markdown",
   "metadata": {
    "id": "hf5qPP6vkPmY"
   },
   "source": [
    "**Merging country listed_in dataframes**"
   ]
  },
  {
   "cell_type": "code",
   "execution_count": 160,
   "metadata": {
    "executionInfo": {
     "elapsed": 634,
     "status": "ok",
     "timestamp": 1688446303483,
     "user": {
      "displayName": "Rahul Hipparkar",
      "userId": "05812361921738235335"
     },
     "user_tz": -330
    },
    "id": "m7kvF0jckPIm",
    "outputId": "926be089-cf39-4968-b6f4-40a9b0ddc677"
   },
   "outputs": [
    {
     "data": {
      "text/html": [
       "<div>\n",
       "<style scoped>\n",
       "    .dataframe tbody tr th:only-of-type {\n",
       "        vertical-align: middle;\n",
       "    }\n",
       "\n",
       "    .dataframe tbody tr th {\n",
       "        vertical-align: top;\n",
       "    }\n",
       "\n",
       "    .dataframe thead th {\n",
       "        text-align: right;\n",
       "    }\n",
       "</style>\n",
       "<table border=\"1\" class=\"dataframe\">\n",
       "  <thead>\n",
       "    <tr style=\"text-align: right;\">\n",
       "      <th></th>\n",
       "      <th>title</th>\n",
       "      <th>country</th>\n",
       "      <th>genre</th>\n",
       "    </tr>\n",
       "  </thead>\n",
       "  <tbody>\n",
       "    <tr>\n",
       "      <th>0</th>\n",
       "      <td>Dick Johnson Is Dead</td>\n",
       "      <td>United States</td>\n",
       "      <td>Documentaries</td>\n",
       "    </tr>\n",
       "    <tr>\n",
       "      <th>1</th>\n",
       "      <td>Blood &amp; Water</td>\n",
       "      <td>South Africa</td>\n",
       "      <td>International TV Shows</td>\n",
       "    </tr>\n",
       "    <tr>\n",
       "      <th>2</th>\n",
       "      <td>Blood &amp; Water</td>\n",
       "      <td>South Africa</td>\n",
       "      <td>TV Dramas</td>\n",
       "    </tr>\n",
       "    <tr>\n",
       "      <th>3</th>\n",
       "      <td>Blood &amp; Water</td>\n",
       "      <td>South Africa</td>\n",
       "      <td>TV Mysteries</td>\n",
       "    </tr>\n",
       "    <tr>\n",
       "      <th>4</th>\n",
       "      <td>Ganglands</td>\n",
       "      <td>United States</td>\n",
       "      <td>Crime TV Shows</td>\n",
       "    </tr>\n",
       "    <tr>\n",
       "      <th>...</th>\n",
       "      <td>...</td>\n",
       "      <td>...</td>\n",
       "      <td>...</td>\n",
       "    </tr>\n",
       "    <tr>\n",
       "      <th>23374</th>\n",
       "      <td>Zoom</td>\n",
       "      <td>United States</td>\n",
       "      <td>Children &amp; Family Movies</td>\n",
       "    </tr>\n",
       "    <tr>\n",
       "      <th>23375</th>\n",
       "      <td>Zoom</td>\n",
       "      <td>United States</td>\n",
       "      <td>Comedies</td>\n",
       "    </tr>\n",
       "    <tr>\n",
       "      <th>23376</th>\n",
       "      <td>Zubaan</td>\n",
       "      <td>India</td>\n",
       "      <td>Dramas</td>\n",
       "    </tr>\n",
       "    <tr>\n",
       "      <th>23377</th>\n",
       "      <td>Zubaan</td>\n",
       "      <td>India</td>\n",
       "      <td>International Movies</td>\n",
       "    </tr>\n",
       "    <tr>\n",
       "      <th>23378</th>\n",
       "      <td>Zubaan</td>\n",
       "      <td>India</td>\n",
       "      <td>Music &amp; Musicals</td>\n",
       "    </tr>\n",
       "  </tbody>\n",
       "</table>\n",
       "<p>23379 rows × 3 columns</p>\n",
       "</div>"
      ],
      "text/plain": [
       "                      title        country                     genre\n",
       "0      Dick Johnson Is Dead  United States             Documentaries\n",
       "1             Blood & Water   South Africa    International TV Shows\n",
       "2             Blood & Water   South Africa                 TV Dramas\n",
       "3             Blood & Water   South Africa              TV Mysteries\n",
       "4                 Ganglands  United States            Crime TV Shows\n",
       "...                     ...            ...                       ...\n",
       "23374                  Zoom  United States  Children & Family Movies\n",
       "23375                  Zoom  United States                  Comedies\n",
       "23376                Zubaan          India                    Dramas\n",
       "23377                Zubaan          India      International Movies\n",
       "23378                Zubaan          India          Music & Musicals\n",
       "\n",
       "[23379 rows x 3 columns]"
      ]
     },
     "execution_count": 160,
     "metadata": {},
     "output_type": "execute_result"
    }
   ],
   "source": [
    "df2=pd.merge(df_country,df_genre,how='inner',on='title')\n",
    "df2"
   ]
  },
  {
   "cell_type": "markdown",
   "metadata": {
    "id": "a178jRXxkiEJ"
   },
   "source": [
    "**Merging df1 and df2**"
   ]
  },
  {
   "cell_type": "code",
   "execution_count": 161,
   "metadata": {
    "executionInfo": {
     "elapsed": 12,
     "status": "ok",
     "timestamp": 1688446303483,
     "user": {
      "displayName": "Rahul Hipparkar",
      "userId": "05812361921738235335"
     },
     "user_tz": -330
    },
    "id": "uvEWU2ONkhkN",
    "outputId": "d404e09e-66ca-46c0-8396-23ab61f78602"
   },
   "outputs": [
    {
     "data": {
      "text/html": [
       "<div>\n",
       "<style scoped>\n",
       "    .dataframe tbody tr th:only-of-type {\n",
       "        vertical-align: middle;\n",
       "    }\n",
       "\n",
       "    .dataframe tbody tr th {\n",
       "        vertical-align: top;\n",
       "    }\n",
       "\n",
       "    .dataframe thead th {\n",
       "        text-align: right;\n",
       "    }\n",
       "</style>\n",
       "<table border=\"1\" class=\"dataframe\">\n",
       "  <thead>\n",
       "    <tr style=\"text-align: right;\">\n",
       "      <th></th>\n",
       "      <th>title</th>\n",
       "      <th>cast</th>\n",
       "      <th>director</th>\n",
       "      <th>country</th>\n",
       "      <th>genre</th>\n",
       "    </tr>\n",
       "  </thead>\n",
       "  <tbody>\n",
       "    <tr>\n",
       "      <th>0</th>\n",
       "      <td>Dick Johnson Is Dead</td>\n",
       "      <td>David Attenborough</td>\n",
       "      <td>Kirsten Johnson</td>\n",
       "      <td>United States</td>\n",
       "      <td>Documentaries</td>\n",
       "    </tr>\n",
       "    <tr>\n",
       "      <th>1</th>\n",
       "      <td>Blood &amp; Water</td>\n",
       "      <td>Ama Qamata</td>\n",
       "      <td>Rajiv Chilaka</td>\n",
       "      <td>South Africa</td>\n",
       "      <td>International TV Shows</td>\n",
       "    </tr>\n",
       "    <tr>\n",
       "      <th>2</th>\n",
       "      <td>Blood &amp; Water</td>\n",
       "      <td>Ama Qamata</td>\n",
       "      <td>Rajiv Chilaka</td>\n",
       "      <td>South Africa</td>\n",
       "      <td>TV Dramas</td>\n",
       "    </tr>\n",
       "    <tr>\n",
       "      <th>3</th>\n",
       "      <td>Blood &amp; Water</td>\n",
       "      <td>Ama Qamata</td>\n",
       "      <td>Rajiv Chilaka</td>\n",
       "      <td>South Africa</td>\n",
       "      <td>TV Mysteries</td>\n",
       "    </tr>\n",
       "    <tr>\n",
       "      <th>4</th>\n",
       "      <td>Blood &amp; Water</td>\n",
       "      <td>Khosi Ngema</td>\n",
       "      <td>Rajiv Chilaka</td>\n",
       "      <td>South Africa</td>\n",
       "      <td>International TV Shows</td>\n",
       "    </tr>\n",
       "    <tr>\n",
       "      <th>...</th>\n",
       "      <td>...</td>\n",
       "      <td>...</td>\n",
       "      <td>...</td>\n",
       "      <td>...</td>\n",
       "      <td>...</td>\n",
       "    </tr>\n",
       "    <tr>\n",
       "      <th>199003</th>\n",
       "      <td>Zubaan</td>\n",
       "      <td>Anita Shabdish</td>\n",
       "      <td>Mozez Singh</td>\n",
       "      <td>India</td>\n",
       "      <td>International Movies</td>\n",
       "    </tr>\n",
       "    <tr>\n",
       "      <th>199004</th>\n",
       "      <td>Zubaan</td>\n",
       "      <td>Anita Shabdish</td>\n",
       "      <td>Mozez Singh</td>\n",
       "      <td>India</td>\n",
       "      <td>Music &amp; Musicals</td>\n",
       "    </tr>\n",
       "    <tr>\n",
       "      <th>199005</th>\n",
       "      <td>Zubaan</td>\n",
       "      <td>Chittaranjan Tripathy</td>\n",
       "      <td>Mozez Singh</td>\n",
       "      <td>India</td>\n",
       "      <td>Dramas</td>\n",
       "    </tr>\n",
       "    <tr>\n",
       "      <th>199006</th>\n",
       "      <td>Zubaan</td>\n",
       "      <td>Chittaranjan Tripathy</td>\n",
       "      <td>Mozez Singh</td>\n",
       "      <td>India</td>\n",
       "      <td>International Movies</td>\n",
       "    </tr>\n",
       "    <tr>\n",
       "      <th>199007</th>\n",
       "      <td>Zubaan</td>\n",
       "      <td>Chittaranjan Tripathy</td>\n",
       "      <td>Mozez Singh</td>\n",
       "      <td>India</td>\n",
       "      <td>Music &amp; Musicals</td>\n",
       "    </tr>\n",
       "  </tbody>\n",
       "</table>\n",
       "<p>199008 rows × 5 columns</p>\n",
       "</div>"
      ],
      "text/plain": [
       "                       title                    cast         director  \\\n",
       "0       Dick Johnson Is Dead      David Attenborough  Kirsten Johnson   \n",
       "1              Blood & Water              Ama Qamata    Rajiv Chilaka   \n",
       "2              Blood & Water              Ama Qamata    Rajiv Chilaka   \n",
       "3              Blood & Water              Ama Qamata    Rajiv Chilaka   \n",
       "4              Blood & Water             Khosi Ngema    Rajiv Chilaka   \n",
       "...                      ...                     ...              ...   \n",
       "199003                Zubaan          Anita Shabdish      Mozez Singh   \n",
       "199004                Zubaan          Anita Shabdish      Mozez Singh   \n",
       "199005                Zubaan   Chittaranjan Tripathy      Mozez Singh   \n",
       "199006                Zubaan   Chittaranjan Tripathy      Mozez Singh   \n",
       "199007                Zubaan   Chittaranjan Tripathy      Mozez Singh   \n",
       "\n",
       "              country                   genre  \n",
       "0       United States           Documentaries  \n",
       "1        South Africa  International TV Shows  \n",
       "2        South Africa               TV Dramas  \n",
       "3        South Africa            TV Mysteries  \n",
       "4        South Africa  International TV Shows  \n",
       "...               ...                     ...  \n",
       "199003          India    International Movies  \n",
       "199004          India        Music & Musicals  \n",
       "199005          India                  Dramas  \n",
       "199006          India    International Movies  \n",
       "199007          India        Music & Musicals  \n",
       "\n",
       "[199008 rows x 5 columns]"
      ]
     },
     "execution_count": 161,
     "metadata": {},
     "output_type": "execute_result"
    }
   ],
   "source": [
    "df_final=pd.merge(df1,df2,how='inner',on='title')\n",
    "df_final"
   ]
  },
  {
   "cell_type": "markdown",
   "metadata": {
    "id": "sVccjCyYlU4W"
   },
   "source": [
    "**Removing all nested columns from original dataframe**"
   ]
  },
  {
   "cell_type": "code",
   "execution_count": 162,
   "metadata": {
    "executionInfo": {
     "elapsed": 11,
     "status": "ok",
     "timestamp": 1688446303484,
     "user": {
      "displayName": "Rahul Hipparkar",
      "userId": "05812361921738235335"
     },
     "user_tz": -330
    },
    "id": "bRr6upoClUfx",
    "outputId": "e7a6b412-9a44-4a84-d63f-167a6fb0925d"
   },
   "outputs": [
    {
     "data": {
      "text/html": [
       "<div>\n",
       "<style scoped>\n",
       "    .dataframe tbody tr th:only-of-type {\n",
       "        vertical-align: middle;\n",
       "    }\n",
       "\n",
       "    .dataframe tbody tr th {\n",
       "        vertical-align: top;\n",
       "    }\n",
       "\n",
       "    .dataframe thead th {\n",
       "        text-align: right;\n",
       "    }\n",
       "</style>\n",
       "<table border=\"1\" class=\"dataframe\">\n",
       "  <thead>\n",
       "    <tr style=\"text-align: right;\">\n",
       "      <th></th>\n",
       "      <th>show_id</th>\n",
       "      <th>type</th>\n",
       "      <th>title</th>\n",
       "      <th>date_added</th>\n",
       "      <th>release_year</th>\n",
       "      <th>rating</th>\n",
       "      <th>duration</th>\n",
       "      <th>description</th>\n",
       "    </tr>\n",
       "  </thead>\n",
       "  <tbody>\n",
       "    <tr>\n",
       "      <th>0</th>\n",
       "      <td>s1</td>\n",
       "      <td>Movie</td>\n",
       "      <td>Dick Johnson Is Dead</td>\n",
       "      <td>September 25, 2021</td>\n",
       "      <td>2020</td>\n",
       "      <td>PG-13</td>\n",
       "      <td>90 min</td>\n",
       "      <td>As her father nears the end of his life, filmm...</td>\n",
       "    </tr>\n",
       "    <tr>\n",
       "      <th>1</th>\n",
       "      <td>s2</td>\n",
       "      <td>TV Show</td>\n",
       "      <td>Blood &amp; Water</td>\n",
       "      <td>September 24, 2021</td>\n",
       "      <td>2021</td>\n",
       "      <td>TV-MA</td>\n",
       "      <td>2 Seasons</td>\n",
       "      <td>After crossing paths at a party, a Cape Town t...</td>\n",
       "    </tr>\n",
       "    <tr>\n",
       "      <th>2</th>\n",
       "      <td>s3</td>\n",
       "      <td>TV Show</td>\n",
       "      <td>Ganglands</td>\n",
       "      <td>September 24, 2021</td>\n",
       "      <td>2021</td>\n",
       "      <td>TV-MA</td>\n",
       "      <td>1 Season</td>\n",
       "      <td>To protect his family from a powerful drug lor...</td>\n",
       "    </tr>\n",
       "    <tr>\n",
       "      <th>3</th>\n",
       "      <td>s4</td>\n",
       "      <td>TV Show</td>\n",
       "      <td>Jailbirds New Orleans</td>\n",
       "      <td>September 24, 2021</td>\n",
       "      <td>2021</td>\n",
       "      <td>TV-MA</td>\n",
       "      <td>1 Season</td>\n",
       "      <td>Feuds, flirtations and toilet talk go down amo...</td>\n",
       "    </tr>\n",
       "    <tr>\n",
       "      <th>4</th>\n",
       "      <td>s5</td>\n",
       "      <td>TV Show</td>\n",
       "      <td>Kota Factory</td>\n",
       "      <td>September 24, 2021</td>\n",
       "      <td>2021</td>\n",
       "      <td>TV-MA</td>\n",
       "      <td>2 Seasons</td>\n",
       "      <td>In a city of coaching centers known to train I...</td>\n",
       "    </tr>\n",
       "    <tr>\n",
       "      <th>...</th>\n",
       "      <td>...</td>\n",
       "      <td>...</td>\n",
       "      <td>...</td>\n",
       "      <td>...</td>\n",
       "      <td>...</td>\n",
       "      <td>...</td>\n",
       "      <td>...</td>\n",
       "      <td>...</td>\n",
       "    </tr>\n",
       "    <tr>\n",
       "      <th>8802</th>\n",
       "      <td>s8803</td>\n",
       "      <td>Movie</td>\n",
       "      <td>Zodiac</td>\n",
       "      <td>November 20, 2019</td>\n",
       "      <td>2007</td>\n",
       "      <td>R</td>\n",
       "      <td>158 min</td>\n",
       "      <td>A political cartoonist, a crime reporter and a...</td>\n",
       "    </tr>\n",
       "    <tr>\n",
       "      <th>8803</th>\n",
       "      <td>s8804</td>\n",
       "      <td>TV Show</td>\n",
       "      <td>Zombie Dumb</td>\n",
       "      <td>July 1, 2019</td>\n",
       "      <td>2018</td>\n",
       "      <td>TV-Y7</td>\n",
       "      <td>2 Seasons</td>\n",
       "      <td>While living alone in a spooky town, a young g...</td>\n",
       "    </tr>\n",
       "    <tr>\n",
       "      <th>8804</th>\n",
       "      <td>s8805</td>\n",
       "      <td>Movie</td>\n",
       "      <td>Zombieland</td>\n",
       "      <td>November 1, 2019</td>\n",
       "      <td>2009</td>\n",
       "      <td>R</td>\n",
       "      <td>88 min</td>\n",
       "      <td>Looking to survive in a world taken over by zo...</td>\n",
       "    </tr>\n",
       "    <tr>\n",
       "      <th>8805</th>\n",
       "      <td>s8806</td>\n",
       "      <td>Movie</td>\n",
       "      <td>Zoom</td>\n",
       "      <td>January 11, 2020</td>\n",
       "      <td>2006</td>\n",
       "      <td>PG</td>\n",
       "      <td>88 min</td>\n",
       "      <td>Dragged from civilian life, a former superhero...</td>\n",
       "    </tr>\n",
       "    <tr>\n",
       "      <th>8806</th>\n",
       "      <td>s8807</td>\n",
       "      <td>Movie</td>\n",
       "      <td>Zubaan</td>\n",
       "      <td>March 2, 2019</td>\n",
       "      <td>2015</td>\n",
       "      <td>TV-14</td>\n",
       "      <td>111 min</td>\n",
       "      <td>A scrappy but poor boy worms his way into a ty...</td>\n",
       "    </tr>\n",
       "  </tbody>\n",
       "</table>\n",
       "<p>8668 rows × 8 columns</p>\n",
       "</div>"
      ],
      "text/plain": [
       "     show_id     type                  title          date_added  \\\n",
       "0         s1    Movie   Dick Johnson Is Dead  September 25, 2021   \n",
       "1         s2  TV Show          Blood & Water  September 24, 2021   \n",
       "2         s3  TV Show              Ganglands  September 24, 2021   \n",
       "3         s4  TV Show  Jailbirds New Orleans  September 24, 2021   \n",
       "4         s5  TV Show           Kota Factory  September 24, 2021   \n",
       "...      ...      ...                    ...                 ...   \n",
       "8802   s8803    Movie                 Zodiac   November 20, 2019   \n",
       "8803   s8804  TV Show            Zombie Dumb        July 1, 2019   \n",
       "8804   s8805    Movie             Zombieland    November 1, 2019   \n",
       "8805   s8806    Movie                   Zoom    January 11, 2020   \n",
       "8806   s8807    Movie                 Zubaan       March 2, 2019   \n",
       "\n",
       "      release_year rating   duration  \\\n",
       "0             2020  PG-13     90 min   \n",
       "1             2021  TV-MA  2 Seasons   \n",
       "2             2021  TV-MA   1 Season   \n",
       "3             2021  TV-MA   1 Season   \n",
       "4             2021  TV-MA  2 Seasons   \n",
       "...            ...    ...        ...   \n",
       "8802          2007      R    158 min   \n",
       "8803          2018  TV-Y7  2 Seasons   \n",
       "8804          2009      R     88 min   \n",
       "8805          2006     PG     88 min   \n",
       "8806          2015  TV-14    111 min   \n",
       "\n",
       "                                            description  \n",
       "0     As her father nears the end of his life, filmm...  \n",
       "1     After crossing paths at a party, a Cape Town t...  \n",
       "2     To protect his family from a powerful drug lor...  \n",
       "3     Feuds, flirtations and toilet talk go down amo...  \n",
       "4     In a city of coaching centers known to train I...  \n",
       "...                                                 ...  \n",
       "8802  A political cartoonist, a crime reporter and a...  \n",
       "8803  While living alone in a spooky town, a young g...  \n",
       "8804  Looking to survive in a world taken over by zo...  \n",
       "8805  Dragged from civilian life, a former superhero...  \n",
       "8806  A scrappy but poor boy worms his way into a ty...  \n",
       "\n",
       "[8668 rows x 8 columns]"
      ]
     },
     "execution_count": 162,
     "metadata": {},
     "output_type": "execute_result"
    }
   ],
   "source": [
    "df_remaining=data.drop(columns=['cast','country','director','listed_in'])\n",
    "df_remaining"
   ]
  },
  {
   "cell_type": "markdown",
   "metadata": {
    "id": "72xRPl9Fl_B1"
   },
   "source": [
    "**Finally merging df_remaining and df_final**"
   ]
  },
  {
   "cell_type": "code",
   "execution_count": 163,
   "metadata": {
    "executionInfo": {
     "elapsed": 10,
     "status": "ok",
     "timestamp": 1688446303484,
     "user": {
      "displayName": "Rahul Hipparkar",
      "userId": "05812361921738235335"
     },
     "user_tz": -330
    },
    "id": "0o77zCCal-sQ",
    "outputId": "79849925-9e5d-4f97-e2ca-350535cdf86f"
   },
   "outputs": [
    {
     "data": {
      "text/html": [
       "<div>\n",
       "<style scoped>\n",
       "    .dataframe tbody tr th:only-of-type {\n",
       "        vertical-align: middle;\n",
       "    }\n",
       "\n",
       "    .dataframe tbody tr th {\n",
       "        vertical-align: top;\n",
       "    }\n",
       "\n",
       "    .dataframe thead th {\n",
       "        text-align: right;\n",
       "    }\n",
       "</style>\n",
       "<table border=\"1\" class=\"dataframe\">\n",
       "  <thead>\n",
       "    <tr style=\"text-align: right;\">\n",
       "      <th></th>\n",
       "      <th>show_id</th>\n",
       "      <th>type</th>\n",
       "      <th>title</th>\n",
       "      <th>date_added</th>\n",
       "      <th>release_year</th>\n",
       "      <th>rating</th>\n",
       "      <th>duration</th>\n",
       "      <th>description</th>\n",
       "      <th>cast</th>\n",
       "      <th>director</th>\n",
       "      <th>country</th>\n",
       "      <th>genre</th>\n",
       "    </tr>\n",
       "  </thead>\n",
       "  <tbody>\n",
       "    <tr>\n",
       "      <th>0</th>\n",
       "      <td>s1</td>\n",
       "      <td>Movie</td>\n",
       "      <td>Dick Johnson Is Dead</td>\n",
       "      <td>September 25, 2021</td>\n",
       "      <td>2020</td>\n",
       "      <td>PG-13</td>\n",
       "      <td>90 min</td>\n",
       "      <td>As her father nears the end of his life, filmm...</td>\n",
       "      <td>David Attenborough</td>\n",
       "      <td>Kirsten Johnson</td>\n",
       "      <td>United States</td>\n",
       "      <td>Documentaries</td>\n",
       "    </tr>\n",
       "    <tr>\n",
       "      <th>1</th>\n",
       "      <td>s2</td>\n",
       "      <td>TV Show</td>\n",
       "      <td>Blood &amp; Water</td>\n",
       "      <td>September 24, 2021</td>\n",
       "      <td>2021</td>\n",
       "      <td>TV-MA</td>\n",
       "      <td>2 Seasons</td>\n",
       "      <td>After crossing paths at a party, a Cape Town t...</td>\n",
       "      <td>Ama Qamata</td>\n",
       "      <td>Rajiv Chilaka</td>\n",
       "      <td>South Africa</td>\n",
       "      <td>International TV Shows</td>\n",
       "    </tr>\n",
       "    <tr>\n",
       "      <th>2</th>\n",
       "      <td>s2</td>\n",
       "      <td>TV Show</td>\n",
       "      <td>Blood &amp; Water</td>\n",
       "      <td>September 24, 2021</td>\n",
       "      <td>2021</td>\n",
       "      <td>TV-MA</td>\n",
       "      <td>2 Seasons</td>\n",
       "      <td>After crossing paths at a party, a Cape Town t...</td>\n",
       "      <td>Ama Qamata</td>\n",
       "      <td>Rajiv Chilaka</td>\n",
       "      <td>South Africa</td>\n",
       "      <td>TV Dramas</td>\n",
       "    </tr>\n",
       "    <tr>\n",
       "      <th>3</th>\n",
       "      <td>s2</td>\n",
       "      <td>TV Show</td>\n",
       "      <td>Blood &amp; Water</td>\n",
       "      <td>September 24, 2021</td>\n",
       "      <td>2021</td>\n",
       "      <td>TV-MA</td>\n",
       "      <td>2 Seasons</td>\n",
       "      <td>After crossing paths at a party, a Cape Town t...</td>\n",
       "      <td>Ama Qamata</td>\n",
       "      <td>Rajiv Chilaka</td>\n",
       "      <td>South Africa</td>\n",
       "      <td>TV Mysteries</td>\n",
       "    </tr>\n",
       "    <tr>\n",
       "      <th>4</th>\n",
       "      <td>s2</td>\n",
       "      <td>TV Show</td>\n",
       "      <td>Blood &amp; Water</td>\n",
       "      <td>September 24, 2021</td>\n",
       "      <td>2021</td>\n",
       "      <td>TV-MA</td>\n",
       "      <td>2 Seasons</td>\n",
       "      <td>After crossing paths at a party, a Cape Town t...</td>\n",
       "      <td>Khosi Ngema</td>\n",
       "      <td>Rajiv Chilaka</td>\n",
       "      <td>South Africa</td>\n",
       "      <td>International TV Shows</td>\n",
       "    </tr>\n",
       "    <tr>\n",
       "      <th>...</th>\n",
       "      <td>...</td>\n",
       "      <td>...</td>\n",
       "      <td>...</td>\n",
       "      <td>...</td>\n",
       "      <td>...</td>\n",
       "      <td>...</td>\n",
       "      <td>...</td>\n",
       "      <td>...</td>\n",
       "      <td>...</td>\n",
       "      <td>...</td>\n",
       "      <td>...</td>\n",
       "      <td>...</td>\n",
       "    </tr>\n",
       "    <tr>\n",
       "      <th>199003</th>\n",
       "      <td>s8807</td>\n",
       "      <td>Movie</td>\n",
       "      <td>Zubaan</td>\n",
       "      <td>March 2, 2019</td>\n",
       "      <td>2015</td>\n",
       "      <td>TV-14</td>\n",
       "      <td>111 min</td>\n",
       "      <td>A scrappy but poor boy worms his way into a ty...</td>\n",
       "      <td>Anita Shabdish</td>\n",
       "      <td>Mozez Singh</td>\n",
       "      <td>India</td>\n",
       "      <td>International Movies</td>\n",
       "    </tr>\n",
       "    <tr>\n",
       "      <th>199004</th>\n",
       "      <td>s8807</td>\n",
       "      <td>Movie</td>\n",
       "      <td>Zubaan</td>\n",
       "      <td>March 2, 2019</td>\n",
       "      <td>2015</td>\n",
       "      <td>TV-14</td>\n",
       "      <td>111 min</td>\n",
       "      <td>A scrappy but poor boy worms his way into a ty...</td>\n",
       "      <td>Anita Shabdish</td>\n",
       "      <td>Mozez Singh</td>\n",
       "      <td>India</td>\n",
       "      <td>Music &amp; Musicals</td>\n",
       "    </tr>\n",
       "    <tr>\n",
       "      <th>199005</th>\n",
       "      <td>s8807</td>\n",
       "      <td>Movie</td>\n",
       "      <td>Zubaan</td>\n",
       "      <td>March 2, 2019</td>\n",
       "      <td>2015</td>\n",
       "      <td>TV-14</td>\n",
       "      <td>111 min</td>\n",
       "      <td>A scrappy but poor boy worms his way into a ty...</td>\n",
       "      <td>Chittaranjan Tripathy</td>\n",
       "      <td>Mozez Singh</td>\n",
       "      <td>India</td>\n",
       "      <td>Dramas</td>\n",
       "    </tr>\n",
       "    <tr>\n",
       "      <th>199006</th>\n",
       "      <td>s8807</td>\n",
       "      <td>Movie</td>\n",
       "      <td>Zubaan</td>\n",
       "      <td>March 2, 2019</td>\n",
       "      <td>2015</td>\n",
       "      <td>TV-14</td>\n",
       "      <td>111 min</td>\n",
       "      <td>A scrappy but poor boy worms his way into a ty...</td>\n",
       "      <td>Chittaranjan Tripathy</td>\n",
       "      <td>Mozez Singh</td>\n",
       "      <td>India</td>\n",
       "      <td>International Movies</td>\n",
       "    </tr>\n",
       "    <tr>\n",
       "      <th>199007</th>\n",
       "      <td>s8807</td>\n",
       "      <td>Movie</td>\n",
       "      <td>Zubaan</td>\n",
       "      <td>March 2, 2019</td>\n",
       "      <td>2015</td>\n",
       "      <td>TV-14</td>\n",
       "      <td>111 min</td>\n",
       "      <td>A scrappy but poor boy worms his way into a ty...</td>\n",
       "      <td>Chittaranjan Tripathy</td>\n",
       "      <td>Mozez Singh</td>\n",
       "      <td>India</td>\n",
       "      <td>Music &amp; Musicals</td>\n",
       "    </tr>\n",
       "  </tbody>\n",
       "</table>\n",
       "<p>199008 rows × 12 columns</p>\n",
       "</div>"
      ],
      "text/plain": [
       "       show_id     type                 title          date_added  \\\n",
       "0           s1    Movie  Dick Johnson Is Dead  September 25, 2021   \n",
       "1           s2  TV Show         Blood & Water  September 24, 2021   \n",
       "2           s2  TV Show         Blood & Water  September 24, 2021   \n",
       "3           s2  TV Show         Blood & Water  September 24, 2021   \n",
       "4           s2  TV Show         Blood & Water  September 24, 2021   \n",
       "...        ...      ...                   ...                 ...   \n",
       "199003   s8807    Movie                Zubaan       March 2, 2019   \n",
       "199004   s8807    Movie                Zubaan       March 2, 2019   \n",
       "199005   s8807    Movie                Zubaan       March 2, 2019   \n",
       "199006   s8807    Movie                Zubaan       March 2, 2019   \n",
       "199007   s8807    Movie                Zubaan       March 2, 2019   \n",
       "\n",
       "        release_year rating   duration  \\\n",
       "0               2020  PG-13     90 min   \n",
       "1               2021  TV-MA  2 Seasons   \n",
       "2               2021  TV-MA  2 Seasons   \n",
       "3               2021  TV-MA  2 Seasons   \n",
       "4               2021  TV-MA  2 Seasons   \n",
       "...              ...    ...        ...   \n",
       "199003          2015  TV-14    111 min   \n",
       "199004          2015  TV-14    111 min   \n",
       "199005          2015  TV-14    111 min   \n",
       "199006          2015  TV-14    111 min   \n",
       "199007          2015  TV-14    111 min   \n",
       "\n",
       "                                              description  \\\n",
       "0       As her father nears the end of his life, filmm...   \n",
       "1       After crossing paths at a party, a Cape Town t...   \n",
       "2       After crossing paths at a party, a Cape Town t...   \n",
       "3       After crossing paths at a party, a Cape Town t...   \n",
       "4       After crossing paths at a party, a Cape Town t...   \n",
       "...                                                   ...   \n",
       "199003  A scrappy but poor boy worms his way into a ty...   \n",
       "199004  A scrappy but poor boy worms his way into a ty...   \n",
       "199005  A scrappy but poor boy worms his way into a ty...   \n",
       "199006  A scrappy but poor boy worms his way into a ty...   \n",
       "199007  A scrappy but poor boy worms his way into a ty...   \n",
       "\n",
       "                          cast         director        country  \\\n",
       "0           David Attenborough  Kirsten Johnson  United States   \n",
       "1                   Ama Qamata    Rajiv Chilaka   South Africa   \n",
       "2                   Ama Qamata    Rajiv Chilaka   South Africa   \n",
       "3                   Ama Qamata    Rajiv Chilaka   South Africa   \n",
       "4                  Khosi Ngema    Rajiv Chilaka   South Africa   \n",
       "...                        ...              ...            ...   \n",
       "199003          Anita Shabdish      Mozez Singh          India   \n",
       "199004          Anita Shabdish      Mozez Singh          India   \n",
       "199005   Chittaranjan Tripathy      Mozez Singh          India   \n",
       "199006   Chittaranjan Tripathy      Mozez Singh          India   \n",
       "199007   Chittaranjan Tripathy      Mozez Singh          India   \n",
       "\n",
       "                         genre  \n",
       "0                Documentaries  \n",
       "1       International TV Shows  \n",
       "2                    TV Dramas  \n",
       "3                 TV Mysteries  \n",
       "4       International TV Shows  \n",
       "...                        ...  \n",
       "199003    International Movies  \n",
       "199004        Music & Musicals  \n",
       "199005                  Dramas  \n",
       "199006    International Movies  \n",
       "199007        Music & Musicals  \n",
       "\n",
       "[199008 rows x 12 columns]"
      ]
     },
     "execution_count": 163,
     "metadata": {},
     "output_type": "execute_result"
    }
   ],
   "source": [
    "netflix_df=pd.merge(df_remaining,df_final,how='inner',on='title')\n",
    "netflix_df"
   ]
  },
  {
   "cell_type": "code",
   "execution_count": 164,
   "metadata": {
    "executionInfo": {
     "elapsed": 476,
     "status": "ok",
     "timestamp": 1688446303951,
     "user": {
      "displayName": "Rahul Hipparkar",
      "userId": "05812361921738235335"
     },
     "user_tz": -330
    },
    "id": "d3mYyG3Vmh8K",
    "outputId": "0d80403f-45ce-428f-db4e-0e090df2be88"
   },
   "outputs": [
    {
     "data": {
      "text/plain": [
       "show_id         0\n",
       "type            0\n",
       "title           0\n",
       "date_added      0\n",
       "release_year    0\n",
       "rating          0\n",
       "duration        0\n",
       "description     0\n",
       "cast            0\n",
       "director        0\n",
       "country         0\n",
       "genre           0\n",
       "dtype: int64"
      ]
     },
     "execution_count": 164,
     "metadata": {},
     "output_type": "execute_result"
    }
   ],
   "source": [
    "netflix_df.isnull().sum()"
   ]
  },
  {
   "cell_type": "markdown",
   "metadata": {
    "id": "UryAVs5rawlB"
   },
   "source": [
    "## Data type Conversion"
   ]
  },
  {
   "cell_type": "markdown",
   "metadata": {
    "id": "g000Z4Hef4mv"
   },
   "source": [
    "**Converting Duration into numeric format**"
   ]
  },
  {
   "cell_type": "markdown",
   "metadata": {
    "id": "I8aUSWvGdRKI"
   },
   "source": [
    "\"Duration\" column is currently in an object type format, which prevents us from conducting quantitative analysis, such as calculating the average running time of movies or TV shows. To extract valuable insights from this column, we need to convert it into a numeric format."
   ]
  },
  {
   "cell_type": "code",
   "execution_count": 165,
   "metadata": {
    "executionInfo": {
     "elapsed": 6,
     "status": "ok",
     "timestamp": 1688446303951,
     "user": {
      "displayName": "Rahul Hipparkar",
      "userId": "05812361921738235335"
     },
     "user_tz": -330
    },
    "id": "nLiiLKn9a_Sb",
    "outputId": "65f315c0-5dab-4a8c-f04f-77f33b2cd8e0"
   },
   "outputs": [
    {
     "data": {
      "text/html": [
       "<div>\n",
       "<style scoped>\n",
       "    .dataframe tbody tr th:only-of-type {\n",
       "        vertical-align: middle;\n",
       "    }\n",
       "\n",
       "    .dataframe tbody tr th {\n",
       "        vertical-align: top;\n",
       "    }\n",
       "\n",
       "    .dataframe thead th {\n",
       "        text-align: right;\n",
       "    }\n",
       "</style>\n",
       "<table border=\"1\" class=\"dataframe\">\n",
       "  <thead>\n",
       "    <tr style=\"text-align: right;\">\n",
       "      <th></th>\n",
       "      <th>show_id</th>\n",
       "      <th>type</th>\n",
       "      <th>title</th>\n",
       "      <th>date_added</th>\n",
       "      <th>release_year</th>\n",
       "      <th>rating</th>\n",
       "      <th>duration</th>\n",
       "      <th>description</th>\n",
       "      <th>cast</th>\n",
       "      <th>director</th>\n",
       "      <th>country</th>\n",
       "      <th>genre</th>\n",
       "    </tr>\n",
       "  </thead>\n",
       "  <tbody>\n",
       "    <tr>\n",
       "      <th>0</th>\n",
       "      <td>s1</td>\n",
       "      <td>Movie</td>\n",
       "      <td>Dick Johnson Is Dead</td>\n",
       "      <td>September 25, 2021</td>\n",
       "      <td>2020</td>\n",
       "      <td>PG-13</td>\n",
       "      <td>90 min</td>\n",
       "      <td>As her father nears the end of his life, filmm...</td>\n",
       "      <td>David Attenborough</td>\n",
       "      <td>Kirsten Johnson</td>\n",
       "      <td>United States</td>\n",
       "      <td>Documentaries</td>\n",
       "    </tr>\n",
       "    <tr>\n",
       "      <th>1</th>\n",
       "      <td>s2</td>\n",
       "      <td>TV Show</td>\n",
       "      <td>Blood &amp; Water</td>\n",
       "      <td>September 24, 2021</td>\n",
       "      <td>2021</td>\n",
       "      <td>TV-MA</td>\n",
       "      <td>2 Seasons</td>\n",
       "      <td>After crossing paths at a party, a Cape Town t...</td>\n",
       "      <td>Ama Qamata</td>\n",
       "      <td>Rajiv Chilaka</td>\n",
       "      <td>South Africa</td>\n",
       "      <td>International TV Shows</td>\n",
       "    </tr>\n",
       "    <tr>\n",
       "      <th>2</th>\n",
       "      <td>s2</td>\n",
       "      <td>TV Show</td>\n",
       "      <td>Blood &amp; Water</td>\n",
       "      <td>September 24, 2021</td>\n",
       "      <td>2021</td>\n",
       "      <td>TV-MA</td>\n",
       "      <td>2 Seasons</td>\n",
       "      <td>After crossing paths at a party, a Cape Town t...</td>\n",
       "      <td>Ama Qamata</td>\n",
       "      <td>Rajiv Chilaka</td>\n",
       "      <td>South Africa</td>\n",
       "      <td>TV Dramas</td>\n",
       "    </tr>\n",
       "    <tr>\n",
       "      <th>3</th>\n",
       "      <td>s2</td>\n",
       "      <td>TV Show</td>\n",
       "      <td>Blood &amp; Water</td>\n",
       "      <td>September 24, 2021</td>\n",
       "      <td>2021</td>\n",
       "      <td>TV-MA</td>\n",
       "      <td>2 Seasons</td>\n",
       "      <td>After crossing paths at a party, a Cape Town t...</td>\n",
       "      <td>Ama Qamata</td>\n",
       "      <td>Rajiv Chilaka</td>\n",
       "      <td>South Africa</td>\n",
       "      <td>TV Mysteries</td>\n",
       "    </tr>\n",
       "    <tr>\n",
       "      <th>4</th>\n",
       "      <td>s2</td>\n",
       "      <td>TV Show</td>\n",
       "      <td>Blood &amp; Water</td>\n",
       "      <td>September 24, 2021</td>\n",
       "      <td>2021</td>\n",
       "      <td>TV-MA</td>\n",
       "      <td>2 Seasons</td>\n",
       "      <td>After crossing paths at a party, a Cape Town t...</td>\n",
       "      <td>Khosi Ngema</td>\n",
       "      <td>Rajiv Chilaka</td>\n",
       "      <td>South Africa</td>\n",
       "      <td>International TV Shows</td>\n",
       "    </tr>\n",
       "  </tbody>\n",
       "</table>\n",
       "</div>"
      ],
      "text/plain": [
       "  show_id     type                 title          date_added  release_year  \\\n",
       "0      s1    Movie  Dick Johnson Is Dead  September 25, 2021          2020   \n",
       "1      s2  TV Show         Blood & Water  September 24, 2021          2021   \n",
       "2      s2  TV Show         Blood & Water  September 24, 2021          2021   \n",
       "3      s2  TV Show         Blood & Water  September 24, 2021          2021   \n",
       "4      s2  TV Show         Blood & Water  September 24, 2021          2021   \n",
       "\n",
       "  rating   duration                                        description  \\\n",
       "0  PG-13     90 min  As her father nears the end of his life, filmm...   \n",
       "1  TV-MA  2 Seasons  After crossing paths at a party, a Cape Town t...   \n",
       "2  TV-MA  2 Seasons  After crossing paths at a party, a Cape Town t...   \n",
       "3  TV-MA  2 Seasons  After crossing paths at a party, a Cape Town t...   \n",
       "4  TV-MA  2 Seasons  After crossing paths at a party, a Cape Town t...   \n",
       "\n",
       "                 cast         director        country                   genre  \n",
       "0  David Attenborough  Kirsten Johnson  United States           Documentaries  \n",
       "1          Ama Qamata    Rajiv Chilaka   South Africa  International TV Shows  \n",
       "2          Ama Qamata    Rajiv Chilaka   South Africa               TV Dramas  \n",
       "3          Ama Qamata    Rajiv Chilaka   South Africa            TV Mysteries  \n",
       "4         Khosi Ngema    Rajiv Chilaka   South Africa  International TV Shows  "
      ]
     },
     "execution_count": 165,
     "metadata": {},
     "output_type": "execute_result"
    }
   ],
   "source": [
    "netflix_df.head()"
   ]
  },
  {
   "cell_type": "code",
   "execution_count": 166,
   "metadata": {
    "executionInfo": {
     "elapsed": 1377,
     "status": "ok",
     "timestamp": 1688446305323,
     "user": {
      "displayName": "Rahul Hipparkar",
      "userId": "05812361921738235335"
     },
     "user_tz": -330
    },
    "id": "b7Th1xtme2jR",
    "outputId": "81dcdb8a-5875-46bd-8c2c-a1b326c2d524"
   },
   "outputs": [
    {
     "data": {
      "text/html": [
       "<div>\n",
       "<style scoped>\n",
       "    .dataframe tbody tr th:only-of-type {\n",
       "        vertical-align: middle;\n",
       "    }\n",
       "\n",
       "    .dataframe tbody tr th {\n",
       "        vertical-align: top;\n",
       "    }\n",
       "\n",
       "    .dataframe thead th {\n",
       "        text-align: right;\n",
       "    }\n",
       "</style>\n",
       "<table border=\"1\" class=\"dataframe\">\n",
       "  <thead>\n",
       "    <tr style=\"text-align: right;\">\n",
       "      <th></th>\n",
       "      <th>show_id</th>\n",
       "      <th>type</th>\n",
       "      <th>title</th>\n",
       "      <th>date_added</th>\n",
       "      <th>release_year</th>\n",
       "      <th>rating</th>\n",
       "      <th>duration</th>\n",
       "      <th>description</th>\n",
       "      <th>cast</th>\n",
       "      <th>director</th>\n",
       "      <th>country</th>\n",
       "      <th>genre</th>\n",
       "    </tr>\n",
       "  </thead>\n",
       "  <tbody>\n",
       "    <tr>\n",
       "      <th>0</th>\n",
       "      <td>s1</td>\n",
       "      <td>Movie</td>\n",
       "      <td>Dick Johnson Is Dead</td>\n",
       "      <td>September 25, 2021</td>\n",
       "      <td>2020</td>\n",
       "      <td>PG-13</td>\n",
       "      <td>90</td>\n",
       "      <td>As her father nears the end of his life, filmm...</td>\n",
       "      <td>David Attenborough</td>\n",
       "      <td>Kirsten Johnson</td>\n",
       "      <td>United States</td>\n",
       "      <td>Documentaries</td>\n",
       "    </tr>\n",
       "    <tr>\n",
       "      <th>1</th>\n",
       "      <td>s2</td>\n",
       "      <td>TV Show</td>\n",
       "      <td>Blood &amp; Water</td>\n",
       "      <td>September 24, 2021</td>\n",
       "      <td>2021</td>\n",
       "      <td>TV-MA</td>\n",
       "      <td>2</td>\n",
       "      <td>After crossing paths at a party, a Cape Town t...</td>\n",
       "      <td>Ama Qamata</td>\n",
       "      <td>Rajiv Chilaka</td>\n",
       "      <td>South Africa</td>\n",
       "      <td>International TV Shows</td>\n",
       "    </tr>\n",
       "    <tr>\n",
       "      <th>2</th>\n",
       "      <td>s2</td>\n",
       "      <td>TV Show</td>\n",
       "      <td>Blood &amp; Water</td>\n",
       "      <td>September 24, 2021</td>\n",
       "      <td>2021</td>\n",
       "      <td>TV-MA</td>\n",
       "      <td>2</td>\n",
       "      <td>After crossing paths at a party, a Cape Town t...</td>\n",
       "      <td>Ama Qamata</td>\n",
       "      <td>Rajiv Chilaka</td>\n",
       "      <td>South Africa</td>\n",
       "      <td>TV Dramas</td>\n",
       "    </tr>\n",
       "    <tr>\n",
       "      <th>3</th>\n",
       "      <td>s2</td>\n",
       "      <td>TV Show</td>\n",
       "      <td>Blood &amp; Water</td>\n",
       "      <td>September 24, 2021</td>\n",
       "      <td>2021</td>\n",
       "      <td>TV-MA</td>\n",
       "      <td>2</td>\n",
       "      <td>After crossing paths at a party, a Cape Town t...</td>\n",
       "      <td>Ama Qamata</td>\n",
       "      <td>Rajiv Chilaka</td>\n",
       "      <td>South Africa</td>\n",
       "      <td>TV Mysteries</td>\n",
       "    </tr>\n",
       "    <tr>\n",
       "      <th>4</th>\n",
       "      <td>s2</td>\n",
       "      <td>TV Show</td>\n",
       "      <td>Blood &amp; Water</td>\n",
       "      <td>September 24, 2021</td>\n",
       "      <td>2021</td>\n",
       "      <td>TV-MA</td>\n",
       "      <td>2</td>\n",
       "      <td>After crossing paths at a party, a Cape Town t...</td>\n",
       "      <td>Khosi Ngema</td>\n",
       "      <td>Rajiv Chilaka</td>\n",
       "      <td>South Africa</td>\n",
       "      <td>International TV Shows</td>\n",
       "    </tr>\n",
       "    <tr>\n",
       "      <th>...</th>\n",
       "      <td>...</td>\n",
       "      <td>...</td>\n",
       "      <td>...</td>\n",
       "      <td>...</td>\n",
       "      <td>...</td>\n",
       "      <td>...</td>\n",
       "      <td>...</td>\n",
       "      <td>...</td>\n",
       "      <td>...</td>\n",
       "      <td>...</td>\n",
       "      <td>...</td>\n",
       "      <td>...</td>\n",
       "    </tr>\n",
       "    <tr>\n",
       "      <th>199003</th>\n",
       "      <td>s8807</td>\n",
       "      <td>Movie</td>\n",
       "      <td>Zubaan</td>\n",
       "      <td>March 2, 2019</td>\n",
       "      <td>2015</td>\n",
       "      <td>TV-14</td>\n",
       "      <td>111</td>\n",
       "      <td>A scrappy but poor boy worms his way into a ty...</td>\n",
       "      <td>Anita Shabdish</td>\n",
       "      <td>Mozez Singh</td>\n",
       "      <td>India</td>\n",
       "      <td>International Movies</td>\n",
       "    </tr>\n",
       "    <tr>\n",
       "      <th>199004</th>\n",
       "      <td>s8807</td>\n",
       "      <td>Movie</td>\n",
       "      <td>Zubaan</td>\n",
       "      <td>March 2, 2019</td>\n",
       "      <td>2015</td>\n",
       "      <td>TV-14</td>\n",
       "      <td>111</td>\n",
       "      <td>A scrappy but poor boy worms his way into a ty...</td>\n",
       "      <td>Anita Shabdish</td>\n",
       "      <td>Mozez Singh</td>\n",
       "      <td>India</td>\n",
       "      <td>Music &amp; Musicals</td>\n",
       "    </tr>\n",
       "    <tr>\n",
       "      <th>199005</th>\n",
       "      <td>s8807</td>\n",
       "      <td>Movie</td>\n",
       "      <td>Zubaan</td>\n",
       "      <td>March 2, 2019</td>\n",
       "      <td>2015</td>\n",
       "      <td>TV-14</td>\n",
       "      <td>111</td>\n",
       "      <td>A scrappy but poor boy worms his way into a ty...</td>\n",
       "      <td>Chittaranjan Tripathy</td>\n",
       "      <td>Mozez Singh</td>\n",
       "      <td>India</td>\n",
       "      <td>Dramas</td>\n",
       "    </tr>\n",
       "    <tr>\n",
       "      <th>199006</th>\n",
       "      <td>s8807</td>\n",
       "      <td>Movie</td>\n",
       "      <td>Zubaan</td>\n",
       "      <td>March 2, 2019</td>\n",
       "      <td>2015</td>\n",
       "      <td>TV-14</td>\n",
       "      <td>111</td>\n",
       "      <td>A scrappy but poor boy worms his way into a ty...</td>\n",
       "      <td>Chittaranjan Tripathy</td>\n",
       "      <td>Mozez Singh</td>\n",
       "      <td>India</td>\n",
       "      <td>International Movies</td>\n",
       "    </tr>\n",
       "    <tr>\n",
       "      <th>199007</th>\n",
       "      <td>s8807</td>\n",
       "      <td>Movie</td>\n",
       "      <td>Zubaan</td>\n",
       "      <td>March 2, 2019</td>\n",
       "      <td>2015</td>\n",
       "      <td>TV-14</td>\n",
       "      <td>111</td>\n",
       "      <td>A scrappy but poor boy worms his way into a ty...</td>\n",
       "      <td>Chittaranjan Tripathy</td>\n",
       "      <td>Mozez Singh</td>\n",
       "      <td>India</td>\n",
       "      <td>Music &amp; Musicals</td>\n",
       "    </tr>\n",
       "  </tbody>\n",
       "</table>\n",
       "<p>199008 rows × 12 columns</p>\n",
       "</div>"
      ],
      "text/plain": [
       "       show_id     type                 title          date_added  \\\n",
       "0           s1    Movie  Dick Johnson Is Dead  September 25, 2021   \n",
       "1           s2  TV Show         Blood & Water  September 24, 2021   \n",
       "2           s2  TV Show         Blood & Water  September 24, 2021   \n",
       "3           s2  TV Show         Blood & Water  September 24, 2021   \n",
       "4           s2  TV Show         Blood & Water  September 24, 2021   \n",
       "...        ...      ...                   ...                 ...   \n",
       "199003   s8807    Movie                Zubaan       March 2, 2019   \n",
       "199004   s8807    Movie                Zubaan       March 2, 2019   \n",
       "199005   s8807    Movie                Zubaan       March 2, 2019   \n",
       "199006   s8807    Movie                Zubaan       March 2, 2019   \n",
       "199007   s8807    Movie                Zubaan       March 2, 2019   \n",
       "\n",
       "        release_year rating  duration  \\\n",
       "0               2020  PG-13        90   \n",
       "1               2021  TV-MA         2   \n",
       "2               2021  TV-MA         2   \n",
       "3               2021  TV-MA         2   \n",
       "4               2021  TV-MA         2   \n",
       "...              ...    ...       ...   \n",
       "199003          2015  TV-14       111   \n",
       "199004          2015  TV-14       111   \n",
       "199005          2015  TV-14       111   \n",
       "199006          2015  TV-14       111   \n",
       "199007          2015  TV-14       111   \n",
       "\n",
       "                                              description  \\\n",
       "0       As her father nears the end of his life, filmm...   \n",
       "1       After crossing paths at a party, a Cape Town t...   \n",
       "2       After crossing paths at a party, a Cape Town t...   \n",
       "3       After crossing paths at a party, a Cape Town t...   \n",
       "4       After crossing paths at a party, a Cape Town t...   \n",
       "...                                                   ...   \n",
       "199003  A scrappy but poor boy worms his way into a ty...   \n",
       "199004  A scrappy but poor boy worms his way into a ty...   \n",
       "199005  A scrappy but poor boy worms his way into a ty...   \n",
       "199006  A scrappy but poor boy worms his way into a ty...   \n",
       "199007  A scrappy but poor boy worms his way into a ty...   \n",
       "\n",
       "                          cast         director        country  \\\n",
       "0           David Attenborough  Kirsten Johnson  United States   \n",
       "1                   Ama Qamata    Rajiv Chilaka   South Africa   \n",
       "2                   Ama Qamata    Rajiv Chilaka   South Africa   \n",
       "3                   Ama Qamata    Rajiv Chilaka   South Africa   \n",
       "4                  Khosi Ngema    Rajiv Chilaka   South Africa   \n",
       "...                        ...              ...            ...   \n",
       "199003          Anita Shabdish      Mozez Singh          India   \n",
       "199004          Anita Shabdish      Mozez Singh          India   \n",
       "199005   Chittaranjan Tripathy      Mozez Singh          India   \n",
       "199006   Chittaranjan Tripathy      Mozez Singh          India   \n",
       "199007   Chittaranjan Tripathy      Mozez Singh          India   \n",
       "\n",
       "                         genre  \n",
       "0                Documentaries  \n",
       "1       International TV Shows  \n",
       "2                    TV Dramas  \n",
       "3                 TV Mysteries  \n",
       "4       International TV Shows  \n",
       "...                        ...  \n",
       "199003    International Movies  \n",
       "199004        Music & Musicals  \n",
       "199005                  Dramas  \n",
       "199006    International Movies  \n",
       "199007        Music & Musicals  \n",
       "\n",
       "[199008 rows x 12 columns]"
      ]
     },
     "execution_count": 166,
     "metadata": {},
     "output_type": "execute_result"
    }
   ],
   "source": [
    "netflix_df['duration']=netflix_df['duration'].str.split(' ',expand=True)[0]\n",
    "netflix_df['duration']=netflix_df['duration'].astype('int')\n",
    "netflix_df"
   ]
  },
  {
   "cell_type": "code",
   "execution_count": 167,
   "metadata": {
    "executionInfo": {
     "elapsed": 23,
     "status": "ok",
     "timestamp": 1688446305325,
     "user": {
      "displayName": "Rahul Hipparkar",
      "userId": "05812361921738235335"
     },
     "user_tz": -330
    },
    "id": "_5KZfQfBfglz",
    "outputId": "1e853723-7d59-429f-b8b4-d110424b5fc4"
   },
   "outputs": [
    {
     "data": {
      "text/plain": [
       "0          90\n",
       "1           2\n",
       "2           2\n",
       "3           2\n",
       "4           2\n",
       "         ... \n",
       "199003    111\n",
       "199004    111\n",
       "199005    111\n",
       "199006    111\n",
       "199007    111\n",
       "Name: duration, Length: 199008, dtype: int32"
      ]
     },
     "execution_count": 167,
     "metadata": {},
     "output_type": "execute_result"
    }
   ],
   "source": [
    "netflix_df['duration']"
   ]
  },
  {
   "cell_type": "markdown",
   "metadata": {
    "id": "KpkgP5aBgDJv"
   },
   "source": [
    "**Conveting date_added into datetime format**"
   ]
  },
  {
   "cell_type": "code",
   "execution_count": 168,
   "metadata": {
    "executionInfo": {
     "elapsed": 20,
     "status": "ok",
     "timestamp": 1688446305325,
     "user": {
      "displayName": "Rahul Hipparkar",
      "userId": "05812361921738235335"
     },
     "user_tz": -330
    },
    "id": "vKU8ZL3rgeDj",
    "outputId": "3d2fb735-7196-40ef-b733-8dd4925601a0"
   },
   "outputs": [
    {
     "data": {
      "text/html": [
       "<div>\n",
       "<style scoped>\n",
       "    .dataframe tbody tr th:only-of-type {\n",
       "        vertical-align: middle;\n",
       "    }\n",
       "\n",
       "    .dataframe tbody tr th {\n",
       "        vertical-align: top;\n",
       "    }\n",
       "\n",
       "    .dataframe thead th {\n",
       "        text-align: right;\n",
       "    }\n",
       "</style>\n",
       "<table border=\"1\" class=\"dataframe\">\n",
       "  <thead>\n",
       "    <tr style=\"text-align: right;\">\n",
       "      <th></th>\n",
       "      <th>show_id</th>\n",
       "      <th>type</th>\n",
       "      <th>title</th>\n",
       "      <th>date_added</th>\n",
       "      <th>release_year</th>\n",
       "      <th>rating</th>\n",
       "      <th>duration</th>\n",
       "      <th>description</th>\n",
       "      <th>cast</th>\n",
       "      <th>director</th>\n",
       "      <th>country</th>\n",
       "      <th>genre</th>\n",
       "    </tr>\n",
       "  </thead>\n",
       "  <tbody>\n",
       "    <tr>\n",
       "      <th>0</th>\n",
       "      <td>s1</td>\n",
       "      <td>Movie</td>\n",
       "      <td>Dick Johnson Is Dead</td>\n",
       "      <td>2021-09-25</td>\n",
       "      <td>2020</td>\n",
       "      <td>PG-13</td>\n",
       "      <td>90</td>\n",
       "      <td>As her father nears the end of his life, filmm...</td>\n",
       "      <td>David Attenborough</td>\n",
       "      <td>Kirsten Johnson</td>\n",
       "      <td>United States</td>\n",
       "      <td>Documentaries</td>\n",
       "    </tr>\n",
       "    <tr>\n",
       "      <th>1</th>\n",
       "      <td>s2</td>\n",
       "      <td>TV Show</td>\n",
       "      <td>Blood &amp; Water</td>\n",
       "      <td>2021-09-24</td>\n",
       "      <td>2021</td>\n",
       "      <td>TV-MA</td>\n",
       "      <td>2</td>\n",
       "      <td>After crossing paths at a party, a Cape Town t...</td>\n",
       "      <td>Ama Qamata</td>\n",
       "      <td>Rajiv Chilaka</td>\n",
       "      <td>South Africa</td>\n",
       "      <td>International TV Shows</td>\n",
       "    </tr>\n",
       "    <tr>\n",
       "      <th>2</th>\n",
       "      <td>s2</td>\n",
       "      <td>TV Show</td>\n",
       "      <td>Blood &amp; Water</td>\n",
       "      <td>2021-09-24</td>\n",
       "      <td>2021</td>\n",
       "      <td>TV-MA</td>\n",
       "      <td>2</td>\n",
       "      <td>After crossing paths at a party, a Cape Town t...</td>\n",
       "      <td>Ama Qamata</td>\n",
       "      <td>Rajiv Chilaka</td>\n",
       "      <td>South Africa</td>\n",
       "      <td>TV Dramas</td>\n",
       "    </tr>\n",
       "    <tr>\n",
       "      <th>3</th>\n",
       "      <td>s2</td>\n",
       "      <td>TV Show</td>\n",
       "      <td>Blood &amp; Water</td>\n",
       "      <td>2021-09-24</td>\n",
       "      <td>2021</td>\n",
       "      <td>TV-MA</td>\n",
       "      <td>2</td>\n",
       "      <td>After crossing paths at a party, a Cape Town t...</td>\n",
       "      <td>Ama Qamata</td>\n",
       "      <td>Rajiv Chilaka</td>\n",
       "      <td>South Africa</td>\n",
       "      <td>TV Mysteries</td>\n",
       "    </tr>\n",
       "    <tr>\n",
       "      <th>4</th>\n",
       "      <td>s2</td>\n",
       "      <td>TV Show</td>\n",
       "      <td>Blood &amp; Water</td>\n",
       "      <td>2021-09-24</td>\n",
       "      <td>2021</td>\n",
       "      <td>TV-MA</td>\n",
       "      <td>2</td>\n",
       "      <td>After crossing paths at a party, a Cape Town t...</td>\n",
       "      <td>Khosi Ngema</td>\n",
       "      <td>Rajiv Chilaka</td>\n",
       "      <td>South Africa</td>\n",
       "      <td>International TV Shows</td>\n",
       "    </tr>\n",
       "  </tbody>\n",
       "</table>\n",
       "</div>"
      ],
      "text/plain": [
       "  show_id     type                 title date_added  release_year rating  \\\n",
       "0      s1    Movie  Dick Johnson Is Dead 2021-09-25          2020  PG-13   \n",
       "1      s2  TV Show         Blood & Water 2021-09-24          2021  TV-MA   \n",
       "2      s2  TV Show         Blood & Water 2021-09-24          2021  TV-MA   \n",
       "3      s2  TV Show         Blood & Water 2021-09-24          2021  TV-MA   \n",
       "4      s2  TV Show         Blood & Water 2021-09-24          2021  TV-MA   \n",
       "\n",
       "   duration                                        description  \\\n",
       "0        90  As her father nears the end of his life, filmm...   \n",
       "1         2  After crossing paths at a party, a Cape Town t...   \n",
       "2         2  After crossing paths at a party, a Cape Town t...   \n",
       "3         2  After crossing paths at a party, a Cape Town t...   \n",
       "4         2  After crossing paths at a party, a Cape Town t...   \n",
       "\n",
       "                 cast         director        country                   genre  \n",
       "0  David Attenborough  Kirsten Johnson  United States           Documentaries  \n",
       "1          Ama Qamata    Rajiv Chilaka   South Africa  International TV Shows  \n",
       "2          Ama Qamata    Rajiv Chilaka   South Africa               TV Dramas  \n",
       "3          Ama Qamata    Rajiv Chilaka   South Africa            TV Mysteries  \n",
       "4         Khosi Ngema    Rajiv Chilaka   South Africa  International TV Shows  "
      ]
     },
     "execution_count": 168,
     "metadata": {},
     "output_type": "execute_result"
    }
   ],
   "source": [
    "netflix_df['date_added']=pd.to_datetime(netflix_df['date_added'],errors='coerce')\n",
    "netflix_df.head()"
   ]
  },
  {
   "cell_type": "markdown",
   "metadata": {
    "id": "3D5Sm6naif-D"
   },
   "source": [
    "## Adding New Columns"
   ]
  },
  {
   "cell_type": "code",
   "execution_count": 169,
   "metadata": {
    "executionInfo": {
     "elapsed": 19,
     "status": "ok",
     "timestamp": 1688446305326,
     "user": {
      "displayName": "Rahul Hipparkar",
      "userId": "05812361921738235335"
     },
     "user_tz": -330
    },
    "id": "5zAtUy7Ll4uh"
   },
   "outputs": [],
   "source": [
    "import datetime as dt"
   ]
  },
  {
   "cell_type": "code",
   "execution_count": 170,
   "metadata": {
    "executionInfo": {
     "elapsed": 19,
     "status": "ok",
     "timestamp": 1688446305326,
     "user": {
      "displayName": "Rahul Hipparkar",
      "userId": "05812361921738235335"
     },
     "user_tz": -330
    },
    "id": "jN60K7akmGDp",
    "outputId": "103dda78-a409-4007-ebe1-0d18327f6ffb"
   },
   "outputs": [
    {
     "data": {
      "text/html": [
       "<div>\n",
       "<style scoped>\n",
       "    .dataframe tbody tr th:only-of-type {\n",
       "        vertical-align: middle;\n",
       "    }\n",
       "\n",
       "    .dataframe tbody tr th {\n",
       "        vertical-align: top;\n",
       "    }\n",
       "\n",
       "    .dataframe thead th {\n",
       "        text-align: right;\n",
       "    }\n",
       "</style>\n",
       "<table border=\"1\" class=\"dataframe\">\n",
       "  <thead>\n",
       "    <tr style=\"text-align: right;\">\n",
       "      <th></th>\n",
       "      <th>show_id</th>\n",
       "      <th>type</th>\n",
       "      <th>title</th>\n",
       "      <th>date_added</th>\n",
       "      <th>release_year</th>\n",
       "      <th>rating</th>\n",
       "      <th>duration</th>\n",
       "      <th>description</th>\n",
       "      <th>cast</th>\n",
       "      <th>director</th>\n",
       "      <th>country</th>\n",
       "      <th>genre</th>\n",
       "      <th>year_added</th>\n",
       "      <th>month_added</th>\n",
       "      <th>day_added</th>\n",
       "    </tr>\n",
       "  </thead>\n",
       "  <tbody>\n",
       "    <tr>\n",
       "      <th>0</th>\n",
       "      <td>s1</td>\n",
       "      <td>Movie</td>\n",
       "      <td>Dick Johnson Is Dead</td>\n",
       "      <td>2021-09-25</td>\n",
       "      <td>2020</td>\n",
       "      <td>PG-13</td>\n",
       "      <td>90</td>\n",
       "      <td>As her father nears the end of his life, filmm...</td>\n",
       "      <td>David Attenborough</td>\n",
       "      <td>Kirsten Johnson</td>\n",
       "      <td>United States</td>\n",
       "      <td>Documentaries</td>\n",
       "      <td>2021.0</td>\n",
       "      <td>9.0</td>\n",
       "      <td>25.0</td>\n",
       "    </tr>\n",
       "    <tr>\n",
       "      <th>1</th>\n",
       "      <td>s2</td>\n",
       "      <td>TV Show</td>\n",
       "      <td>Blood &amp; Water</td>\n",
       "      <td>2021-09-24</td>\n",
       "      <td>2021</td>\n",
       "      <td>TV-MA</td>\n",
       "      <td>2</td>\n",
       "      <td>After crossing paths at a party, a Cape Town t...</td>\n",
       "      <td>Ama Qamata</td>\n",
       "      <td>Rajiv Chilaka</td>\n",
       "      <td>South Africa</td>\n",
       "      <td>International TV Shows</td>\n",
       "      <td>2021.0</td>\n",
       "      <td>9.0</td>\n",
       "      <td>24.0</td>\n",
       "    </tr>\n",
       "    <tr>\n",
       "      <th>2</th>\n",
       "      <td>s2</td>\n",
       "      <td>TV Show</td>\n",
       "      <td>Blood &amp; Water</td>\n",
       "      <td>2021-09-24</td>\n",
       "      <td>2021</td>\n",
       "      <td>TV-MA</td>\n",
       "      <td>2</td>\n",
       "      <td>After crossing paths at a party, a Cape Town t...</td>\n",
       "      <td>Ama Qamata</td>\n",
       "      <td>Rajiv Chilaka</td>\n",
       "      <td>South Africa</td>\n",
       "      <td>TV Dramas</td>\n",
       "      <td>2021.0</td>\n",
       "      <td>9.0</td>\n",
       "      <td>24.0</td>\n",
       "    </tr>\n",
       "    <tr>\n",
       "      <th>3</th>\n",
       "      <td>s2</td>\n",
       "      <td>TV Show</td>\n",
       "      <td>Blood &amp; Water</td>\n",
       "      <td>2021-09-24</td>\n",
       "      <td>2021</td>\n",
       "      <td>TV-MA</td>\n",
       "      <td>2</td>\n",
       "      <td>After crossing paths at a party, a Cape Town t...</td>\n",
       "      <td>Ama Qamata</td>\n",
       "      <td>Rajiv Chilaka</td>\n",
       "      <td>South Africa</td>\n",
       "      <td>TV Mysteries</td>\n",
       "      <td>2021.0</td>\n",
       "      <td>9.0</td>\n",
       "      <td>24.0</td>\n",
       "    </tr>\n",
       "    <tr>\n",
       "      <th>4</th>\n",
       "      <td>s2</td>\n",
       "      <td>TV Show</td>\n",
       "      <td>Blood &amp; Water</td>\n",
       "      <td>2021-09-24</td>\n",
       "      <td>2021</td>\n",
       "      <td>TV-MA</td>\n",
       "      <td>2</td>\n",
       "      <td>After crossing paths at a party, a Cape Town t...</td>\n",
       "      <td>Khosi Ngema</td>\n",
       "      <td>Rajiv Chilaka</td>\n",
       "      <td>South Africa</td>\n",
       "      <td>International TV Shows</td>\n",
       "      <td>2021.0</td>\n",
       "      <td>9.0</td>\n",
       "      <td>24.0</td>\n",
       "    </tr>\n",
       "  </tbody>\n",
       "</table>\n",
       "</div>"
      ],
      "text/plain": [
       "  show_id     type                 title date_added  release_year rating  \\\n",
       "0      s1    Movie  Dick Johnson Is Dead 2021-09-25          2020  PG-13   \n",
       "1      s2  TV Show         Blood & Water 2021-09-24          2021  TV-MA   \n",
       "2      s2  TV Show         Blood & Water 2021-09-24          2021  TV-MA   \n",
       "3      s2  TV Show         Blood & Water 2021-09-24          2021  TV-MA   \n",
       "4      s2  TV Show         Blood & Water 2021-09-24          2021  TV-MA   \n",
       "\n",
       "   duration                                        description  \\\n",
       "0        90  As her father nears the end of his life, filmm...   \n",
       "1         2  After crossing paths at a party, a Cape Town t...   \n",
       "2         2  After crossing paths at a party, a Cape Town t...   \n",
       "3         2  After crossing paths at a party, a Cape Town t...   \n",
       "4         2  After crossing paths at a party, a Cape Town t...   \n",
       "\n",
       "                 cast         director        country                   genre  \\\n",
       "0  David Attenborough  Kirsten Johnson  United States           Documentaries   \n",
       "1          Ama Qamata    Rajiv Chilaka   South Africa  International TV Shows   \n",
       "2          Ama Qamata    Rajiv Chilaka   South Africa               TV Dramas   \n",
       "3          Ama Qamata    Rajiv Chilaka   South Africa            TV Mysteries   \n",
       "4         Khosi Ngema    Rajiv Chilaka   South Africa  International TV Shows   \n",
       "\n",
       "   year_added  month_added  day_added  \n",
       "0      2021.0          9.0       25.0  \n",
       "1      2021.0          9.0       24.0  \n",
       "2      2021.0          9.0       24.0  \n",
       "3      2021.0          9.0       24.0  \n",
       "4      2021.0          9.0       24.0  "
      ]
     },
     "execution_count": 170,
     "metadata": {},
     "output_type": "execute_result"
    }
   ],
   "source": [
    "netflix_df['year_added']=netflix_df['date_added'].dt.year\n",
    "netflix_df['month_added']=netflix_df['date_added'].dt.month\n",
    "netflix_df['day_added']=netflix_df['date_added'].dt.day\n",
    "netflix_df.head()"
   ]
  },
  {
   "cell_type": "code",
   "execution_count": 171,
   "metadata": {
    "executionInfo": {
     "elapsed": 19,
     "status": "ok",
     "timestamp": 1688446305327,
     "user": {
      "displayName": "Rahul Hipparkar",
      "userId": "05812361921738235335"
     },
     "user_tz": -330
    },
    "id": "Hs3mdpTZm4T3",
    "outputId": "8826dcbc-fab6-465f-96d3-f1358feda990"
   },
   "outputs": [
    {
     "data": {
      "text/plain": [
       "(199008, 15)"
      ]
     },
     "execution_count": 171,
     "metadata": {},
     "output_type": "execute_result"
    }
   ],
   "source": [
    "netflix_df.shape"
   ]
  },
  {
   "cell_type": "markdown",
   "metadata": {
    "id": "qIf5qjLMo4EQ"
   },
   "source": [
    "# Visual Analysis"
   ]
  },
  {
   "cell_type": "markdown",
   "metadata": {
    "id": "835-aiFXxcIo"
   },
   "source": [
    "## Univariate Analysis"
   ]
  },
  {
   "cell_type": "markdown",
   "metadata": {
    "id": "B-7WyWjOxwiv"
   },
   "source": [
    "### Continuos-Histogram"
   ]
  },
  {
   "cell_type": "markdown",
   "metadata": {
    "id": "cZpZCPk0x2Td"
   },
   "source": [
    "**Q: Distribution of run time of movies?**"
   ]
  },
  {
   "cell_type": "code",
   "execution_count": 172,
   "metadata": {
    "executionInfo": {
     "elapsed": 650,
     "status": "ok",
     "timestamp": 1688446305961,
     "user": {
      "displayName": "Rahul Hipparkar",
      "userId": "05812361921738235335"
     },
     "user_tz": -330
    },
    "id": "cNso48g2xbRn",
    "outputId": "e52f9391-913a-4d0c-9003-cd4370e19597"
   },
   "outputs": [
    {
     "data": {
      "image/png": "[encoded data removed]",
      "text/plain": [
       "<Figure size 800x500 with 1 Axes>"
      ]
     },
     "metadata": {},
     "output_type": "display_data"
    }
   ],
   "source": [
    "movies=netflix_df.loc[netflix_df['type']=='Movie']\n",
    "plt.figure(figsize=(8,5))\n",
    "sns.histplot(movies['duration'],bins=10)\n",
    "plt.title('Distribution duration of movies')\n",
    "plt.show()"
   ]
  },
  {
   "cell_type": "markdown",
   "metadata": {
    "id": "GFsIpKma3vAp"
   },
   "source": [
    "**Insight**: Most of the movies have runtime between 100-125 minutes"
   ]
  },
  {
   "cell_type": "markdown",
   "metadata": {
    "id": "8tq4DbdM5n_M"
   },
   "source": [
    "### Continuous-Boxplot"
   ]
  },
  {
   "cell_type": "markdown",
   "metadata": {
    "id": "45YZV-xI55M4"
   },
   "source": [
    "**Distribution of Duration**"
   ]
  },
  {
   "cell_type": "code",
   "execution_count": 173,
   "metadata": {
    "executionInfo": {
     "elapsed": 560,
     "status": "ok",
     "timestamp": 1688446306517,
     "user": {
      "displayName": "Rahul Hipparkar",
      "userId": "05812361921738235335"
     },
     "user_tz": -330
    },
    "id": "-zSZ7jph6LDX"
   },
   "outputs": [],
   "source": [
    "tv_shows=netflix_df.loc[netflix_df['type']=='TV Show']"
   ]
  },
  {
   "cell_type": "code",
   "execution_count": 174,
   "metadata": {
    "executionInfo": {
     "elapsed": 797,
     "status": "ok",
     "timestamp": 1688446307311,
     "user": {
      "displayName": "Rahul Hipparkar",
      "userId": "05812361921738235335"
     },
     "user_tz": -330
    },
    "id": "Ui8GTVuq5-Mj",
    "outputId": "3333a9c3-e8f9-4d73-9823-ea297491cee0"
   },
   "outputs": [
    {
     "data": {
      "image/png": "[encoded data removed]",
      "text/plain": [
       "<Figure size 1200x600 with 2 Axes>"
      ]
     },
     "metadata": {},
     "output_type": "display_data"
    }
   ],
   "source": [
    "plt.figure(figsize=(12,6))\n",
    "plt.subplot(1,2,1)\n",
    "sns.boxplot(data=movies,x='duration',color='green')\n",
    "plt.xlabel('Duration in minutes',fontsize=12)\n",
    "plt.ylabel('Number of movies',fontsize=12)\n",
    "plt.title('Movies')\n",
    "plt.subplot(1,2,2)\n",
    "sns.boxplot(data=tv_shows,x='duration',color='orange')\n",
    "plt.xlabel('Duration in seasons',fontsize=12)\n",
    "plt.ylabel('Number of movies',fontsize=12)\n",
    "plt.title('TV Shows')\n",
    "plt.suptitle('Distribution of Duration',fontsize=16)\n",
    "plt.show()\n"
   ]
  },
  {
   "cell_type": "markdown",
   "metadata": {
    "id": "-DipGAoYBpdc"
   },
   "source": [
    "**Analysis - Movies**"
   ]
  },
  {
   "cell_type": "code",
   "execution_count": null,
   "metadata": {
    "executionInfo": {
     "elapsed": 20,
     "status": "ok",
     "timestamp": 1688446307311,
     "user": {
      "displayName": "Rahul Hipparkar",
      "userId": "05812361921738235335"
     },
     "user_tz": -330
    },
    "id": "uRqmrMSlBo_V"
   },
   "outputs": [],
   "source": []
  },
  {
   "cell_type": "code",
   "execution_count": 175,
   "metadata": {
    "executionInfo": {
     "elapsed": 19,
     "status": "ok",
     "timestamp": 1688446307311,
     "user": {
      "displayName": "Rahul Hipparkar",
      "userId": "05812361921738235335"
     },
     "user_tz": -330
    },
    "id": "H2j-F5id-4PM",
    "outputId": "e18e085f-2649-4ad9-ba26-438ccd88eb10"
   },
   "outputs": [
    {
     "name": "stdout",
     "output_type": "stream",
     "text": [
      "Maximum runtime of movies: 158.0\n",
      "Median runtime of movies: 104.0\n",
      "Average runtime of movies: 106.62\n",
      "Minimum runtime of movies: 54.0\n"
     ]
    }
   ],
   "source": [
    "IQR=stats.iqr(movies['duration'])\n",
    "upper_bound=stats.scoreatpercentile(movies['duration'],75)+(1.5*IQR)\n",
    "print('Maximum runtime of movies:',upper_bound)\n",
    "lower_bound=stats.scoreatpercentile(movies['duration'],25)-(1.5*IQR)\n",
    "print('Median runtime of movies:',movies['duration'].median())\n",
    "print('Average runtime of movies:',movies['duration'].mean().round(2))\n",
    "print('Minimum runtime of movies:',lower_bound)\n"
   ]
  },
  {
   "cell_type": "markdown",
   "metadata": {
    "id": "8tzCU7LlEZ_O"
   },
   "source": [
    "**Insights**:\n",
    "\n",
    "1. Maximum duration of movies is 158 minutes.\n",
    "2. 50% of movies have duration of 104 minutes.\n",
    "3. Average duration of movies is 106 minutes."
   ]
  },
  {
   "cell_type": "code",
   "execution_count": null,
   "metadata": {
    "executionInfo": {
     "elapsed": 17,
     "status": "ok",
     "timestamp": 1688446307312,
     "user": {
      "displayName": "Rahul Hipparkar",
      "userId": "05812361921738235335"
     },
     "user_tz": -330
    },
    "id": "2z_dhfvNEZZJ"
   },
   "outputs": [],
   "source": []
  },
  {
   "cell_type": "markdown",
   "metadata": {
    "id": "-3GmP6kMBt6g"
   },
   "source": [
    "**Analysis- TV Shows**"
   ]
  },
  {
   "cell_type": "code",
   "execution_count": 176,
   "metadata": {
    "executionInfo": {
     "elapsed": 16,
     "status": "ok",
     "timestamp": 1688446307312,
     "user": {
      "displayName": "Rahul Hipparkar",
      "userId": "05812361921738235335"
     },
     "user_tz": -330
    },
    "id": "DS6Bn80vCJ5r",
    "outputId": "10d7bb41-5b47-4eff-9c35-67ac146edbf5"
   },
   "outputs": [
    {
     "name": "stdout",
     "output_type": "stream",
     "text": [
      "Maximum runtime of movies: 3.5\n",
      "Median runtime of movies: 1.0\n",
      "Average runtime of movies: 1.92\n",
      "Minimum runtime of movies: -0.5\n"
     ]
    }
   ],
   "source": [
    "IQR=stats.iqr(tv_shows['duration'])\n",
    "upper_bound=stats.scoreatpercentile(tv_shows['duration'],75)+(1.5*IQR)\n",
    "print('Maximum runtime of movies:',upper_bound)\n",
    "lower_bound=stats.scoreatpercentile(tv_shows['duration'],25)-(1.5*IQR)\n",
    "print('Median runtime of movies:',tv_shows['duration'].median())\n",
    "print('Average runtime of movies:',tv_shows['duration'].mean().round(2))\n",
    "print('Minimum runtime of movies:',lower_bound)"
   ]
  },
  {
   "cell_type": "markdown",
   "metadata": {
    "id": "Fa6gi0U3FW2s"
   },
   "source": [
    "**Insights**:\n",
    "1. Maximum duration of tv shows is 3.5 seasons.\n",
    "2. Median duration of  tv shows is 1 season.\n",
    "3. Average duration of tv shows is approx 2 seasons."
   ]
  },
  {
   "cell_type": "markdown",
   "metadata": {
    "id": "TIzxLNU434IX"
   },
   "source": [
    "### Categorical - Barplot"
   ]
  },
  {
   "cell_type": "markdown",
   "metadata": {
    "id": "h7U2hcjN5WD1"
   },
   "source": [
    "**Country-wise Distribution of Content on Netflix**"
   ]
  },
  {
   "cell_type": "code",
   "execution_count": 177,
   "metadata": {
    "executionInfo": {
     "elapsed": 15,
     "status": "ok",
     "timestamp": 1688446307313,
     "user": {
      "displayName": "Rahul Hipparkar",
      "userId": "05812361921738235335"
     },
     "user_tz": -330
    },
    "id": "aLcc-bcL6xb3"
   },
   "outputs": [],
   "source": [
    "country_df=netflix_df.groupby(['country'])['title'].nunique().reset_index()\n",
    "country_df.sort_values(by='title',ascending=False,inplace=True)"
   ]
  },
  {
   "cell_type": "markdown",
   "metadata": {
    "id": "TUCgUw1Y-vCH"
   },
   "source": []
  },
  {
   "cell_type": "code",
   "execution_count": 178,
   "metadata": {
    "executionInfo": {
     "elapsed": 14,
     "status": "ok",
     "timestamp": 1688446307313,
     "user": {
      "displayName": "Rahul Hipparkar",
      "userId": "05812361921738235335"
     },
     "user_tz": -330
    },
    "id": "jbo5oQzaFq4c"
   },
   "outputs": [],
   "source": [
    "country_df.drop(index=[104,34],inplace=True)"
   ]
  },
  {
   "cell_type": "code",
   "execution_count": 179,
   "metadata": {
    "executionInfo": {
     "elapsed": 14,
     "status": "ok",
     "timestamp": 1688446307314,
     "user": {
      "displayName": "Rahul Hipparkar",
      "userId": "05812361921738235335"
     },
     "user_tz": -330
    },
    "id": "D5KPgRMrPVrH",
    "outputId": "754a29c1-2234-438a-f7c6-b9515cce6145"
   },
   "outputs": [
    {
     "data": {
      "text/plain": [
       "(193, 2)"
      ]
     },
     "execution_count": 179,
     "metadata": {},
     "output_type": "execute_result"
    }
   ],
   "source": [
    "country_df.shape"
   ]
  },
  {
   "cell_type": "code",
   "execution_count": 180,
   "metadata": {
    "executionInfo": {
     "elapsed": 11,
     "status": "ok",
     "timestamp": 1688446307314,
     "user": {
      "displayName": "Rahul Hipparkar",
      "userId": "05812361921738235335"
     },
     "user_tz": -330
    },
    "id": "POF6E2N3BqD1",
    "outputId": "1045f6e6-5489-45fa-8eaf-4905810b46a4"
   },
   "outputs": [
    {
     "data": {
      "text/html": [
       "<div>\n",
       "<style scoped>\n",
       "    .dataframe tbody tr th:only-of-type {\n",
       "        vertical-align: middle;\n",
       "    }\n",
       "\n",
       "    .dataframe tbody tr th {\n",
       "        vertical-align: top;\n",
       "    }\n",
       "\n",
       "    .dataframe thead th {\n",
       "        text-align: right;\n",
       "    }\n",
       "</style>\n",
       "<table border=\"1\" class=\"dataframe\">\n",
       "  <thead>\n",
       "    <tr style=\"text-align: right;\">\n",
       "      <th></th>\n",
       "      <th>country</th>\n",
       "      <th>title</th>\n",
       "    </tr>\n",
       "  </thead>\n",
       "  <tbody>\n",
       "    <tr>\n",
       "      <th>189</th>\n",
       "      <td>United States</td>\n",
       "      <td>3983</td>\n",
       "    </tr>\n",
       "    <tr>\n",
       "      <th>139</th>\n",
       "      <td>India</td>\n",
       "      <td>989</td>\n",
       "    </tr>\n",
       "    <tr>\n",
       "      <th>188</th>\n",
       "      <td>United Kingdom</td>\n",
       "      <td>615</td>\n",
       "    </tr>\n",
       "    <tr>\n",
       "      <th>120</th>\n",
       "      <td>Canada</td>\n",
       "      <td>268</td>\n",
       "    </tr>\n",
       "    <tr>\n",
       "      <th>146</th>\n",
       "      <td>Japan</td>\n",
       "      <td>254</td>\n",
       "    </tr>\n",
       "    <tr>\n",
       "      <th>177</th>\n",
       "      <td>South Korea</td>\n",
       "      <td>211</td>\n",
       "    </tr>\n",
       "    <tr>\n",
       "      <th>130</th>\n",
       "      <td>France</td>\n",
       "      <td>209</td>\n",
       "    </tr>\n",
       "    <tr>\n",
       "      <th>179</th>\n",
       "      <td>Spain</td>\n",
       "      <td>180</td>\n",
       "    </tr>\n",
       "    <tr>\n",
       "      <th>103</th>\n",
       "      <td>United Kingdom</td>\n",
       "      <td>173</td>\n",
       "    </tr>\n",
       "    <tr>\n",
       "      <th>19</th>\n",
       "      <td>Canada</td>\n",
       "      <td>170</td>\n",
       "    </tr>\n",
       "    <tr>\n",
       "      <th>154</th>\n",
       "      <td>Mexico</td>\n",
       "      <td>133</td>\n",
       "    </tr>\n",
       "    <tr>\n",
       "      <th>35</th>\n",
       "      <td>Germany</td>\n",
       "      <td>123</td>\n",
       "    </tr>\n",
       "    <tr>\n",
       "      <th>111</th>\n",
       "      <td>Australia</td>\n",
       "      <td>113</td>\n",
       "    </tr>\n",
       "    <tr>\n",
       "      <th>185</th>\n",
       "      <td>Turkey</td>\n",
       "      <td>111</td>\n",
       "    </tr>\n",
       "    <tr>\n",
       "      <th>132</th>\n",
       "      <td>Germany</td>\n",
       "      <td>101</td>\n",
       "    </tr>\n",
       "    <tr>\n",
       "      <th>128</th>\n",
       "      <td>Egypt</td>\n",
       "      <td>101</td>\n",
       "    </tr>\n",
       "    <tr>\n",
       "      <th>122</th>\n",
       "      <td>China</td>\n",
       "      <td>100</td>\n",
       "    </tr>\n",
       "    <tr>\n",
       "      <th>159</th>\n",
       "      <td>Nigeria</td>\n",
       "      <td>95</td>\n",
       "    </tr>\n",
       "    <tr>\n",
       "      <th>140</th>\n",
       "      <td>Indonesia</td>\n",
       "      <td>85</td>\n",
       "    </tr>\n",
       "    <tr>\n",
       "      <th>116</th>\n",
       "      <td>Brazil</td>\n",
       "      <td>84</td>\n",
       "    </tr>\n",
       "  </tbody>\n",
       "</table>\n",
       "</div>"
      ],
      "text/plain": [
       "             country  title\n",
       "189    United States   3983\n",
       "139            India    989\n",
       "188   United Kingdom    615\n",
       "120           Canada    268\n",
       "146            Japan    254\n",
       "177      South Korea    211\n",
       "130           France    209\n",
       "179            Spain    180\n",
       "103   United Kingdom    173\n",
       "19            Canada    170\n",
       "154           Mexico    133\n",
       "35           Germany    123\n",
       "111        Australia    113\n",
       "185           Turkey    111\n",
       "132          Germany    101\n",
       "128            Egypt    101\n",
       "122            China    100\n",
       "159          Nigeria     95\n",
       "140        Indonesia     85\n",
       "116           Brazil     84"
      ]
     },
     "execution_count": 180,
     "metadata": {},
     "output_type": "execute_result"
    }
   ],
   "source": [
    "country_df.head(20)"
   ]
  },
  {
   "cell_type": "code",
   "execution_count": 181,
   "metadata": {
    "executionInfo": {
     "elapsed": 1090,
     "status": "ok",
     "timestamp": 1688446308394,
     "user": {
      "displayName": "Rahul Hipparkar",
      "userId": "05812361921738235335"
     },
     "user_tz": -330
    },
    "id": "WaDaZSXR5Vps",
    "outputId": "c5aa67c3-82f8-49bb-b655-0ce10525eb7b"
   },
   "outputs": [
    {
     "data": {
      "image/png": "[encoded data removed]",
      "text/plain": [
       "<Figure size 1200x800 with 1 Axes>"
      ]
     },
     "metadata": {},
     "output_type": "display_data"
    }
   ],
   "source": [
    "plt.figure(figsize=(12,8))\n",
    "sns.barplot(data=country_df.head(15),x='country',y='title')\n",
    "sns.set(style='darkgrid')\n",
    "plt.xticks(rotation=90)\n",
    "plt.xlabel('Country')\n",
    "plt.ylabel('Amount of content created')\n",
    "plt.show()"
   ]
  },
  {
   "cell_type": "markdown",
   "metadata": {
    "id": "X8VWF7FFHbIR"
   },
   "source": []
  },
  {
   "cell_type": "markdown",
   "metadata": {
    "id": "ObisivkDHjN5"
   },
   "source": [
    "**Insight**:\n",
    "Majority of content on Netflix is produced by the United States, India, the United Kingdom, Canada and Japan."
   ]
  },
  {
   "cell_type": "code",
   "execution_count": 182,
   "metadata": {
    "executionInfo": {
     "elapsed": 16,
     "status": "ok",
     "timestamp": 1688446308394,
     "user": {
      "displayName": "Rahul Hipparkar",
      "userId": "05812361921738235335"
     },
     "user_tz": -330
    },
    "id": "WN_kyqw6CeBG",
    "outputId": "987705fb-fd3b-46c1-a200-aac1d2f7a5d2"
   },
   "outputs": [
    {
     "data": {
      "text/html": [
       "<div>\n",
       "<style scoped>\n",
       "    .dataframe tbody tr th:only-of-type {\n",
       "        vertical-align: middle;\n",
       "    }\n",
       "\n",
       "    .dataframe tbody tr th {\n",
       "        vertical-align: top;\n",
       "    }\n",
       "\n",
       "    .dataframe thead th {\n",
       "        text-align: right;\n",
       "    }\n",
       "</style>\n",
       "<table border=\"1\" class=\"dataframe\">\n",
       "  <thead>\n",
       "    <tr style=\"text-align: right;\">\n",
       "      <th></th>\n",
       "      <th>country</th>\n",
       "      <th>title</th>\n",
       "    </tr>\n",
       "  </thead>\n",
       "  <tbody>\n",
       "    <tr>\n",
       "      <th>69</th>\n",
       "      <td>Nicaragua</td>\n",
       "      <td>1</td>\n",
       "    </tr>\n",
       "    <tr>\n",
       "      <th>141</th>\n",
       "      <td>Iran</td>\n",
       "      <td>1</td>\n",
       "    </tr>\n",
       "    <tr>\n",
       "      <th>65</th>\n",
       "      <td>Namibia</td>\n",
       "      <td>1</td>\n",
       "    </tr>\n",
       "    <tr>\n",
       "      <th>63</th>\n",
       "      <td>Montenegro</td>\n",
       "      <td>1</td>\n",
       "    </tr>\n",
       "    <tr>\n",
       "      <th>62</th>\n",
       "      <td>Mongolia</td>\n",
       "      <td>1</td>\n",
       "    </tr>\n",
       "    <tr>\n",
       "      <th>145</th>\n",
       "      <td>Jamaica</td>\n",
       "      <td>1</td>\n",
       "    </tr>\n",
       "    <tr>\n",
       "      <th>58</th>\n",
       "      <td>Malawi</td>\n",
       "      <td>1</td>\n",
       "    </tr>\n",
       "    <tr>\n",
       "      <th>151</th>\n",
       "      <td>Luxembourg</td>\n",
       "      <td>1</td>\n",
       "    </tr>\n",
       "    <tr>\n",
       "      <th>54</th>\n",
       "      <td>Latvia</td>\n",
       "      <td>1</td>\n",
       "    </tr>\n",
       "    <tr>\n",
       "      <th>53</th>\n",
       "      <td>Kuwait</td>\n",
       "      <td>1</td>\n",
       "    </tr>\n",
       "    <tr>\n",
       "      <th>155</th>\n",
       "      <td>Mozambique</td>\n",
       "      <td>1</td>\n",
       "    </tr>\n",
       "    <tr>\n",
       "      <th>156</th>\n",
       "      <td>Namibia</td>\n",
       "      <td>1</td>\n",
       "    </tr>\n",
       "    <tr>\n",
       "      <th>51</th>\n",
       "      <td>Kazakhstan</td>\n",
       "      <td>1</td>\n",
       "    </tr>\n",
       "    <tr>\n",
       "      <th>38</th>\n",
       "      <td>Guatemala</td>\n",
       "      <td>1</td>\n",
       "    </tr>\n",
       "    <tr>\n",
       "      <th>194</th>\n",
       "      <td>Zimbabwe</td>\n",
       "      <td>1</td>\n",
       "    </tr>\n",
       "  </tbody>\n",
       "</table>\n",
       "</div>"
      ],
      "text/plain": [
       "         country  title\n",
       "69     Nicaragua      1\n",
       "141         Iran      1\n",
       "65       Namibia      1\n",
       "63    Montenegro      1\n",
       "62      Mongolia      1\n",
       "145      Jamaica      1\n",
       "58        Malawi      1\n",
       "151   Luxembourg      1\n",
       "54        Latvia      1\n",
       "53        Kuwait      1\n",
       "155   Mozambique      1\n",
       "156      Namibia      1\n",
       "51    Kazakhstan      1\n",
       "38     Guatemala      1\n",
       "194     Zimbabwe      1"
      ]
     },
     "execution_count": 182,
     "metadata": {},
     "output_type": "execute_result"
    }
   ],
   "source": [
    "country_df.tail(15)"
   ]
  },
  {
   "cell_type": "code",
   "execution_count": null,
   "metadata": {
    "executionInfo": {
     "elapsed": 15,
     "status": "ok",
     "timestamp": 1688446308395,
     "user": {
      "displayName": "Rahul Hipparkar",
      "userId": "05812361921738235335"
     },
     "user_tz": -330
    },
    "id": "Pb_uanVCMbVt"
   },
   "outputs": [],
   "source": []
  },
  {
   "cell_type": "markdown",
   "metadata": {
    "id": "3FWDNIOMMBBV"
   },
   "source": [
    "**Genre Distribution of Movies and TV Shows on Netflix**"
   ]
  },
  {
   "cell_type": "code",
   "execution_count": 183,
   "metadata": {
    "executionInfo": {
     "elapsed": 14,
     "status": "ok",
     "timestamp": 1688446308395,
     "user": {
      "displayName": "Rahul Hipparkar",
      "userId": "05812361921738235335"
     },
     "user_tz": -330
    },
    "id": "sVfvZ_6zMeWR",
    "outputId": "86f17a1e-7bda-4fdc-95cc-b9d408d500df"
   },
   "outputs": [
    {
     "data": {
      "text/html": [
       "<div>\n",
       "<style scoped>\n",
       "    .dataframe tbody tr th:only-of-type {\n",
       "        vertical-align: middle;\n",
       "    }\n",
       "\n",
       "    .dataframe tbody tr th {\n",
       "        vertical-align: top;\n",
       "    }\n",
       "\n",
       "    .dataframe thead th {\n",
       "        text-align: right;\n",
       "    }\n",
       "</style>\n",
       "<table border=\"1\" class=\"dataframe\">\n",
       "  <thead>\n",
       "    <tr style=\"text-align: right;\">\n",
       "      <th></th>\n",
       "      <th>genre</th>\n",
       "      <th>show_id</th>\n",
       "    </tr>\n",
       "  </thead>\n",
       "  <tbody>\n",
       "    <tr>\n",
       "      <th>10</th>\n",
       "      <td>International Movies</td>\n",
       "      <td>2578</td>\n",
       "    </tr>\n",
       "    <tr>\n",
       "      <th>25</th>\n",
       "      <td>Dramas</td>\n",
       "      <td>1582</td>\n",
       "    </tr>\n",
       "    <tr>\n",
       "      <th>22</th>\n",
       "      <td>Comedies</td>\n",
       "      <td>1188</td>\n",
       "    </tr>\n",
       "    <tr>\n",
       "      <th>18</th>\n",
       "      <td>Action &amp; Adventure</td>\n",
       "      <td>844</td>\n",
       "    </tr>\n",
       "    <tr>\n",
       "      <th>24</th>\n",
       "      <td>Documentaries</td>\n",
       "      <td>814</td>\n",
       "    </tr>\n",
       "    <tr>\n",
       "      <th>6</th>\n",
       "      <td>Dramas</td>\n",
       "      <td>803</td>\n",
       "    </tr>\n",
       "    <tr>\n",
       "      <th>9</th>\n",
       "      <td>Independent Movies</td>\n",
       "      <td>727</td>\n",
       "    </tr>\n",
       "    <tr>\n",
       "      <th>13</th>\n",
       "      <td>Romantic Movies</td>\n",
       "      <td>605</td>\n",
       "    </tr>\n",
       "    <tr>\n",
       "      <th>20</th>\n",
       "      <td>Children &amp; Family Movies</td>\n",
       "      <td>597</td>\n",
       "    </tr>\n",
       "    <tr>\n",
       "      <th>17</th>\n",
       "      <td>Thrillers</td>\n",
       "      <td>504</td>\n",
       "    </tr>\n",
       "    <tr>\n",
       "      <th>3</th>\n",
       "      <td>Comedies</td>\n",
       "      <td>458</td>\n",
       "    </tr>\n",
       "    <tr>\n",
       "      <th>12</th>\n",
       "      <td>Music &amp; Musicals</td>\n",
       "      <td>353</td>\n",
       "    </tr>\n",
       "    <tr>\n",
       "      <th>35</th>\n",
       "      <td>Stand-Up Comedy</td>\n",
       "      <td>332</td>\n",
       "    </tr>\n",
       "    <tr>\n",
       "      <th>26</th>\n",
       "      <td>Horror Movies</td>\n",
       "      <td>270</td>\n",
       "    </tr>\n",
       "    <tr>\n",
       "      <th>14</th>\n",
       "      <td>Sci-Fi &amp; Fantasy</td>\n",
       "      <td>226</td>\n",
       "    </tr>\n",
       "    <tr>\n",
       "      <th>15</th>\n",
       "      <td>Sports Movies</td>\n",
       "      <td>215</td>\n",
       "    </tr>\n",
       "    <tr>\n",
       "      <th>28</th>\n",
       "      <td>International Movies</td>\n",
       "      <td>128</td>\n",
       "    </tr>\n",
       "    <tr>\n",
       "      <th>11</th>\n",
       "      <td>LGBTQ Movies</td>\n",
       "      <td>101</td>\n",
       "    </tr>\n",
       "    <tr>\n",
       "      <th>8</th>\n",
       "      <td>Horror Movies</td>\n",
       "      <td>78</td>\n",
       "    </tr>\n",
       "    <tr>\n",
       "      <th>21</th>\n",
       "      <td>Classic Movies</td>\n",
       "      <td>69</td>\n",
       "    </tr>\n",
       "    <tr>\n",
       "      <th>7</th>\n",
       "      <td>Faith &amp; Spirituality</td>\n",
       "      <td>64</td>\n",
       "    </tr>\n",
       "    <tr>\n",
       "      <th>36</th>\n",
       "      <td>Thrillers</td>\n",
       "      <td>62</td>\n",
       "    </tr>\n",
       "    <tr>\n",
       "      <th>4</th>\n",
       "      <td>Cult Movies</td>\n",
       "      <td>58</td>\n",
       "    </tr>\n",
       "    <tr>\n",
       "      <th>30</th>\n",
       "      <td>Movies</td>\n",
       "      <td>53</td>\n",
       "    </tr>\n",
       "    <tr>\n",
       "      <th>0</th>\n",
       "      <td>Anime Features</td>\n",
       "      <td>49</td>\n",
       "    </tr>\n",
       "  </tbody>\n",
       "</table>\n",
       "</div>"
      ],
      "text/plain": [
       "                       genre  show_id\n",
       "10      International Movies     2578\n",
       "25                    Dramas     1582\n",
       "22                  Comedies     1188\n",
       "18        Action & Adventure      844\n",
       "24             Documentaries      814\n",
       "6                     Dramas      803\n",
       "9         Independent Movies      727\n",
       "13           Romantic Movies      605\n",
       "20  Children & Family Movies      597\n",
       "17                 Thrillers      504\n",
       "3                   Comedies      458\n",
       "12          Music & Musicals      353\n",
       "35           Stand-Up Comedy      332\n",
       "26             Horror Movies      270\n",
       "14          Sci-Fi & Fantasy      226\n",
       "15             Sports Movies      215\n",
       "28      International Movies      128\n",
       "11              LGBTQ Movies      101\n",
       "8              Horror Movies       78\n",
       "21            Classic Movies       69\n",
       "7       Faith & Spirituality       64\n",
       "36                 Thrillers       62\n",
       "4                Cult Movies       58\n",
       "30                    Movies       53\n",
       "0             Anime Features       49"
      ]
     },
     "execution_count": 183,
     "metadata": {},
     "output_type": "execute_result"
    }
   ],
   "source": [
    "genre_movie=movies.groupby(['genre'])['show_id'].nunique().reset_index()\n",
    "genre_movie.sort_values(by=['show_id'],ascending=False,inplace=True)\n",
    "genre_movie=genre_movie.head(25)\n",
    "genre_movie"
   ]
  },
  {
   "cell_type": "code",
   "execution_count": 184,
   "metadata": {
    "executionInfo": {
     "elapsed": 14,
     "status": "ok",
     "timestamp": 1688446308396,
     "user": {
      "displayName": "Rahul Hipparkar",
      "userId": "05812361921738235335"
     },
     "user_tz": -330
    },
    "id": "HghxtbGOSpzt",
    "outputId": "b7a85e6e-7c71-4cd7-827b-163621c3f1bd"
   },
   "outputs": [
    {
     "data": {
      "text/html": [
       "<div>\n",
       "<style scoped>\n",
       "    .dataframe tbody tr th:only-of-type {\n",
       "        vertical-align: middle;\n",
       "    }\n",
       "\n",
       "    .dataframe tbody tr th {\n",
       "        vertical-align: top;\n",
       "    }\n",
       "\n",
       "    .dataframe thead th {\n",
       "        text-align: right;\n",
       "    }\n",
       "</style>\n",
       "<table border=\"1\" class=\"dataframe\">\n",
       "  <thead>\n",
       "    <tr style=\"text-align: right;\">\n",
       "      <th></th>\n",
       "      <th>genre</th>\n",
       "      <th>show_id</th>\n",
       "    </tr>\n",
       "  </thead>\n",
       "  <tbody>\n",
       "    <tr>\n",
       "      <th>24</th>\n",
       "      <td>International TV Shows</td>\n",
       "      <td>767</td>\n",
       "    </tr>\n",
       "    <tr>\n",
       "      <th>13</th>\n",
       "      <td>TV Dramas</td>\n",
       "      <td>693</td>\n",
       "    </tr>\n",
       "    <tr>\n",
       "      <th>3</th>\n",
       "      <td>International TV Shows</td>\n",
       "      <td>572</td>\n",
       "    </tr>\n",
       "    <tr>\n",
       "      <th>12</th>\n",
       "      <td>TV Comedies</td>\n",
       "      <td>449</td>\n",
       "    </tr>\n",
       "    <tr>\n",
       "      <th>22</th>\n",
       "      <td>Crime TV Shows</td>\n",
       "      <td>397</td>\n",
       "    </tr>\n",
       "    <tr>\n",
       "      <th>25</th>\n",
       "      <td>Kids' TV</td>\n",
       "      <td>383</td>\n",
       "    </tr>\n",
       "    <tr>\n",
       "      <th>7</th>\n",
       "      <td>Romantic TV Shows</td>\n",
       "      <td>336</td>\n",
       "    </tr>\n",
       "    <tr>\n",
       "      <th>20</th>\n",
       "      <td>British TV Shows</td>\n",
       "      <td>246</td>\n",
       "    </tr>\n",
       "    <tr>\n",
       "      <th>23</th>\n",
       "      <td>Docuseries</td>\n",
       "      <td>218</td>\n",
       "    </tr>\n",
       "    <tr>\n",
       "      <th>19</th>\n",
       "      <td>Anime Series</td>\n",
       "      <td>173</td>\n",
       "    </tr>\n",
       "    <tr>\n",
       "      <th>9</th>\n",
       "      <td>Spanish-Language TV Shows</td>\n",
       "      <td>171</td>\n",
       "    </tr>\n",
       "    <tr>\n",
       "      <th>2</th>\n",
       "      <td>Docuseries</td>\n",
       "      <td>171</td>\n",
       "    </tr>\n",
       "    <tr>\n",
       "      <th>5</th>\n",
       "      <td>Korean TV Shows</td>\n",
       "      <td>151</td>\n",
       "    </tr>\n",
       "    <tr>\n",
       "      <th>6</th>\n",
       "      <td>Reality TV</td>\n",
       "      <td>134</td>\n",
       "    </tr>\n",
       "    <tr>\n",
       "      <th>11</th>\n",
       "      <td>TV Action &amp; Adventure</td>\n",
       "      <td>128</td>\n",
       "    </tr>\n",
       "    <tr>\n",
       "      <th>31</th>\n",
       "      <td>TV Comedies</td>\n",
       "      <td>119</td>\n",
       "    </tr>\n",
       "    <tr>\n",
       "      <th>26</th>\n",
       "      <td>Reality TV</td>\n",
       "      <td>119</td>\n",
       "    </tr>\n",
       "    <tr>\n",
       "      <th>15</th>\n",
       "      <td>TV Mysteries</td>\n",
       "      <td>98</td>\n",
       "    </tr>\n",
       "    <tr>\n",
       "      <th>8</th>\n",
       "      <td>Science &amp; Nature TV</td>\n",
       "      <td>90</td>\n",
       "    </tr>\n",
       "    <tr>\n",
       "      <th>16</th>\n",
       "      <td>TV Sci-Fi &amp; Fantasy</td>\n",
       "      <td>82</td>\n",
       "    </tr>\n",
       "    <tr>\n",
       "      <th>18</th>\n",
       "      <td>Teen TV Shows</td>\n",
       "      <td>69</td>\n",
       "    </tr>\n",
       "    <tr>\n",
       "      <th>1</th>\n",
       "      <td>Crime TV Shows</td>\n",
       "      <td>69</td>\n",
       "    </tr>\n",
       "    <tr>\n",
       "      <th>32</th>\n",
       "      <td>TV Dramas</td>\n",
       "      <td>67</td>\n",
       "    </tr>\n",
       "    <tr>\n",
       "      <th>14</th>\n",
       "      <td>TV Horror</td>\n",
       "      <td>64</td>\n",
       "    </tr>\n",
       "    <tr>\n",
       "      <th>4</th>\n",
       "      <td>Kids' TV</td>\n",
       "      <td>61</td>\n",
       "    </tr>\n",
       "  </tbody>\n",
       "</table>\n",
       "</div>"
      ],
      "text/plain": [
       "                         genre  show_id\n",
       "24      International TV Shows      767\n",
       "13                   TV Dramas      693\n",
       "3       International TV Shows      572\n",
       "12                 TV Comedies      449\n",
       "22              Crime TV Shows      397\n",
       "25                    Kids' TV      383\n",
       "7            Romantic TV Shows      336\n",
       "20            British TV Shows      246\n",
       "23                  Docuseries      218\n",
       "19                Anime Series      173\n",
       "9    Spanish-Language TV Shows      171\n",
       "2                   Docuseries      171\n",
       "5              Korean TV Shows      151\n",
       "6                   Reality TV      134\n",
       "11       TV Action & Adventure      128\n",
       "31                 TV Comedies      119\n",
       "26                  Reality TV      119\n",
       "15                TV Mysteries       98\n",
       "8          Science & Nature TV       90\n",
       "16         TV Sci-Fi & Fantasy       82\n",
       "18               Teen TV Shows       69\n",
       "1               Crime TV Shows       69\n",
       "32                   TV Dramas       67\n",
       "14                   TV Horror       64\n",
       "4                     Kids' TV       61"
      ]
     },
     "execution_count": 184,
     "metadata": {},
     "output_type": "execute_result"
    }
   ],
   "source": [
    "genre_tv_show=tv_shows.groupby(['genre'])['show_id'].nunique().reset_index()\n",
    "genre_tv_show.sort_values(by=['show_id'],ascending=False,inplace=True)\n",
    "genre_tv_show=genre_tv_show.head(25)\n",
    "genre_tv_show"
   ]
  },
  {
   "cell_type": "code",
   "execution_count": 185,
   "metadata": {
    "executionInfo": {
     "elapsed": 2568,
     "status": "ok",
     "timestamp": 1688446310951,
     "user": {
      "displayName": "Rahul Hipparkar",
      "userId": "05812361921738235335"
     },
     "user_tz": -330
    },
    "id": "l8MKJGGcQluX",
    "outputId": "6dd0478c-32b8-47d2-9d00-2a983e1394bf"
   },
   "outputs": [
    {
     "data": {
      "image/png": "[encoded data removed]",
      "text/plain": [
       "<Figure size 1500x500 with 2 Axes>"
      ]
     },
     "metadata": {},
     "output_type": "display_data"
    }
   ],
   "source": [
    "plt.figure(figsize=(15,5))\n",
    "plt.subplot(1,2,1)\n",
    "sns.barplot(data=genre_movie,x='genre',y='show_id')\n",
    "plt.xticks(rotation=90)\n",
    "plt.xlabel('Movie Genre')\n",
    "plt.ylabel('Number of Movies')\n",
    "\n",
    "plt.subplot(1,2,2)\n",
    "sns.barplot(data=genre_tv_show,x='genre',y='show_id')\n",
    "plt.xticks(rotation=90)\n",
    "plt.xlabel('TV show Genre')\n",
    "plt.ylabel('Number of TV shows')\n",
    "\n",
    "plt.suptitle('Netflix: Unveiling the Genre Spectrum - A Visual Journey through Movies and TV Shows')\n",
    "plt.show()"
   ]
  },
  {
   "cell_type": "markdown",
   "metadata": {
    "id": "aiDIo4WuaGKE"
   },
   "source": [
    "**Insights:**\n",
    "\n",
    "1. International movies and TV shows emerge as the most popular genre on Netflix, captivating a significant audience.\n",
    "2. Comedy and Drama is also popular genres among netflix audience.\n",
    "3. Crime TV shows are also among the trending genres on Netflix, as viewers also have a strong affinity for this genre, highlighting its popularity among the audience.\n",
    "4. Kids TV shows and movies hold significant popularity among young viewers, establishing them as a one of the trending genre on Netflix.\n",
    "5. Anime series and TV shows have gained substantial traction among the teen audience, securing a prominent place on the binge-to-watch list due to their popularity and appeal.\n",
    "6. Despite the vast content selection on Netflix, sci-fi movies and TV shows remain relatively less popular compared to other genres, attracting a smaller audience."
   ]
  },
  {
   "cell_type": "markdown",
   "metadata": {
    "id": "rNgo_VgFgoWy"
   },
   "source": [
    "**Distribution of rating across content on Netflix**"
   ]
  },
  {
   "cell_type": "code",
   "execution_count": 186,
   "metadata": {
    "executionInfo": {
     "elapsed": 1029,
     "status": "ok",
     "timestamp": 1688446311972,
     "user": {
      "displayName": "Rahul Hipparkar",
      "userId": "05812361921738235335"
     },
     "user_tz": -330
    },
    "id": "xLThJsRWgdxq",
    "outputId": "e192d97a-675f-4492-d4e9-c80b3a9c4bce"
   },
   "outputs": [
    {
     "data": {
      "text/html": [
       "<div>\n",
       "<style scoped>\n",
       "    .dataframe tbody tr th:only-of-type {\n",
       "        vertical-align: middle;\n",
       "    }\n",
       "\n",
       "    .dataframe tbody tr th {\n",
       "        vertical-align: top;\n",
       "    }\n",
       "\n",
       "    .dataframe thead th {\n",
       "        text-align: right;\n",
       "    }\n",
       "</style>\n",
       "<table border=\"1\" class=\"dataframe\">\n",
       "  <thead>\n",
       "    <tr style=\"text-align: right;\">\n",
       "      <th></th>\n",
       "      <th>rating</th>\n",
       "      <th>show_id</th>\n",
       "    </tr>\n",
       "  </thead>\n",
       "  <tbody>\n",
       "    <tr>\n",
       "      <th>8</th>\n",
       "      <td>TV-MA</td>\n",
       "      <td>3178</td>\n",
       "    </tr>\n",
       "    <tr>\n",
       "      <th>6</th>\n",
       "      <td>TV-14</td>\n",
       "      <td>2125</td>\n",
       "    </tr>\n",
       "    <tr>\n",
       "      <th>9</th>\n",
       "      <td>TV-PG</td>\n",
       "      <td>847</td>\n",
       "    </tr>\n",
       "    <tr>\n",
       "      <th>5</th>\n",
       "      <td>R</td>\n",
       "      <td>783</td>\n",
       "    </tr>\n",
       "    <tr>\n",
       "      <th>4</th>\n",
       "      <td>PG-13</td>\n",
       "      <td>479</td>\n",
       "    </tr>\n",
       "    <tr>\n",
       "      <th>11</th>\n",
       "      <td>TV-Y7</td>\n",
       "      <td>329</td>\n",
       "    </tr>\n",
       "    <tr>\n",
       "      <th>10</th>\n",
       "      <td>TV-Y</td>\n",
       "      <td>305</td>\n",
       "    </tr>\n",
       "    <tr>\n",
       "      <th>3</th>\n",
       "      <td>PG</td>\n",
       "      <td>278</td>\n",
       "    </tr>\n",
       "    <tr>\n",
       "      <th>7</th>\n",
       "      <td>TV-G</td>\n",
       "      <td>214</td>\n",
       "    </tr>\n",
       "    <tr>\n",
       "      <th>2</th>\n",
       "      <td>NR</td>\n",
       "      <td>79</td>\n",
       "    </tr>\n",
       "    <tr>\n",
       "      <th>0</th>\n",
       "      <td>G</td>\n",
       "      <td>40</td>\n",
       "    </tr>\n",
       "    <tr>\n",
       "      <th>12</th>\n",
       "      <td>TV-Y7-FV</td>\n",
       "      <td>5</td>\n",
       "    </tr>\n",
       "    <tr>\n",
       "      <th>1</th>\n",
       "      <td>NC-17</td>\n",
       "      <td>3</td>\n",
       "    </tr>\n",
       "    <tr>\n",
       "      <th>13</th>\n",
       "      <td>UR</td>\n",
       "      <td>3</td>\n",
       "    </tr>\n",
       "  </tbody>\n",
       "</table>\n",
       "</div>"
      ],
      "text/plain": [
       "      rating  show_id\n",
       "8      TV-MA     3178\n",
       "6      TV-14     2125\n",
       "9      TV-PG      847\n",
       "5          R      783\n",
       "4      PG-13      479\n",
       "11     TV-Y7      329\n",
       "10      TV-Y      305\n",
       "3         PG      278\n",
       "7       TV-G      214\n",
       "2         NR       79\n",
       "0          G       40\n",
       "12  TV-Y7-FV        5\n",
       "1      NC-17        3\n",
       "13        UR        3"
      ]
     },
     "execution_count": 186,
     "metadata": {},
     "output_type": "execute_result"
    }
   ],
   "source": [
    "rating_df=netflix_df.groupby(['rating'])['show_id'].nunique().reset_index()\n",
    "rating_df.sort_values(by='show_id',ascending=False,inplace=True)\n",
    "rating_df"
   ]
  },
  {
   "cell_type": "code",
   "execution_count": 187,
   "metadata": {
    "executionInfo": {
     "elapsed": 9,
     "status": "ok",
     "timestamp": 1688446311973,
     "user": {
      "displayName": "Rahul Hipparkar",
      "userId": "05812361921738235335"
     },
     "user_tz": -330
    },
    "id": "Tw0bzBeShX7Z",
    "outputId": "dd0cba28-ebfa-4af9-c835-9412426328e9"
   },
   "outputs": [
    {
     "data": {
      "image/png": "[encoded data removed]",
      "text/plain": [
       "<Figure size 1000x500 with 1 Axes>"
      ]
     },
     "metadata": {},
     "output_type": "display_data"
    }
   ],
   "source": [
    "plt.figure(figsize=(10,5))\n",
    "sns.barplot(data=rating_df,x='rating',y='show_id')\n",
    "plt.xticks(rotation=90)\n",
    "plt.xlabel('Ratings')\n",
    "plt.ylabel('Amount of content created')\n",
    "plt.title('Distribution of Ratings')\n",
    "plt.show()\n"
   ]
  },
  {
   "cell_type": "markdown",
   "metadata": {
    "id": "nd72E6lVniep"
   },
   "source": [
    "**Insights**:\n",
    "\n",
    "1. TV-MA (18+) rated content is most popular content in netflix.\n",
    "2. For kids and Teens TV-14 and TV-PG rated content is also popular on Netflix.\n",
    "3. Viewers also like to watch R-rated(restricted) content on Netflix."
   ]
  },
  {
   "cell_type": "markdown",
   "metadata": {
    "id": "0hTgcdcsp7-u"
   },
   "source": [
    "## Bivariate Analysis"
   ]
  },
  {
   "cell_type": "markdown",
   "metadata": {
    "id": "Jr9QTQNCw4gn"
   },
   "source": [
    "### Numeric- Categorical"
   ]
  },
  {
   "cell_type": "markdown",
   "metadata": {
    "id": "snW77D0U0gBy"
   },
   "source": [
    "**Netflix Content Distribution Over the Years**"
   ]
  },
  {
   "cell_type": "code",
   "execution_count": 188,
   "metadata": {
    "executionInfo": {
     "elapsed": 3437,
     "status": "ok",
     "timestamp": 1688446315402,
     "user": {
      "displayName": "Rahul Hipparkar",
      "userId": "05812361921738235335"
     },
     "user_tz": -330
    },
    "id": "PL8tqyR6z6j3",
    "outputId": "40bb9780-cf5f-4b5d-ab32-539025ed41da"
   },
   "outputs": [
    {
     "data": {
      "image/png": "[encoded data removed]",
      "text/plain": [
       "<Figure size 640x480 with 1 Axes>"
      ]
     },
     "metadata": {},
     "output_type": "display_data"
    }
   ],
   "source": [
    "sns.kdeplot(data=netflix_df,x='date_added',hue='type')\n",
    "sns.set(style='whitegrid')\n",
    "plt.title('Evolution of Content on Netflix')\n",
    "plt.xlabel('Date Added')\n",
    "plt.ylabel('Content Density')\n",
    "plt.show()\n"
   ]
  },
  {
   "cell_type": "markdown",
   "metadata": {
    "id": "TTC5kuSX2Sp_"
   },
   "source": [
    "**Insight**:\n",
    "1. Over the years Netflix had added more number of movies as compared to TV shows.\n",
    "2.  Between 2018 and 2021, Netflix experienced a substantial surge in content additions to its watchlist, reflecting a significant expansion of its library during that period."
   ]
  },
  {
   "cell_type": "markdown",
   "metadata": {
    "id": "5DrDMV5L6hKd"
   },
   "source": [
    "**Distribution of duration across genres**"
   ]
  },
  {
   "cell_type": "code",
   "execution_count": 189,
   "metadata": {
    "executionInfo": {
     "elapsed": 760,
     "status": "ok",
     "timestamp": 1688446316144,
     "user": {
      "displayName": "Rahul Hipparkar",
      "userId": "05812361921738235335"
     },
     "user_tz": -330
    },
    "id": "3jtyjr-C2SKj",
    "outputId": "a952b55f-d5a1-4a8f-e7ad-c14de8755a65"
   },
   "outputs": [
    {
     "data": {
      "text/html": [
       "<div>\n",
       "<style scoped>\n",
       "    .dataframe tbody tr th:only-of-type {\n",
       "        vertical-align: middle;\n",
       "    }\n",
       "\n",
       "    .dataframe tbody tr th {\n",
       "        vertical-align: top;\n",
       "    }\n",
       "\n",
       "    .dataframe thead th {\n",
       "        text-align: right;\n",
       "    }\n",
       "</style>\n",
       "<table border=\"1\" class=\"dataframe\">\n",
       "  <thead>\n",
       "    <tr style=\"text-align: right;\">\n",
       "      <th></th>\n",
       "      <th>cast</th>\n",
       "      <th>title</th>\n",
       "    </tr>\n",
       "  </thead>\n",
       "  <tbody>\n",
       "    <tr>\n",
       "      <th>34698</th>\n",
       "      <td>David Attenborough</td>\n",
       "      <td>827</td>\n",
       "    </tr>\n",
       "    <tr>\n",
       "      <th>2577</th>\n",
       "      <td>Anupam Kher</td>\n",
       "      <td>39</td>\n",
       "    </tr>\n",
       "    <tr>\n",
       "      <th>26650</th>\n",
       "      <td>Rupa Bhimani</td>\n",
       "      <td>31</td>\n",
       "    </tr>\n",
       "    <tr>\n",
       "      <th>29969</th>\n",
       "      <td>Takahiro Sakurai</td>\n",
       "      <td>30</td>\n",
       "    </tr>\n",
       "    <tr>\n",
       "      <th>15371</th>\n",
       "      <td>Julie Tejwani</td>\n",
       "      <td>28</td>\n",
       "    </tr>\n",
       "  </tbody>\n",
       "</table>\n",
       "</div>"
      ],
      "text/plain": [
       "                     cast  title\n",
       "34698  David Attenborough    827\n",
       "2577          Anupam Kher     39\n",
       "26650        Rupa Bhimani     31\n",
       "29969    Takahiro Sakurai     30\n",
       "15371       Julie Tejwani     28"
      ]
     },
     "execution_count": 189,
     "metadata": {},
     "output_type": "execute_result"
    }
   ],
   "source": [
    "top5_actors= netflix_df.groupby(['cast'])['title'].nunique().reset_index()\n",
    "top5_actors.sort_values(by='title',ascending=False,inplace=True)\n",
    "top5_actors=top5_actors.head(5)\n",
    "top5_actors"
   ]
  },
  {
   "cell_type": "code",
   "execution_count": 190,
   "metadata": {
    "executionInfo": {
     "elapsed": 11,
     "status": "ok",
     "timestamp": 1688446316144,
     "user": {
      "displayName": "Rahul Hipparkar",
      "userId": "05812361921738235335"
     },
     "user_tz": -330
    },
    "id": "GSxWxIW89huI",
    "outputId": "6656198b-e8ff-4007-ed4a-d4a491a2a85d"
   },
   "outputs": [
    {
     "data": {
      "text/html": [
       "<div>\n",
       "<style scoped>\n",
       "    .dataframe tbody tr th:only-of-type {\n",
       "        vertical-align: middle;\n",
       "    }\n",
       "\n",
       "    .dataframe tbody tr th {\n",
       "        vertical-align: top;\n",
       "    }\n",
       "\n",
       "    .dataframe thead th {\n",
       "        text-align: right;\n",
       "    }\n",
       "</style>\n",
       "<table border=\"1\" class=\"dataframe\">\n",
       "  <thead>\n",
       "    <tr style=\"text-align: right;\">\n",
       "      <th></th>\n",
       "      <th>genre</th>\n",
       "      <th>title</th>\n",
       "    </tr>\n",
       "  </thead>\n",
       "  <tbody>\n",
       "    <tr>\n",
       "      <th>13</th>\n",
       "      <td>International Movies</td>\n",
       "      <td>2578</td>\n",
       "    </tr>\n",
       "    <tr>\n",
       "      <th>49</th>\n",
       "      <td>Dramas</td>\n",
       "      <td>1582</td>\n",
       "    </tr>\n",
       "    <tr>\n",
       "      <th>44</th>\n",
       "      <td>Comedies</td>\n",
       "      <td>1188</td>\n",
       "    </tr>\n",
       "  </tbody>\n",
       "</table>\n",
       "</div>"
      ],
      "text/plain": [
       "                    genre  title\n",
       "13   International Movies   2578\n",
       "49                 Dramas   1582\n",
       "44               Comedies   1188"
      ]
     },
     "execution_count": 190,
     "metadata": {},
     "output_type": "execute_result"
    }
   ],
   "source": [
    "top3_genre= netflix_df.groupby(['genre'])['title'].nunique().reset_index()\n",
    "top3_genre.sort_values(by='title',ascending=False,inplace=True)\n",
    "top3_genre=top3_genre.head(3)\n",
    "top3_genre"
   ]
  },
  {
   "cell_type": "code",
   "execution_count": 191,
   "metadata": {
    "executionInfo": {
     "elapsed": 11,
     "status": "ok",
     "timestamp": 1688446316145,
     "user": {
      "displayName": "Rahul Hipparkar",
      "userId": "05812361921738235335"
     },
     "user_tz": -330
    },
    "id": "AKulFZeA9yW1",
    "outputId": "8d367215-1ba8-40b4-a800-b88a40fabd3a"
   },
   "outputs": [
    {
     "data": {
      "text/plain": [
       "cast\n",
       "David Attenborough    334\n",
       " Anupam Kher           58\n",
       " Takahiro Sakurai       7\n",
       "Name: count, dtype: int64"
      ]
     },
     "execution_count": 191,
     "metadata": {},
     "output_type": "execute_result"
    }
   ],
   "source": [
    "top3_df=netflix_df.loc[(netflix_df['cast'].isin(top5_actors['cast']))&(netflix_df['genre'].isin(top3_genre['genre']))]\n",
    "top3_df['cast'].value_counts()"
   ]
  },
  {
   "cell_type": "code",
   "execution_count": 192,
   "metadata": {
    "executionInfo": {
     "elapsed": 1303,
     "status": "ok",
     "timestamp": 1688446317440,
     "user": {
      "displayName": "Rahul Hipparkar",
      "userId": "05812361921738235335"
     },
     "user_tz": -330
    },
    "id": "sxnSxxUd-blL",
    "outputId": "83179154-3cfd-48f8-c7ee-af7abe00d6a6"
   },
   "outputs": [
    {
     "data": {
      "image/png": "[encoded data removed]",
      "text/plain": [
       "<Figure size 640x480 with 1 Axes>"
      ]
     },
     "metadata": {},
     "output_type": "display_data"
    }
   ],
   "source": [
    "sns.boxplot(data=top3_df,x='genre',y='duration')\n",
    "plt.xlabel('Genre')\n",
    "plt.ylabel('Duration')\n",
    "plt.title('Distribution of duration across top 3 genres')\n",
    "sns.set()\n",
    "plt.show()"
   ]
  },
  {
   "cell_type": "markdown",
   "metadata": {
    "id": "qVbwF5NqHkVT"
   },
   "source": [
    "**Analysis**:\n",
    "1. International Movies have largest spread as compared to other 2 genres. International movies have median duration of  90 minutes.\n",
    "\n",
    "2. Comedy and Drama genre has exactly same spread with median duration of approx 120 minutes.\n"
   ]
  },
  {
   "cell_type": "markdown",
   "metadata": {
    "id": "95tZDh2SOcK9"
   },
   "source": [
    "### Categorical-Categorical"
   ]
  },
  {
   "cell_type": "markdown",
   "metadata": {
    "id": "y8MfNsDqOjvW"
   },
   "source": [
    "**Exploring popular actors on Netflix across genres**"
   ]
  },
  {
   "cell_type": "code",
   "execution_count": 193,
   "metadata": {
    "executionInfo": {
     "elapsed": 1126,
     "status": "ok",
     "timestamp": 1688446318562,
     "user": {
      "displayName": "Rahul Hipparkar",
      "userId": "05812361921738235335"
     },
     "user_tz": -330
    },
    "id": "ngWEA75xKGAE",
    "outputId": "100a39a8-d4f3-4925-b233-4779a2d881e3"
   },
   "outputs": [
    {
     "data": {
      "image/png": "[encoded data removed]",
      "text/plain": [
       "<Figure size 640x480 with 1 Axes>"
      ]
     },
     "metadata": {},
     "output_type": "display_data"
    }
   ],
   "source": [
    "sns.countplot(data=top3_df,x='cast',hue='genre')\n",
    "plt.xlabel('Actor')\n",
    "plt.ylabel('Amount of content created')\n",
    "plt.title('Exploring Popular Actors on Netflix Across Genres')\n",
    "plt.show()"
   ]
  },
  {
   "cell_type": "markdown",
   "metadata": {
    "id": "b715uVIiOuL_"
   },
   "source": [
    "**Insight**:\n",
    "1. David Attenborough is a most popular actor on Netflix who mostly worked in International Movies genre.\n",
    "2. Anupam Kher is a most popular Indian actor on Netflix who worked across each genre.\n",
    "3. Takahiro Sakurai is worked only in a International Movies genre."
   ]
  },
  {
   "cell_type": "markdown",
   "metadata": {
    "id": "-PLPGyetUFxu"
   },
   "source": []
  },
  {
   "cell_type": "markdown",
   "metadata": {
    "id": "C-S2Ab40UO7c"
   },
   "source": [
    "## Multivariate analysis"
   ]
  },
  {
   "cell_type": "markdown",
   "metadata": {
    "id": "DdhSYKlXUSNS"
   },
   "source": [
    "### Trending movie genres"
   ]
  },
  {
   "cell_type": "code",
   "execution_count": 194,
   "metadata": {
    "executionInfo": {
     "elapsed": 11,
     "status": "ok",
     "timestamp": 1688446318563,
     "user": {
      "displayName": "Rahul Hipparkar",
      "userId": "05812361921738235335"
     },
     "user_tz": -330
    },
    "id": "l1yYOQhTUXCq",
    "outputId": "b5ba06f5-31f5-4fbf-d4da-958d2443ee2a"
   },
   "outputs": [
    {
     "data": {
      "text/plain": [
       "Index([' International Movies', 'Dramas', 'Comedies', 'Action & Adventure'], dtype='object', name='genre')"
      ]
     },
     "execution_count": 194,
     "metadata": {},
     "output_type": "execute_result"
    }
   ],
   "source": [
    "top_movie_genre=movies['genre'].value_counts().index[0:4]\n",
    "top_movie_genre"
   ]
  },
  {
   "cell_type": "code",
   "execution_count": 195,
   "metadata": {
    "executionInfo": {
     "elapsed": 8,
     "status": "ok",
     "timestamp": 1688446318563,
     "user": {
      "displayName": "Rahul Hipparkar",
      "userId": "05812361921738235335"
     },
     "user_tz": -330
    },
    "id": "RILtPr7SUL4X",
    "outputId": "ee70769e-5073-420a-cf27-6dac5ea13755"
   },
   "outputs": [
    {
     "data": {
      "text/html": [
       "<div>\n",
       "<style scoped>\n",
       "    .dataframe tbody tr th:only-of-type {\n",
       "        vertical-align: middle;\n",
       "    }\n",
       "\n",
       "    .dataframe tbody tr th {\n",
       "        vertical-align: top;\n",
       "    }\n",
       "\n",
       "    .dataframe thead th {\n",
       "        text-align: right;\n",
       "    }\n",
       "</style>\n",
       "<table border=\"1\" class=\"dataframe\">\n",
       "  <thead>\n",
       "    <tr style=\"text-align: right;\">\n",
       "      <th></th>\n",
       "      <th>year_added</th>\n",
       "      <th>genre</th>\n",
       "      <th>title</th>\n",
       "    </tr>\n",
       "  </thead>\n",
       "  <tbody>\n",
       "    <tr>\n",
       "      <th>0</th>\n",
       "      <td>2008.0</td>\n",
       "      <td>Dramas</td>\n",
       "      <td>1</td>\n",
       "    </tr>\n",
       "    <tr>\n",
       "      <th>1</th>\n",
       "      <td>2009.0</td>\n",
       "      <td>International Movies</td>\n",
       "      <td>1</td>\n",
       "    </tr>\n",
       "    <tr>\n",
       "      <th>2</th>\n",
       "      <td>2009.0</td>\n",
       "      <td>Dramas</td>\n",
       "      <td>1</td>\n",
       "    </tr>\n",
       "    <tr>\n",
       "      <th>3</th>\n",
       "      <td>2011.0</td>\n",
       "      <td>International Movies</td>\n",
       "      <td>1</td>\n",
       "    </tr>\n",
       "    <tr>\n",
       "      <th>4</th>\n",
       "      <td>2011.0</td>\n",
       "      <td>Dramas</td>\n",
       "      <td>12</td>\n",
       "    </tr>\n",
       "  </tbody>\n",
       "</table>\n",
       "</div>"
      ],
      "text/plain": [
       "   year_added                  genre  title\n",
       "0      2008.0                 Dramas      1\n",
       "1      2009.0   International Movies      1\n",
       "2      2009.0                 Dramas      1\n",
       "3      2011.0   International Movies      1\n",
       "4      2011.0                 Dramas     12"
      ]
     },
     "execution_count": 195,
     "metadata": {},
     "output_type": "execute_result"
    }
   ],
   "source": [
    "top_movie_df=movies.loc[movies['genre'].isin(top_movie_genre)]\n",
    "top_movie_df=top_movie_df.groupby(['year_added','genre'])['title'].nunique().reset_index()\n",
    "top_movie_df.head()\n"
   ]
  },
  {
   "cell_type": "code",
   "execution_count": 196,
   "metadata": {
    "executionInfo": {
     "elapsed": 1136,
     "status": "ok",
     "timestamp": 1688446319692,
     "user": {
      "displayName": "Rahul Hipparkar",
      "userId": "05812361921738235335"
     },
     "user_tz": -330
    },
    "id": "K5ZQ1G1QVd92",
    "outputId": "d7c9ca3d-041e-4c58-84df-7bcb30ebdad9"
   },
   "outputs": [
    {
     "data": {
      "image/png": "[encoded data removed]",
      "text/plain": [
       "<Figure size 640x480 with 1 Axes>"
      ]
     },
     "metadata": {},
     "output_type": "display_data"
    }
   ],
   "source": [
    "sns.lineplot(data=top_movie_df,x='year_added',y='title',hue='genre')\n",
    "plt.title('Trend analysis for popular movie genres on Netflix')\n",
    "sns.set(style='darkgrid')\n",
    "plt.xlabel('Year Added')\n",
    "plt.ylabel('Number of Movies')\n",
    "plt.show()"
   ]
  },
  {
   "cell_type": "markdown",
   "metadata": {
    "id": "joLCihtoX-ze"
   },
   "source": [
    "**Insight**:\n",
    "1. Netflix witnessed a consistent increase in the number of movies added to its content library across various genres between 2016 and 2018.\n",
    "2.  Starting from 2020, there has been a notable upward trend in the number of action genre movies added to Netflix's library, while other genres have experienced a decreasing trend.\n"
   ]
  },
  {
   "cell_type": "code",
   "execution_count": null,
   "metadata": {
    "executionInfo": {
     "elapsed": 8,
     "status": "ok",
     "timestamp": 1688446320365,
     "user": {
      "displayName": "Rahul Hipparkar",
      "userId": "05812361921738235335"
     },
     "user_tz": -330
    },
    "id": "D5ZR9B38X-dR"
   },
   "outputs": [],
   "source": []
  },
  {
   "cell_type": "markdown",
   "metadata": {
    "id": "galg5YgCaaYH"
   },
   "source": [
    "### Trending TV genres"
   ]
  },
  {
   "cell_type": "markdown",
   "metadata": {
    "id": "KZ9t5Y86agLP"
   },
   "source": []
  },
  {
   "cell_type": "code",
   "execution_count": 197,
   "metadata": {
    "executionInfo": {
     "elapsed": 8,
     "status": "ok",
     "timestamp": 1688446320365,
     "user": {
      "displayName": "Rahul Hipparkar",
      "userId": "05812361921738235335"
     },
     "user_tz": -330
    },
    "id": "4NSWXpVYagsU",
    "outputId": "d548316b-9e60-442e-b547-3ea4c4201226"
   },
   "outputs": [
    {
     "data": {
      "text/plain": [
       "Index([' TV Dramas', 'International TV Shows', ' International TV Shows',\n",
       "       'Crime TV Shows'],\n",
       "      dtype='object', name='genre')"
      ]
     },
     "execution_count": 197,
     "metadata": {},
     "output_type": "execute_result"
    }
   ],
   "source": [
    "top_tv_genre=tv_shows['genre'].value_counts().index[0:4]\n",
    "top_tv_genre"
   ]
  },
  {
   "cell_type": "code",
   "execution_count": 198,
   "metadata": {
    "executionInfo": {
     "elapsed": 8,
     "status": "ok",
     "timestamp": 1688446320366,
     "user": {
      "displayName": "Rahul Hipparkar",
      "userId": "05812361921738235335"
     },
     "user_tz": -330
    },
    "id": "1C0N6vmIa0f8",
    "outputId": "da71a5ed-9371-4ce1-f243-9cf3a34ba1e1"
   },
   "outputs": [
    {
     "data": {
      "text/html": [
       "<div>\n",
       "<style scoped>\n",
       "    .dataframe tbody tr th:only-of-type {\n",
       "        vertical-align: middle;\n",
       "    }\n",
       "\n",
       "    .dataframe tbody tr th {\n",
       "        vertical-align: top;\n",
       "    }\n",
       "\n",
       "    .dataframe thead th {\n",
       "        text-align: right;\n",
       "    }\n",
       "</style>\n",
       "<table border=\"1\" class=\"dataframe\">\n",
       "  <thead>\n",
       "    <tr style=\"text-align: right;\">\n",
       "      <th></th>\n",
       "      <th>year_added</th>\n",
       "      <th>genre</th>\n",
       "      <th>title</th>\n",
       "    </tr>\n",
       "  </thead>\n",
       "  <tbody>\n",
       "    <tr>\n",
       "      <th>0</th>\n",
       "      <td>2013.0</td>\n",
       "      <td>TV Dramas</td>\n",
       "      <td>1</td>\n",
       "    </tr>\n",
       "    <tr>\n",
       "      <th>1</th>\n",
       "      <td>2013.0</td>\n",
       "      <td>Crime TV Shows</td>\n",
       "      <td>1</td>\n",
       "    </tr>\n",
       "    <tr>\n",
       "      <th>2</th>\n",
       "      <td>2014.0</td>\n",
       "      <td>TV Dramas</td>\n",
       "      <td>2</td>\n",
       "    </tr>\n",
       "    <tr>\n",
       "      <th>3</th>\n",
       "      <td>2014.0</td>\n",
       "      <td>Crime TV Shows</td>\n",
       "      <td>1</td>\n",
       "    </tr>\n",
       "    <tr>\n",
       "      <th>4</th>\n",
       "      <td>2015.0</td>\n",
       "      <td>International TV Shows</td>\n",
       "      <td>2</td>\n",
       "    </tr>\n",
       "  </tbody>\n",
       "</table>\n",
       "</div>"
      ],
      "text/plain": [
       "   year_added                    genre  title\n",
       "0      2013.0                TV Dramas      1\n",
       "1      2013.0           Crime TV Shows      1\n",
       "2      2014.0                TV Dramas      2\n",
       "3      2014.0           Crime TV Shows      1\n",
       "4      2015.0   International TV Shows      2"
      ]
     },
     "execution_count": 198,
     "metadata": {},
     "output_type": "execute_result"
    }
   ],
   "source": [
    "top_tv_df=tv_shows.loc[tv_shows['genre'].isin(top_tv_genre)]\n",
    "top_tv_df=top_tv_df.groupby(['year_added','genre'])['title'].nunique().reset_index()\n",
    "top_tv_df.head()"
   ]
  },
  {
   "cell_type": "code",
   "execution_count": 199,
   "metadata": {
    "executionInfo": {
     "elapsed": 1079,
     "status": "ok",
     "timestamp": 1688446321438,
     "user": {
      "displayName": "Rahul Hipparkar",
      "userId": "05812361921738235335"
     },
     "user_tz": -330
    },
    "id": "6uganan9bU9Z",
    "outputId": "14ad7465-ca89-480a-bcfc-91d8dda5f5ae"
   },
   "outputs": [
    {
     "data": {
      "image/png": "[encoded data removed]",
      "text/plain": [
       "<Figure size 640x480 with 1 Axes>"
      ]
     },
     "metadata": {},
     "output_type": "display_data"
    }
   ],
   "source": [
    "sns.lineplot(data=top_tv_df,x='year_added',y='title',hue='genre')\n",
    "plt.title('Trend analysis for popular movie genres on Netflix')\n",
    "sns.set(style='darkgrid')\n",
    "plt.xlabel('Year Added')\n",
    "plt.ylabel('Number of TV shows')\n",
    "plt.show()"
   ]
  },
  {
   "cell_type": "markdown",
   "metadata": {
    "id": "NTpp6o-Fbt_H"
   },
   "source": [
    "**Insight**:\n",
    "1. Netflix witnessed a consistent increase in the number of tv shows added to its content library across various genres between  2018 and 2019.\n",
    "2.  Starting from 2020, there has been a notable downward trend in the across each popular genre.\n"
   ]
  },
  {
   "cell_type": "markdown",
   "metadata": {
    "id": "tYmLhwL4d2J4"
   },
   "source": [
    "**Analysis**: There is no correlation among numeric attributes for given data."
   ]
  },
  {
   "cell_type": "code",
   "execution_count": 200,
   "metadata": {
    "id": "ZtHXTtGYgotw"
   },
   "outputs": [
    {
     "data": {
      "text/plain": [
       "show_id         object\n",
       "type            object\n",
       "title           object\n",
       "director        object\n",
       "cast            object\n",
       "country         object\n",
       "date_added      object\n",
       "release_year     int64\n",
       "rating          object\n",
       "duration        object\n",
       "listed_in       object\n",
       "description     object\n",
       "dtype: object"
      ]
     },
     "execution_count": 200,
     "metadata": {},
     "output_type": "execute_result"
    }
   ],
   "source": [
    "data.dtypes"
   ]
  },
  {
   "cell_type": "code",
   "execution_count": 201,
   "metadata": {},
   "outputs": [],
   "source": [
    "data['show_id']=pd.to_numeric(data['show_id'],errors='coerce').astype('Int64')\n"
   ]
  },
  {
   "cell_type": "code",
   "execution_count": 202,
   "metadata": {},
   "outputs": [
    {
     "data": {
      "text/plain": [
       "show_id          Int64\n",
       "type            object\n",
       "title           object\n",
       "director        object\n",
       "cast            object\n",
       "country         object\n",
       "date_added      object\n",
       "release_year     int64\n",
       "rating          object\n",
       "duration        object\n",
       "listed_in       object\n",
       "description     object\n",
       "dtype: object"
      ]
     },
     "execution_count": 202,
     "metadata": {},
     "output_type": "execute_result"
    }
   ],
   "source": [
    "data.dtypes\n"
   ]
  },
  {
   "cell_type": "code",
   "execution_count": 203,
   "metadata": {},
   "outputs": [
    {
     "data": {
      "text/html": [
       "<div>\n",
       "<style scoped>\n",
       "    .dataframe tbody tr th:only-of-type {\n",
       "        vertical-align: middle;\n",
       "    }\n",
       "\n",
       "    .dataframe tbody tr th {\n",
       "        vertical-align: top;\n",
       "    }\n",
       "\n",
       "    .dataframe thead th {\n",
       "        text-align: right;\n",
       "    }\n",
       "</style>\n",
       "<table border=\"1\" class=\"dataframe\">\n",
       "  <thead>\n",
       "    <tr style=\"text-align: right;\">\n",
       "      <th></th>\n",
       "      <th>show_id</th>\n",
       "      <th>type</th>\n",
       "      <th>title</th>\n",
       "      <th>director</th>\n",
       "      <th>cast</th>\n",
       "      <th>country</th>\n",
       "      <th>date_added</th>\n",
       "      <th>release_year</th>\n",
       "      <th>rating</th>\n",
       "      <th>duration</th>\n",
       "      <th>listed_in</th>\n",
       "      <th>description</th>\n",
       "    </tr>\n",
       "  </thead>\n",
       "  <tbody>\n",
       "    <tr>\n",
       "      <th>0</th>\n",
       "      <td>&lt;NA&gt;</td>\n",
       "      <td>Movie</td>\n",
       "      <td>Dick Johnson Is Dead</td>\n",
       "      <td>Kirsten Johnson</td>\n",
       "      <td>David Attenborough</td>\n",
       "      <td>United States</td>\n",
       "      <td>September 25, 2021</td>\n",
       "      <td>2020</td>\n",
       "      <td>PG-13</td>\n",
       "      <td>90 min</td>\n",
       "      <td>Documentaries</td>\n",
       "      <td>As her father nears the end of his life, filmm...</td>\n",
       "    </tr>\n",
       "    <tr>\n",
       "      <th>1</th>\n",
       "      <td>&lt;NA&gt;</td>\n",
       "      <td>TV Show</td>\n",
       "      <td>Blood &amp; Water</td>\n",
       "      <td>Rajiv Chilaka</td>\n",
       "      <td>Ama Qamata, Khosi Ngema, Gail Mabalane, Thaban...</td>\n",
       "      <td>South Africa</td>\n",
       "      <td>September 24, 2021</td>\n",
       "      <td>2021</td>\n",
       "      <td>TV-MA</td>\n",
       "      <td>2 Seasons</td>\n",
       "      <td>International TV Shows, TV Dramas, TV Mysteries</td>\n",
       "      <td>After crossing paths at a party, a Cape Town t...</td>\n",
       "    </tr>\n",
       "    <tr>\n",
       "      <th>2</th>\n",
       "      <td>&lt;NA&gt;</td>\n",
       "      <td>TV Show</td>\n",
       "      <td>Ganglands</td>\n",
       "      <td>Julien Leclercq</td>\n",
       "      <td>Sami Bouajila, Tracy Gotoas, Samuel Jouy, Nabi...</td>\n",
       "      <td>United States</td>\n",
       "      <td>September 24, 2021</td>\n",
       "      <td>2021</td>\n",
       "      <td>TV-MA</td>\n",
       "      <td>1 Season</td>\n",
       "      <td>Crime TV Shows, International TV Shows, TV Act...</td>\n",
       "      <td>To protect his family from a powerful drug lor...</td>\n",
       "    </tr>\n",
       "    <tr>\n",
       "      <th>3</th>\n",
       "      <td>&lt;NA&gt;</td>\n",
       "      <td>TV Show</td>\n",
       "      <td>Jailbirds New Orleans</td>\n",
       "      <td>Rajiv Chilaka</td>\n",
       "      <td>David Attenborough</td>\n",
       "      <td>United States</td>\n",
       "      <td>September 24, 2021</td>\n",
       "      <td>2021</td>\n",
       "      <td>TV-MA</td>\n",
       "      <td>1 Season</td>\n",
       "      <td>Docuseries, Reality TV</td>\n",
       "      <td>Feuds, flirtations and toilet talk go down amo...</td>\n",
       "    </tr>\n",
       "    <tr>\n",
       "      <th>4</th>\n",
       "      <td>&lt;NA&gt;</td>\n",
       "      <td>TV Show</td>\n",
       "      <td>Kota Factory</td>\n",
       "      <td>Rajiv Chilaka</td>\n",
       "      <td>Mayur More, Jitendra Kumar, Ranjan Raj, Alam K...</td>\n",
       "      <td>India</td>\n",
       "      <td>September 24, 2021</td>\n",
       "      <td>2021</td>\n",
       "      <td>TV-MA</td>\n",
       "      <td>2 Seasons</td>\n",
       "      <td>International TV Shows, Romantic TV Shows, TV ...</td>\n",
       "      <td>In a city of coaching centers known to train I...</td>\n",
       "    </tr>\n",
       "  </tbody>\n",
       "</table>\n",
       "</div>"
      ],
      "text/plain": [
       "   show_id     type                  title         director  \\\n",
       "0     <NA>    Movie   Dick Johnson Is Dead  Kirsten Johnson   \n",
       "1     <NA>  TV Show          Blood & Water    Rajiv Chilaka   \n",
       "2     <NA>  TV Show              Ganglands  Julien Leclercq   \n",
       "3     <NA>  TV Show  Jailbirds New Orleans    Rajiv Chilaka   \n",
       "4     <NA>  TV Show           Kota Factory    Rajiv Chilaka   \n",
       "\n",
       "                                                cast        country  \\\n",
       "0                                 David Attenborough  United States   \n",
       "1  Ama Qamata, Khosi Ngema, Gail Mabalane, Thaban...   South Africa   \n",
       "2  Sami Bouajila, Tracy Gotoas, Samuel Jouy, Nabi...  United States   \n",
       "3                                 David Attenborough  United States   \n",
       "4  Mayur More, Jitendra Kumar, Ranjan Raj, Alam K...          India   \n",
       "\n",
       "           date_added  release_year rating   duration  \\\n",
       "0  September 25, 2021          2020  PG-13     90 min   \n",
       "1  September 24, 2021          2021  TV-MA  2 Seasons   \n",
       "2  September 24, 2021          2021  TV-MA   1 Season   \n",
       "3  September 24, 2021          2021  TV-MA   1 Season   \n",
       "4  September 24, 2021          2021  TV-MA  2 Seasons   \n",
       "\n",
       "                                           listed_in  \\\n",
       "0                                      Documentaries   \n",
       "1    International TV Shows, TV Dramas, TV Mysteries   \n",
       "2  Crime TV Shows, International TV Shows, TV Act...   \n",
       "3                             Docuseries, Reality TV   \n",
       "4  International TV Shows, Romantic TV Shows, TV ...   \n",
       "\n",
       "                                         description  \n",
       "0  As her father nears the end of his life, filmm...  \n",
       "1  After crossing paths at a party, a Cape Town t...  \n",
       "2  To protect his family from a powerful drug lor...  \n",
       "3  Feuds, flirtations and toilet talk go down amo...  \n",
       "4  In a city of coaching centers known to train I...  "
      ]
     },
     "execution_count": 203,
     "metadata": {},
     "output_type": "execute_result"
    }
   ],
   "source": [
    "data.head()"
   ]
  },
  {
   "cell_type": "code",
   "execution_count": 204,
   "metadata": {},
   "outputs": [],
   "source": [
    "data['show_id']=data['show_id'].fillna(1).astype(int)"
   ]
  },
  {
   "cell_type": "code",
   "execution_count": 205,
   "metadata": {},
   "outputs": [
    {
     "data": {
      "text/html": [
       "<div>\n",
       "<style scoped>\n",
       "    .dataframe tbody tr th:only-of-type {\n",
       "        vertical-align: middle;\n",
       "    }\n",
       "\n",
       "    .dataframe tbody tr th {\n",
       "        vertical-align: top;\n",
       "    }\n",
       "\n",
       "    .dataframe thead th {\n",
       "        text-align: right;\n",
       "    }\n",
       "</style>\n",
       "<table border=\"1\" class=\"dataframe\">\n",
       "  <thead>\n",
       "    <tr style=\"text-align: right;\">\n",
       "      <th></th>\n",
       "      <th>show_id</th>\n",
       "      <th>type</th>\n",
       "      <th>title</th>\n",
       "      <th>director</th>\n",
       "      <th>cast</th>\n",
       "      <th>country</th>\n",
       "      <th>date_added</th>\n",
       "      <th>release_year</th>\n",
       "      <th>rating</th>\n",
       "      <th>duration</th>\n",
       "      <th>listed_in</th>\n",
       "      <th>description</th>\n",
       "    </tr>\n",
       "  </thead>\n",
       "  <tbody>\n",
       "    <tr>\n",
       "      <th>0</th>\n",
       "      <td>1</td>\n",
       "      <td>Movie</td>\n",
       "      <td>Dick Johnson Is Dead</td>\n",
       "      <td>Kirsten Johnson</td>\n",
       "      <td>David Attenborough</td>\n",
       "      <td>United States</td>\n",
       "      <td>September 25, 2021</td>\n",
       "      <td>2020</td>\n",
       "      <td>PG-13</td>\n",
       "      <td>90 min</td>\n",
       "      <td>Documentaries</td>\n",
       "      <td>As her father nears the end of his life, filmm...</td>\n",
       "    </tr>\n",
       "    <tr>\n",
       "      <th>1</th>\n",
       "      <td>1</td>\n",
       "      <td>TV Show</td>\n",
       "      <td>Blood &amp; Water</td>\n",
       "      <td>Rajiv Chilaka</td>\n",
       "      <td>Ama Qamata, Khosi Ngema, Gail Mabalane, Thaban...</td>\n",
       "      <td>South Africa</td>\n",
       "      <td>September 24, 2021</td>\n",
       "      <td>2021</td>\n",
       "      <td>TV-MA</td>\n",
       "      <td>2 Seasons</td>\n",
       "      <td>International TV Shows, TV Dramas, TV Mysteries</td>\n",
       "      <td>After crossing paths at a party, a Cape Town t...</td>\n",
       "    </tr>\n",
       "    <tr>\n",
       "      <th>2</th>\n",
       "      <td>1</td>\n",
       "      <td>TV Show</td>\n",
       "      <td>Ganglands</td>\n",
       "      <td>Julien Leclercq</td>\n",
       "      <td>Sami Bouajila, Tracy Gotoas, Samuel Jouy, Nabi...</td>\n",
       "      <td>United States</td>\n",
       "      <td>September 24, 2021</td>\n",
       "      <td>2021</td>\n",
       "      <td>TV-MA</td>\n",
       "      <td>1 Season</td>\n",
       "      <td>Crime TV Shows, International TV Shows, TV Act...</td>\n",
       "      <td>To protect his family from a powerful drug lor...</td>\n",
       "    </tr>\n",
       "    <tr>\n",
       "      <th>3</th>\n",
       "      <td>1</td>\n",
       "      <td>TV Show</td>\n",
       "      <td>Jailbirds New Orleans</td>\n",
       "      <td>Rajiv Chilaka</td>\n",
       "      <td>David Attenborough</td>\n",
       "      <td>United States</td>\n",
       "      <td>September 24, 2021</td>\n",
       "      <td>2021</td>\n",
       "      <td>TV-MA</td>\n",
       "      <td>1 Season</td>\n",
       "      <td>Docuseries, Reality TV</td>\n",
       "      <td>Feuds, flirtations and toilet talk go down amo...</td>\n",
       "    </tr>\n",
       "    <tr>\n",
       "      <th>4</th>\n",
       "      <td>1</td>\n",
       "      <td>TV Show</td>\n",
       "      <td>Kota Factory</td>\n",
       "      <td>Rajiv Chilaka</td>\n",
       "      <td>Mayur More, Jitendra Kumar, Ranjan Raj, Alam K...</td>\n",
       "      <td>India</td>\n",
       "      <td>September 24, 2021</td>\n",
       "      <td>2021</td>\n",
       "      <td>TV-MA</td>\n",
       "      <td>2 Seasons</td>\n",
       "      <td>International TV Shows, Romantic TV Shows, TV ...</td>\n",
       "      <td>In a city of coaching centers known to train I...</td>\n",
       "    </tr>\n",
       "  </tbody>\n",
       "</table>\n",
       "</div>"
      ],
      "text/plain": [
       "   show_id     type                  title         director  \\\n",
       "0        1    Movie   Dick Johnson Is Dead  Kirsten Johnson   \n",
       "1        1  TV Show          Blood & Water    Rajiv Chilaka   \n",
       "2        1  TV Show              Ganglands  Julien Leclercq   \n",
       "3        1  TV Show  Jailbirds New Orleans    Rajiv Chilaka   \n",
       "4        1  TV Show           Kota Factory    Rajiv Chilaka   \n",
       "\n",
       "                                                cast        country  \\\n",
       "0                                 David Attenborough  United States   \n",
       "1  Ama Qamata, Khosi Ngema, Gail Mabalane, Thaban...   South Africa   \n",
       "2  Sami Bouajila, Tracy Gotoas, Samuel Jouy, Nabi...  United States   \n",
       "3                                 David Attenborough  United States   \n",
       "4  Mayur More, Jitendra Kumar, Ranjan Raj, Alam K...          India   \n",
       "\n",
       "           date_added  release_year rating   duration  \\\n",
       "0  September 25, 2021          2020  PG-13     90 min   \n",
       "1  September 24, 2021          2021  TV-MA  2 Seasons   \n",
       "2  September 24, 2021          2021  TV-MA   1 Season   \n",
       "3  September 24, 2021          2021  TV-MA   1 Season   \n",
       "4  September 24, 2021          2021  TV-MA  2 Seasons   \n",
       "\n",
       "                                           listed_in  \\\n",
       "0                                      Documentaries   \n",
       "1    International TV Shows, TV Dramas, TV Mysteries   \n",
       "2  Crime TV Shows, International TV Shows, TV Act...   \n",
       "3                             Docuseries, Reality TV   \n",
       "4  International TV Shows, Romantic TV Shows, TV ...   \n",
       "\n",
       "                                         description  \n",
       "0  As her father nears the end of his life, filmm...  \n",
       "1  After crossing paths at a party, a Cape Town t...  \n",
       "2  To protect his family from a powerful drug lor...  \n",
       "3  Feuds, flirtations and toilet talk go down amo...  \n",
       "4  In a city of coaching centers known to train I...  "
      ]
     },
     "execution_count": 205,
     "metadata": {},
     "output_type": "execute_result"
    }
   ],
   "source": [
    "data.head()"
   ]
  },
  {
   "cell_type": "code",
   "execution_count": 206,
   "metadata": {},
   "outputs": [
    {
     "data": {
      "text/plain": [
       "show_id          int32\n",
       "type            object\n",
       "title           object\n",
       "director        object\n",
       "cast            object\n",
       "country         object\n",
       "date_added      object\n",
       "release_year     int64\n",
       "rating          object\n",
       "duration        object\n",
       "listed_in       object\n",
       "description     object\n",
       "dtype: object"
      ]
     },
     "execution_count": 206,
     "metadata": {},
     "output_type": "execute_result"
    }
   ],
   "source": [
    "data.dtypes"
   ]
  },
  {
   "cell_type": "code",
   "execution_count": 207,
   "metadata": {},
   "outputs": [],
   "source": [
    "data['date_added']=pd.to_datetime(data['date_added'],errors='coerce')"
   ]
  },
  {
   "cell_type": "code",
   "execution_count": 208,
   "metadata": {},
   "outputs": [],
   "source": [
    "data['date_added']=data['date_added'].dt.year\n"
   ]
  },
  {
   "cell_type": "code",
   "execution_count": 209,
   "metadata": {},
   "outputs": [
    {
     "data": {
      "text/plain": [
       "show_id           int32\n",
       "type             object\n",
       "title            object\n",
       "director         object\n",
       "cast             object\n",
       "country          object\n",
       "date_added      float64\n",
       "release_year      int64\n",
       "rating           object\n",
       "duration         object\n",
       "listed_in        object\n",
       "description      object\n",
       "dtype: object"
      ]
     },
     "execution_count": 209,
     "metadata": {},
     "output_type": "execute_result"
    }
   ],
   "source": [
    "\n",
    "data.dtypes"
   ]
  },
  {
   "cell_type": "code",
   "execution_count": 210,
   "metadata": {},
   "outputs": [],
   "source": [
    "data['rating']=data['rating'].astype('category')"
   ]
  },
  {
   "cell_type": "code",
   "execution_count": 211,
   "metadata": {},
   "outputs": [
    {
     "data": {
      "text/plain": [
       "show_id            int32\n",
       "type              object\n",
       "title             object\n",
       "director          object\n",
       "cast              object\n",
       "country           object\n",
       "date_added       float64\n",
       "release_year       int64\n",
       "rating          category\n",
       "duration          object\n",
       "listed_in         object\n",
       "description       object\n",
       "dtype: object"
      ]
     },
     "execution_count": 211,
     "metadata": {},
     "output_type": "execute_result"
    }
   ],
   "source": [
    "data.dtypes"
   ]
  },
  {
   "cell_type": "code",
   "execution_count": 212,
   "metadata": {},
   "outputs": [
    {
     "data": {
      "text/html": [
       "<div>\n",
       "<style scoped>\n",
       "    .dataframe tbody tr th:only-of-type {\n",
       "        vertical-align: middle;\n",
       "    }\n",
       "\n",
       "    .dataframe tbody tr th {\n",
       "        vertical-align: top;\n",
       "    }\n",
       "\n",
       "    .dataframe thead th {\n",
       "        text-align: right;\n",
       "    }\n",
       "</style>\n",
       "<table border=\"1\" class=\"dataframe\">\n",
       "  <thead>\n",
       "    <tr style=\"text-align: right;\">\n",
       "      <th></th>\n",
       "      <th>show_id</th>\n",
       "      <th>type</th>\n",
       "      <th>title</th>\n",
       "      <th>director</th>\n",
       "      <th>cast</th>\n",
       "      <th>country</th>\n",
       "      <th>date_added</th>\n",
       "      <th>release_year</th>\n",
       "      <th>rating</th>\n",
       "      <th>duration</th>\n",
       "      <th>listed_in</th>\n",
       "      <th>description</th>\n",
       "    </tr>\n",
       "  </thead>\n",
       "  <tbody>\n",
       "    <tr>\n",
       "      <th>0</th>\n",
       "      <td>1</td>\n",
       "      <td>Movie</td>\n",
       "      <td>Dick Johnson Is Dead</td>\n",
       "      <td>Kirsten Johnson</td>\n",
       "      <td>David Attenborough</td>\n",
       "      <td>United States</td>\n",
       "      <td>2021.0</td>\n",
       "      <td>2020</td>\n",
       "      <td>PG-13</td>\n",
       "      <td>90 min</td>\n",
       "      <td>Documentaries</td>\n",
       "      <td>As her father nears the end of his life, filmm...</td>\n",
       "    </tr>\n",
       "    <tr>\n",
       "      <th>1</th>\n",
       "      <td>1</td>\n",
       "      <td>TV Show</td>\n",
       "      <td>Blood &amp; Water</td>\n",
       "      <td>Rajiv Chilaka</td>\n",
       "      <td>Ama Qamata, Khosi Ngema, Gail Mabalane, Thaban...</td>\n",
       "      <td>South Africa</td>\n",
       "      <td>2021.0</td>\n",
       "      <td>2021</td>\n",
       "      <td>TV-MA</td>\n",
       "      <td>2 Seasons</td>\n",
       "      <td>International TV Shows, TV Dramas, TV Mysteries</td>\n",
       "      <td>After crossing paths at a party, a Cape Town t...</td>\n",
       "    </tr>\n",
       "    <tr>\n",
       "      <th>2</th>\n",
       "      <td>1</td>\n",
       "      <td>TV Show</td>\n",
       "      <td>Ganglands</td>\n",
       "      <td>Julien Leclercq</td>\n",
       "      <td>Sami Bouajila, Tracy Gotoas, Samuel Jouy, Nabi...</td>\n",
       "      <td>United States</td>\n",
       "      <td>2021.0</td>\n",
       "      <td>2021</td>\n",
       "      <td>TV-MA</td>\n",
       "      <td>1 Season</td>\n",
       "      <td>Crime TV Shows, International TV Shows, TV Act...</td>\n",
       "      <td>To protect his family from a powerful drug lor...</td>\n",
       "    </tr>\n",
       "    <tr>\n",
       "      <th>3</th>\n",
       "      <td>1</td>\n",
       "      <td>TV Show</td>\n",
       "      <td>Jailbirds New Orleans</td>\n",
       "      <td>Rajiv Chilaka</td>\n",
       "      <td>David Attenborough</td>\n",
       "      <td>United States</td>\n",
       "      <td>2021.0</td>\n",
       "      <td>2021</td>\n",
       "      <td>TV-MA</td>\n",
       "      <td>1 Season</td>\n",
       "      <td>Docuseries, Reality TV</td>\n",
       "      <td>Feuds, flirtations and toilet talk go down amo...</td>\n",
       "    </tr>\n",
       "    <tr>\n",
       "      <th>4</th>\n",
       "      <td>1</td>\n",
       "      <td>TV Show</td>\n",
       "      <td>Kota Factory</td>\n",
       "      <td>Rajiv Chilaka</td>\n",
       "      <td>Mayur More, Jitendra Kumar, Ranjan Raj, Alam K...</td>\n",
       "      <td>India</td>\n",
       "      <td>2021.0</td>\n",
       "      <td>2021</td>\n",
       "      <td>TV-MA</td>\n",
       "      <td>2 Seasons</td>\n",
       "      <td>International TV Shows, Romantic TV Shows, TV ...</td>\n",
       "      <td>In a city of coaching centers known to train I...</td>\n",
       "    </tr>\n",
       "  </tbody>\n",
       "</table>\n",
       "</div>"
      ],
      "text/plain": [
       "   show_id     type                  title         director  \\\n",
       "0        1    Movie   Dick Johnson Is Dead  Kirsten Johnson   \n",
       "1        1  TV Show          Blood & Water    Rajiv Chilaka   \n",
       "2        1  TV Show              Ganglands  Julien Leclercq   \n",
       "3        1  TV Show  Jailbirds New Orleans    Rajiv Chilaka   \n",
       "4        1  TV Show           Kota Factory    Rajiv Chilaka   \n",
       "\n",
       "                                                cast        country  \\\n",
       "0                                 David Attenborough  United States   \n",
       "1  Ama Qamata, Khosi Ngema, Gail Mabalane, Thaban...   South Africa   \n",
       "2  Sami Bouajila, Tracy Gotoas, Samuel Jouy, Nabi...  United States   \n",
       "3                                 David Attenborough  United States   \n",
       "4  Mayur More, Jitendra Kumar, Ranjan Raj, Alam K...          India   \n",
       "\n",
       "   date_added  release_year rating   duration  \\\n",
       "0      2021.0          2020  PG-13     90 min   \n",
       "1      2021.0          2021  TV-MA  2 Seasons   \n",
       "2      2021.0          2021  TV-MA   1 Season   \n",
       "3      2021.0          2021  TV-MA   1 Season   \n",
       "4      2021.0          2021  TV-MA  2 Seasons   \n",
       "\n",
       "                                           listed_in  \\\n",
       "0                                      Documentaries   \n",
       "1    International TV Shows, TV Dramas, TV Mysteries   \n",
       "2  Crime TV Shows, International TV Shows, TV Act...   \n",
       "3                             Docuseries, Reality TV   \n",
       "4  International TV Shows, Romantic TV Shows, TV ...   \n",
       "\n",
       "                                         description  \n",
       "0  As her father nears the end of his life, filmm...  \n",
       "1  After crossing paths at a party, a Cape Town t...  \n",
       "2  To protect his family from a powerful drug lor...  \n",
       "3  Feuds, flirtations and toilet talk go down amo...  \n",
       "4  In a city of coaching centers known to train I...  "
      ]
     },
     "execution_count": 212,
     "metadata": {},
     "output_type": "execute_result"
    }
   ],
   "source": [
    "data.head()"
   ]
  },
  {
   "cell_type": "code",
   "execution_count": 213,
   "metadata": {},
   "outputs": [
    {
     "name": "stdout",
     "output_type": "stream",
     "text": [
      "   show_id     type                  title         director  \\\n",
      "0        1    Movie   Dick Johnson Is Dead  Kirsten Johnson   \n",
      "1        1  TV Show          Blood & Water    Rajiv Chilaka   \n",
      "2        1  TV Show              Ganglands  Julien Leclercq   \n",
      "3        1  TV Show  Jailbirds New Orleans    Rajiv Chilaka   \n",
      "4        1  TV Show           Kota Factory    Rajiv Chilaka   \n",
      "\n",
      "                                                cast        country  \\\n",
      "0                                 David Attenborough  United States   \n",
      "1  Ama Qamata, Khosi Ngema, Gail Mabalane, Thaban...   South Africa   \n",
      "2  Sami Bouajila, Tracy Gotoas, Samuel Jouy, Nabi...  United States   \n",
      "3                                 David Attenborough  United States   \n",
      "4  Mayur More, Jitendra Kumar, Ranjan Raj, Alam K...          India   \n",
      "\n",
      "   date_added  release_year rating  duration  \\\n",
      "0      2021.0          2020  PG-13      90.0   \n",
      "1      2021.0          2021  TV-MA       NaN   \n",
      "2      2021.0          2021  TV-MA       NaN   \n",
      "3      2021.0          2021  TV-MA       NaN   \n",
      "4      2021.0          2021  TV-MA       NaN   \n",
      "\n",
      "                                           listed_in  \\\n",
      "0                                      Documentaries   \n",
      "1    International TV Shows, TV Dramas, TV Mysteries   \n",
      "2  Crime TV Shows, International TV Shows, TV Act...   \n",
      "3                             Docuseries, Reality TV   \n",
      "4  International TV Shows, Romantic TV Shows, TV ...   \n",
      "\n",
      "                                         description  \n",
      "0  As her father nears the end of his life, filmm...  \n",
      "1  After crossing paths at a party, a Cape Town t...  \n",
      "2  To protect his family from a powerful drug lor...  \n",
      "3  Feuds, flirtations and toilet talk go down amo...  \n",
      "4  In a city of coaching centers known to train I...  \n",
      "show_id            int32\n",
      "type              object\n",
      "title             object\n",
      "director          object\n",
      "cast              object\n",
      "country           object\n",
      "date_added       float64\n",
      "release_year       int64\n",
      "rating          category\n",
      "duration         float64\n",
      "listed_in         object\n",
      "description       object\n",
      "dtype: object\n"
     ]
    }
   ],
   "source": [
    "data['duration'] = data['duration'].str.replace(' min', '')\n",
    "data['duration'] = pd.to_numeric(data['duration'],errors='coerce', downcast='integer')\n",
    "print(data.head())\n",
    "print(data.dtypes)"
   ]
  },
  {
   "cell_type": "code",
   "execution_count": 214,
   "metadata": {},
   "outputs": [
    {
     "data": {
      "text/plain": [
       "show_id            0\n",
       "type               0\n",
       "title              0\n",
       "director           0\n",
       "cast               0\n",
       "country            0\n",
       "date_added        86\n",
       "release_year       0\n",
       "rating             0\n",
       "duration        2642\n",
       "listed_in          0\n",
       "description        0\n",
       "dtype: int64"
      ]
     },
     "execution_count": 214,
     "metadata": {},
     "output_type": "execute_result"
    }
   ],
   "source": [
    "data.isnull().sum()"
   ]
  },
  {
   "cell_type": "code",
   "execution_count": 217,
   "metadata": {},
   "outputs": [],
   "source": [
    "data.dropna(subset=['duration'], inplace=True)"
   ]
  },
  {
   "cell_type": "raw",
   "metadata": {},
   "source": [
    "data.isnull().sum()"
   ]
  },
  {
   "cell_type": "code",
   "execution_count": 218,
   "metadata": {},
   "outputs": [
    {
     "data": {
      "text/plain": [
       "show_id          0\n",
       "type             0\n",
       "title            0\n",
       "director         0\n",
       "cast             0\n",
       "country          0\n",
       "date_added      86\n",
       "release_year     0\n",
       "rating           0\n",
       "duration         0\n",
       "listed_in        0\n",
       "description      0\n",
       "dtype: int64"
      ]
     },
     "execution_count": 218,
     "metadata": {},
     "output_type": "execute_result"
    }
   ],
   "source": [
    "data.isnull().sum()"
   ]
  },
  {
   "cell_type": "code",
   "execution_count": 219,
   "metadata": {},
   "outputs": [],
   "source": [
    "data.dropna(subset=['date_added'], inplace=True)"
   ]
  },
  {
   "cell_type": "code",
   "execution_count": 220,
   "metadata": {},
   "outputs": [
    {
     "data": {
      "text/plain": [
       "show_id         0\n",
       "type            0\n",
       "title           0\n",
       "director        0\n",
       "cast            0\n",
       "country         0\n",
       "date_added      0\n",
       "release_year    0\n",
       "rating          0\n",
       "duration        0\n",
       "listed_in       0\n",
       "description     0\n",
       "dtype: int64"
      ]
     },
     "execution_count": 220,
     "metadata": {},
     "output_type": "execute_result"
    }
   ],
   "source": [
    "data.isnull().sum()"
   ]
  },
  {
   "cell_type": "code",
   "execution_count": 221,
   "metadata": {},
   "outputs": [
    {
     "data": {
      "text/plain": [
       "show_id            int32\n",
       "type              object\n",
       "title             object\n",
       "director          object\n",
       "cast              object\n",
       "country           object\n",
       "date_added       float64\n",
       "release_year       int64\n",
       "rating          category\n",
       "duration         float64\n",
       "listed_in         object\n",
       "description       object\n",
       "dtype: object"
      ]
     },
     "execution_count": 221,
     "metadata": {},
     "output_type": "execute_result"
    }
   ],
   "source": [
    "data.dtypes"
   ]
  },
  {
   "cell_type": "code",
   "execution_count": null,
   "metadata": {},
   "outputs": [],
   "source": [
    "data.to_csv('"
   ]
  }
 ],
 "metadata": {
  "kaggle": {
   "accelerator": "none",
   "dataSources": [],
   "dockerImageVersionId": 30527,
   "isGpuEnabled": false,
   "isInternetEnabled": false,
   "language": "python",
   "sourceType": "notebook"
  },
  "kernelspec": {
   "display_name": "Python 3 (ipykernel)",
   "language": "python",
   "name": "python3"
  },
  "language_info": {
   "codemirror_mode": {
    "name": "ipython",
    "version": 3
   },
   "file_extension": ".py",
   "mimetype": "text/x-python",
   "name": "python",
   "nbconvert_exporter": "python",
   "pygments_lexer": "ipython3",
   "version": "3.12.2"
  }
 },
 "nbformat": 4,
 "nbformat_minor": 4
}
